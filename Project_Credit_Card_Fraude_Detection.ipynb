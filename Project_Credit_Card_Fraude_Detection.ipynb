{
  "nbformat": 4,
  "nbformat_minor": 0,
  "metadata": {
    "colab": {
      "name": "Project - Credit_Card_Fraude_Detection.ipynb",
      "provenance": [],
      "collapsed_sections": [],
      "toc_visible": true,
      "include_colab_link": true
    },
    "kernelspec": {
      "name": "python3",
      "display_name": "Python 3"
    }
  },
  "cells": [
    {
      "cell_type": "markdown",
      "metadata": {
        "id": "view-in-github",
        "colab_type": "text"
      },
      "source": [
        "<a href=\"https://colab.research.google.com/github/glauciodrumond/Data_Science_Projects/blob/master/Project_Credit_Card_Fraude_Detection.ipynb\" target=\"_parent\"><img src=\"https://colab.research.google.com/assets/colab-badge.svg\" alt=\"Open In Colab\"/></a>"
      ]
    },
    {
      "cell_type": "markdown",
      "metadata": {
        "id": "IR56trFcPcC1",
        "colab_type": "text"
      },
      "source": [
        "# Credit Card Fraude Detection\n",
        "\n",
        "In this project, we will address the problem of credit card fraud, one of the main concerns of financial institutions such as banks and fintech. In Brazil alone, about 12.1 million people already suffered from some form of financial fraud in the last year. Translating into values, the financial scams have exceeded the amount of R$ 1.8 billion in losses per year in the last 12 months.\n",
        "\n",
        "\n",
        "<p align=center><img src=\"http://sigmoidal.ai/wp-content/uploads/2019/12/900.jpg\" width=\"60%\"></p>\n",
        "\n",
        "Among these frauds, those involving credit cards are of great relevance since their non-detection will result in considerable losses, both for the consumer and for the financial institution.\n",
        "\n",
        "Another factor to be considered is the number of false positives, which in those times when you tried to make a purchase and had your card blocked preventively - probably causing stress and embarrassment.\n",
        "\n",
        "For all these reasons, investment in the area of ​​fraud detection through Artificial Intelligence has been growing every year, representing a great opportunity in Data Science.\n",
        "\n",
        "With large volumes of data as a historical basis, a machine learning algorithm just a little better than the previous ones already represents savings of millions of Reais. And that is the challenge, to increasingly improve the use of algorithms to inhibit or prevent fraudulent transactions."
      ]
    },
    {
      "cell_type": "markdown",
      "metadata": {
        "id": "0HVmpIxQWT4Y",
        "colab_type": "text"
      },
      "source": [
        "## Importing the data\n",
        "\n",
        "The data that we will use in this project have been made available by some European credit card companies. The dataset represents financial transactions that took place in the two-day period, where 492 frauds were classified in almost 290 thousand transactions.\n",
        "\n",
        "As you can see, this is an extremely unbalanced data set, where fraud represents only 0.17% of the total.\n",
        "\n",
        "Another interesting detail is that the features are all numeric, and were not featured (due to privacy and security issues). Thus, the column's name is represented by$[V1, V2, V3, \\dots, V28]$\n",
        "\n",
        "<p align=center><img src=\"http://sigmoidal.ai/wp-content/uploads/2019/12/54.jpg\" width=\"50%\"></p>\n",
        "\n",
        "[On the original data page](https://www.kaggle.com/mlg-ulb/creditcardfraud), it is also reported that the variables underwent a transformation known as Principal Component Analysis (PCA).\n",
        "\n",
        "PCA allows the reduction of dimensionality while maintaining the largest possible amount of information. To achieve this, the algorithm finds a new set of resources - the so-called **components**.\n",
        "\n",
        "These components are less than or equal to the original variables. In the case of this project, the components found by the transformation of the PCA are the columns themselves $[V1, V2, V3, \\dots, V28]$."
      ]
    },
    {
      "cell_type": "code",
      "metadata": {
        "id": "oQ4bNy7udtEE",
        "colab_type": "code",
        "outputId": "4318d898-7ef3-4583-f8cb-44f2db10e91e",
        "colab": {
          "base_uri": "https://localhost:8080/",
          "height": 71
        }
      },
      "source": [
        "# importing libraries for data analysis\n",
        "# importar os pacotes para analise dos dados\n",
        "import pandas as pd\n",
        "import numpy as np\n",
        "import matplotlib.pyplot as plt\n",
        "from matplotlib.ticker import StrMethodFormatter\n",
        "import matplotlib.ticker as ticker\n",
        "import seaborn as sns\n",
        "sns.set_style()\n",
        "\n",
        "import warnings\n",
        "warnings.filterwarnings('ignore')"
      ],
      "execution_count": 1,
      "outputs": [
        {
          "output_type": "stream",
          "text": [
            "/usr/local/lib/python3.6/dist-packages/statsmodels/tools/_testing.py:19: FutureWarning: pandas.util.testing is deprecated. Use the functions in the public API at pandas.testing instead.\n",
            "  import pandas.util.testing as tm\n"
          ],
          "name": "stderr"
        }
      ]
    },
    {
      "cell_type": "markdown",
      "metadata": {
        "id": "g5XDTWW5LRVe",
        "colab_type": "text"
      },
      "source": [
        "To be easier, there is a *link* with direct access to `csv`. With this, we just need to import our dataset using the method `pd.read_csv()`."
      ]
    },
    {
      "cell_type": "code",
      "metadata": {
        "id": "4NxUOfDOj2j8",
        "colab_type": "code",
        "colab": {}
      },
      "source": [
        "# File path to get the dataset\n",
        "# Caminho do arquivo para chegar ao dataset\n",
        "file_path = \"https://www.dropbox.com/s/b44o3t3ehmnx2b7/creditcard.csv?dl=1\"\n",
        "\n",
        "# importing the data to a dataframe\n",
        "# importar os  para um dataframe\n",
        "df_raw = pd.read_csv(file_path)\n"
      ],
      "execution_count": 0,
      "outputs": []
    },
    {
      "cell_type": "markdown",
      "metadata": {
        "id": "8UtXyZ6stlSM",
        "colab_type": "text"
      },
      "source": [
        "#Exploratory Analysis \n",
        "\n",
        "With our data imported inside the data frame structure and not having a necessity of any adjustment or configuration, in this case, we will start our exploratory analysis to prepare to create a Machine Learning algorithm.\n"
      ]
    },
    {
      "cell_type": "markdown",
      "metadata": {
        "id": "rZ-2ZEAUSiO8",
        "colab_type": "text"
      },
      "source": [
        "### *What is our data frame shape?*\n"
      ]
    },
    {
      "cell_type": "code",
      "metadata": {
        "id": "TjZP4Q-BS6jL",
        "colab_type": "code",
        "outputId": "843976ac-190b-4b7e-bb80-743e1e959cb9",
        "colab": {
          "base_uri": "https://localhost:8080/",
          "height": 68
        }
      },
      "source": [
        "# show dataframe shape\n",
        "# mostrar tamanho do dataframe\n",
        "print ('Our dataframe has: ')\n",
        "print(\"Rows: \" , df_raw.shape[0])\n",
        "print(\"Columns: \", df_raw.shape[1])"
      ],
      "execution_count": 3,
      "outputs": [
        {
          "output_type": "stream",
          "text": [
            "Our dataframe has: \n",
            "Rows:  284807\n",
            "Columns:  31\n"
          ],
          "name": "stdout"
        }
      ]
    },
    {
      "cell_type": "markdown",
      "metadata": {
        "id": "QWXUV0CUQh25",
        "colab_type": "text"
      },
      "source": [
        "*Using the method `.head()` we can check our data frame first five entries and observe some things such as:*\n",
        "\n",
        "\n",
        "* The columns Time and Amount were preserved keeping original values\n",
        "\n",
        "* The variable Class means if the transactions was a normal one (value=0) or a fraud(value=1)\n",
        "\n",
        "* We can see how the PCA transformation changed the left the features  $[V1, V2, V3, \\dots, V28]$"
      ]
    },
    {
      "cell_type": "code",
      "metadata": {
        "id": "NG3hrzDZMHvG",
        "colab_type": "code",
        "outputId": "3db1d68b-1aec-4a0d-f69b-95d5b5d97dba",
        "colab": {
          "base_uri": "https://localhost:8080/",
          "height": 224
        }
      },
      "source": [
        "# show first 5 entries of our dataset\n",
        "# mostras as 5 primeiras entradas do nosso dataset\n",
        "df_raw.head()"
      ],
      "execution_count": 4,
      "outputs": [
        {
          "output_type": "execute_result",
          "data": {
            "text/html": [
              "<div>\n",
              "<style scoped>\n",
              "    .dataframe tbody tr th:only-of-type {\n",
              "        vertical-align: middle;\n",
              "    }\n",
              "\n",
              "    .dataframe tbody tr th {\n",
              "        vertical-align: top;\n",
              "    }\n",
              "\n",
              "    .dataframe thead th {\n",
              "        text-align: right;\n",
              "    }\n",
              "</style>\n",
              "<table border=\"1\" class=\"dataframe\">\n",
              "  <thead>\n",
              "    <tr style=\"text-align: right;\">\n",
              "      <th></th>\n",
              "      <th>Time</th>\n",
              "      <th>V1</th>\n",
              "      <th>V2</th>\n",
              "      <th>V3</th>\n",
              "      <th>V4</th>\n",
              "      <th>V5</th>\n",
              "      <th>V6</th>\n",
              "      <th>V7</th>\n",
              "      <th>V8</th>\n",
              "      <th>V9</th>\n",
              "      <th>V10</th>\n",
              "      <th>V11</th>\n",
              "      <th>V12</th>\n",
              "      <th>V13</th>\n",
              "      <th>V14</th>\n",
              "      <th>V15</th>\n",
              "      <th>V16</th>\n",
              "      <th>V17</th>\n",
              "      <th>V18</th>\n",
              "      <th>V19</th>\n",
              "      <th>V20</th>\n",
              "      <th>V21</th>\n",
              "      <th>V22</th>\n",
              "      <th>V23</th>\n",
              "      <th>V24</th>\n",
              "      <th>V25</th>\n",
              "      <th>V26</th>\n",
              "      <th>V27</th>\n",
              "      <th>V28</th>\n",
              "      <th>Amount</th>\n",
              "      <th>Class</th>\n",
              "    </tr>\n",
              "  </thead>\n",
              "  <tbody>\n",
              "    <tr>\n",
              "      <th>0</th>\n",
              "      <td>0.0</td>\n",
              "      <td>-1.359807</td>\n",
              "      <td>-0.072781</td>\n",
              "      <td>2.536347</td>\n",
              "      <td>1.378155</td>\n",
              "      <td>-0.338321</td>\n",
              "      <td>0.462388</td>\n",
              "      <td>0.239599</td>\n",
              "      <td>0.098698</td>\n",
              "      <td>0.363787</td>\n",
              "      <td>0.090794</td>\n",
              "      <td>-0.551600</td>\n",
              "      <td>-0.617801</td>\n",
              "      <td>-0.991390</td>\n",
              "      <td>-0.311169</td>\n",
              "      <td>1.468177</td>\n",
              "      <td>-0.470401</td>\n",
              "      <td>0.207971</td>\n",
              "      <td>0.025791</td>\n",
              "      <td>0.403993</td>\n",
              "      <td>0.251412</td>\n",
              "      <td>-0.018307</td>\n",
              "      <td>0.277838</td>\n",
              "      <td>-0.110474</td>\n",
              "      <td>0.066928</td>\n",
              "      <td>0.128539</td>\n",
              "      <td>-0.189115</td>\n",
              "      <td>0.133558</td>\n",
              "      <td>-0.021053</td>\n",
              "      <td>149.62</td>\n",
              "      <td>0</td>\n",
              "    </tr>\n",
              "    <tr>\n",
              "      <th>1</th>\n",
              "      <td>0.0</td>\n",
              "      <td>1.191857</td>\n",
              "      <td>0.266151</td>\n",
              "      <td>0.166480</td>\n",
              "      <td>0.448154</td>\n",
              "      <td>0.060018</td>\n",
              "      <td>-0.082361</td>\n",
              "      <td>-0.078803</td>\n",
              "      <td>0.085102</td>\n",
              "      <td>-0.255425</td>\n",
              "      <td>-0.166974</td>\n",
              "      <td>1.612727</td>\n",
              "      <td>1.065235</td>\n",
              "      <td>0.489095</td>\n",
              "      <td>-0.143772</td>\n",
              "      <td>0.635558</td>\n",
              "      <td>0.463917</td>\n",
              "      <td>-0.114805</td>\n",
              "      <td>-0.183361</td>\n",
              "      <td>-0.145783</td>\n",
              "      <td>-0.069083</td>\n",
              "      <td>-0.225775</td>\n",
              "      <td>-0.638672</td>\n",
              "      <td>0.101288</td>\n",
              "      <td>-0.339846</td>\n",
              "      <td>0.167170</td>\n",
              "      <td>0.125895</td>\n",
              "      <td>-0.008983</td>\n",
              "      <td>0.014724</td>\n",
              "      <td>2.69</td>\n",
              "      <td>0</td>\n",
              "    </tr>\n",
              "    <tr>\n",
              "      <th>2</th>\n",
              "      <td>1.0</td>\n",
              "      <td>-1.358354</td>\n",
              "      <td>-1.340163</td>\n",
              "      <td>1.773209</td>\n",
              "      <td>0.379780</td>\n",
              "      <td>-0.503198</td>\n",
              "      <td>1.800499</td>\n",
              "      <td>0.791461</td>\n",
              "      <td>0.247676</td>\n",
              "      <td>-1.514654</td>\n",
              "      <td>0.207643</td>\n",
              "      <td>0.624501</td>\n",
              "      <td>0.066084</td>\n",
              "      <td>0.717293</td>\n",
              "      <td>-0.165946</td>\n",
              "      <td>2.345865</td>\n",
              "      <td>-2.890083</td>\n",
              "      <td>1.109969</td>\n",
              "      <td>-0.121359</td>\n",
              "      <td>-2.261857</td>\n",
              "      <td>0.524980</td>\n",
              "      <td>0.247998</td>\n",
              "      <td>0.771679</td>\n",
              "      <td>0.909412</td>\n",
              "      <td>-0.689281</td>\n",
              "      <td>-0.327642</td>\n",
              "      <td>-0.139097</td>\n",
              "      <td>-0.055353</td>\n",
              "      <td>-0.059752</td>\n",
              "      <td>378.66</td>\n",
              "      <td>0</td>\n",
              "    </tr>\n",
              "    <tr>\n",
              "      <th>3</th>\n",
              "      <td>1.0</td>\n",
              "      <td>-0.966272</td>\n",
              "      <td>-0.185226</td>\n",
              "      <td>1.792993</td>\n",
              "      <td>-0.863291</td>\n",
              "      <td>-0.010309</td>\n",
              "      <td>1.247203</td>\n",
              "      <td>0.237609</td>\n",
              "      <td>0.377436</td>\n",
              "      <td>-1.387024</td>\n",
              "      <td>-0.054952</td>\n",
              "      <td>-0.226487</td>\n",
              "      <td>0.178228</td>\n",
              "      <td>0.507757</td>\n",
              "      <td>-0.287924</td>\n",
              "      <td>-0.631418</td>\n",
              "      <td>-1.059647</td>\n",
              "      <td>-0.684093</td>\n",
              "      <td>1.965775</td>\n",
              "      <td>-1.232622</td>\n",
              "      <td>-0.208038</td>\n",
              "      <td>-0.108300</td>\n",
              "      <td>0.005274</td>\n",
              "      <td>-0.190321</td>\n",
              "      <td>-1.175575</td>\n",
              "      <td>0.647376</td>\n",
              "      <td>-0.221929</td>\n",
              "      <td>0.062723</td>\n",
              "      <td>0.061458</td>\n",
              "      <td>123.50</td>\n",
              "      <td>0</td>\n",
              "    </tr>\n",
              "    <tr>\n",
              "      <th>4</th>\n",
              "      <td>2.0</td>\n",
              "      <td>-1.158233</td>\n",
              "      <td>0.877737</td>\n",
              "      <td>1.548718</td>\n",
              "      <td>0.403034</td>\n",
              "      <td>-0.407193</td>\n",
              "      <td>0.095921</td>\n",
              "      <td>0.592941</td>\n",
              "      <td>-0.270533</td>\n",
              "      <td>0.817739</td>\n",
              "      <td>0.753074</td>\n",
              "      <td>-0.822843</td>\n",
              "      <td>0.538196</td>\n",
              "      <td>1.345852</td>\n",
              "      <td>-1.119670</td>\n",
              "      <td>0.175121</td>\n",
              "      <td>-0.451449</td>\n",
              "      <td>-0.237033</td>\n",
              "      <td>-0.038195</td>\n",
              "      <td>0.803487</td>\n",
              "      <td>0.408542</td>\n",
              "      <td>-0.009431</td>\n",
              "      <td>0.798278</td>\n",
              "      <td>-0.137458</td>\n",
              "      <td>0.141267</td>\n",
              "      <td>-0.206010</td>\n",
              "      <td>0.502292</td>\n",
              "      <td>0.219422</td>\n",
              "      <td>0.215153</td>\n",
              "      <td>69.99</td>\n",
              "      <td>0</td>\n",
              "    </tr>\n",
              "  </tbody>\n",
              "</table>\n",
              "</div>"
            ],
            "text/plain": [
              "   Time        V1        V2        V3  ...       V27       V28  Amount  Class\n",
              "0   0.0 -1.359807 -0.072781  2.536347  ...  0.133558 -0.021053  149.62      0\n",
              "1   0.0  1.191857  0.266151  0.166480  ... -0.008983  0.014724    2.69      0\n",
              "2   1.0 -1.358354 -1.340163  1.773209  ... -0.055353 -0.059752  378.66      0\n",
              "3   1.0 -0.966272 -0.185226  1.792993  ...  0.062723  0.061458  123.50      0\n",
              "4   2.0 -1.158233  0.877737  1.548718  ...  0.219422  0.215153   69.99      0\n",
              "\n",
              "[5 rows x 31 columns]"
            ]
          },
          "metadata": {
            "tags": []
          },
          "execution_count": 4
        }
      ]
    },
    {
      "cell_type": "markdown",
      "metadata": {
        "id": "CTuOzjfAMUoI",
        "colab_type": "text"
      },
      "source": [
        "## Statistical summary\n",
        "\n",
        "*Using the method `.describe()` we can check our data frame statistical summary for the numerical variables*\n",
        "\n",
        "Checking the variable `Amount` we observe that the highest transaction was 25691,16 and the transaction amount mean is approximately 88,35."
      ]
    },
    {
      "cell_type": "code",
      "metadata": {
        "id": "B5o0iDijMIAx",
        "colab_type": "code",
        "outputId": "de067455-bd31-420b-c68f-2c7c1ab41094",
        "colab": {
          "base_uri": "https://localhost:8080/",
          "height": 317
        }
      },
      "source": [
        "# show the statistcal summary\n",
        "# mostrar o resumo estatistico\n",
        "df_raw.describe()"
      ],
      "execution_count": 5,
      "outputs": [
        {
          "output_type": "execute_result",
          "data": {
            "text/html": [
              "<div>\n",
              "<style scoped>\n",
              "    .dataframe tbody tr th:only-of-type {\n",
              "        vertical-align: middle;\n",
              "    }\n",
              "\n",
              "    .dataframe tbody tr th {\n",
              "        vertical-align: top;\n",
              "    }\n",
              "\n",
              "    .dataframe thead th {\n",
              "        text-align: right;\n",
              "    }\n",
              "</style>\n",
              "<table border=\"1\" class=\"dataframe\">\n",
              "  <thead>\n",
              "    <tr style=\"text-align: right;\">\n",
              "      <th></th>\n",
              "      <th>Time</th>\n",
              "      <th>V1</th>\n",
              "      <th>V2</th>\n",
              "      <th>V3</th>\n",
              "      <th>V4</th>\n",
              "      <th>V5</th>\n",
              "      <th>V6</th>\n",
              "      <th>V7</th>\n",
              "      <th>V8</th>\n",
              "      <th>V9</th>\n",
              "      <th>V10</th>\n",
              "      <th>V11</th>\n",
              "      <th>V12</th>\n",
              "      <th>V13</th>\n",
              "      <th>V14</th>\n",
              "      <th>V15</th>\n",
              "      <th>V16</th>\n",
              "      <th>V17</th>\n",
              "      <th>V18</th>\n",
              "      <th>V19</th>\n",
              "      <th>V20</th>\n",
              "      <th>V21</th>\n",
              "      <th>V22</th>\n",
              "      <th>V23</th>\n",
              "      <th>V24</th>\n",
              "      <th>V25</th>\n",
              "      <th>V26</th>\n",
              "      <th>V27</th>\n",
              "      <th>V28</th>\n",
              "      <th>Amount</th>\n",
              "      <th>Class</th>\n",
              "    </tr>\n",
              "  </thead>\n",
              "  <tbody>\n",
              "    <tr>\n",
              "      <th>count</th>\n",
              "      <td>284807.000000</td>\n",
              "      <td>2.848070e+05</td>\n",
              "      <td>2.848070e+05</td>\n",
              "      <td>2.848070e+05</td>\n",
              "      <td>2.848070e+05</td>\n",
              "      <td>2.848070e+05</td>\n",
              "      <td>2.848070e+05</td>\n",
              "      <td>2.848070e+05</td>\n",
              "      <td>2.848070e+05</td>\n",
              "      <td>2.848070e+05</td>\n",
              "      <td>2.848070e+05</td>\n",
              "      <td>2.848070e+05</td>\n",
              "      <td>2.848070e+05</td>\n",
              "      <td>2.848070e+05</td>\n",
              "      <td>2.848070e+05</td>\n",
              "      <td>2.848070e+05</td>\n",
              "      <td>2.848070e+05</td>\n",
              "      <td>2.848070e+05</td>\n",
              "      <td>2.848070e+05</td>\n",
              "      <td>2.848070e+05</td>\n",
              "      <td>2.848070e+05</td>\n",
              "      <td>2.848070e+05</td>\n",
              "      <td>2.848070e+05</td>\n",
              "      <td>2.848070e+05</td>\n",
              "      <td>2.848070e+05</td>\n",
              "      <td>2.848070e+05</td>\n",
              "      <td>2.848070e+05</td>\n",
              "      <td>2.848070e+05</td>\n",
              "      <td>2.848070e+05</td>\n",
              "      <td>284807.000000</td>\n",
              "      <td>284807.000000</td>\n",
              "    </tr>\n",
              "    <tr>\n",
              "      <th>mean</th>\n",
              "      <td>94813.859575</td>\n",
              "      <td>3.919560e-15</td>\n",
              "      <td>5.688174e-16</td>\n",
              "      <td>-8.769071e-15</td>\n",
              "      <td>2.782312e-15</td>\n",
              "      <td>-1.552563e-15</td>\n",
              "      <td>2.010663e-15</td>\n",
              "      <td>-1.694249e-15</td>\n",
              "      <td>-1.927028e-16</td>\n",
              "      <td>-3.137024e-15</td>\n",
              "      <td>1.768627e-15</td>\n",
              "      <td>9.170318e-16</td>\n",
              "      <td>-1.810658e-15</td>\n",
              "      <td>1.693438e-15</td>\n",
              "      <td>1.479045e-15</td>\n",
              "      <td>3.482336e-15</td>\n",
              "      <td>1.392007e-15</td>\n",
              "      <td>-7.528491e-16</td>\n",
              "      <td>4.328772e-16</td>\n",
              "      <td>9.049732e-16</td>\n",
              "      <td>5.085503e-16</td>\n",
              "      <td>1.537294e-16</td>\n",
              "      <td>7.959909e-16</td>\n",
              "      <td>5.367590e-16</td>\n",
              "      <td>4.458112e-15</td>\n",
              "      <td>1.453003e-15</td>\n",
              "      <td>1.699104e-15</td>\n",
              "      <td>-3.660161e-16</td>\n",
              "      <td>-1.206049e-16</td>\n",
              "      <td>88.349619</td>\n",
              "      <td>0.001727</td>\n",
              "    </tr>\n",
              "    <tr>\n",
              "      <th>std</th>\n",
              "      <td>47488.145955</td>\n",
              "      <td>1.958696e+00</td>\n",
              "      <td>1.651309e+00</td>\n",
              "      <td>1.516255e+00</td>\n",
              "      <td>1.415869e+00</td>\n",
              "      <td>1.380247e+00</td>\n",
              "      <td>1.332271e+00</td>\n",
              "      <td>1.237094e+00</td>\n",
              "      <td>1.194353e+00</td>\n",
              "      <td>1.098632e+00</td>\n",
              "      <td>1.088850e+00</td>\n",
              "      <td>1.020713e+00</td>\n",
              "      <td>9.992014e-01</td>\n",
              "      <td>9.952742e-01</td>\n",
              "      <td>9.585956e-01</td>\n",
              "      <td>9.153160e-01</td>\n",
              "      <td>8.762529e-01</td>\n",
              "      <td>8.493371e-01</td>\n",
              "      <td>8.381762e-01</td>\n",
              "      <td>8.140405e-01</td>\n",
              "      <td>7.709250e-01</td>\n",
              "      <td>7.345240e-01</td>\n",
              "      <td>7.257016e-01</td>\n",
              "      <td>6.244603e-01</td>\n",
              "      <td>6.056471e-01</td>\n",
              "      <td>5.212781e-01</td>\n",
              "      <td>4.822270e-01</td>\n",
              "      <td>4.036325e-01</td>\n",
              "      <td>3.300833e-01</td>\n",
              "      <td>250.120109</td>\n",
              "      <td>0.041527</td>\n",
              "    </tr>\n",
              "    <tr>\n",
              "      <th>min</th>\n",
              "      <td>0.000000</td>\n",
              "      <td>-5.640751e+01</td>\n",
              "      <td>-7.271573e+01</td>\n",
              "      <td>-4.832559e+01</td>\n",
              "      <td>-5.683171e+00</td>\n",
              "      <td>-1.137433e+02</td>\n",
              "      <td>-2.616051e+01</td>\n",
              "      <td>-4.355724e+01</td>\n",
              "      <td>-7.321672e+01</td>\n",
              "      <td>-1.343407e+01</td>\n",
              "      <td>-2.458826e+01</td>\n",
              "      <td>-4.797473e+00</td>\n",
              "      <td>-1.868371e+01</td>\n",
              "      <td>-5.791881e+00</td>\n",
              "      <td>-1.921433e+01</td>\n",
              "      <td>-4.498945e+00</td>\n",
              "      <td>-1.412985e+01</td>\n",
              "      <td>-2.516280e+01</td>\n",
              "      <td>-9.498746e+00</td>\n",
              "      <td>-7.213527e+00</td>\n",
              "      <td>-5.449772e+01</td>\n",
              "      <td>-3.483038e+01</td>\n",
              "      <td>-1.093314e+01</td>\n",
              "      <td>-4.480774e+01</td>\n",
              "      <td>-2.836627e+00</td>\n",
              "      <td>-1.029540e+01</td>\n",
              "      <td>-2.604551e+00</td>\n",
              "      <td>-2.256568e+01</td>\n",
              "      <td>-1.543008e+01</td>\n",
              "      <td>0.000000</td>\n",
              "      <td>0.000000</td>\n",
              "    </tr>\n",
              "    <tr>\n",
              "      <th>25%</th>\n",
              "      <td>54201.500000</td>\n",
              "      <td>-9.203734e-01</td>\n",
              "      <td>-5.985499e-01</td>\n",
              "      <td>-8.903648e-01</td>\n",
              "      <td>-8.486401e-01</td>\n",
              "      <td>-6.915971e-01</td>\n",
              "      <td>-7.682956e-01</td>\n",
              "      <td>-5.540759e-01</td>\n",
              "      <td>-2.086297e-01</td>\n",
              "      <td>-6.430976e-01</td>\n",
              "      <td>-5.354257e-01</td>\n",
              "      <td>-7.624942e-01</td>\n",
              "      <td>-4.055715e-01</td>\n",
              "      <td>-6.485393e-01</td>\n",
              "      <td>-4.255740e-01</td>\n",
              "      <td>-5.828843e-01</td>\n",
              "      <td>-4.680368e-01</td>\n",
              "      <td>-4.837483e-01</td>\n",
              "      <td>-4.988498e-01</td>\n",
              "      <td>-4.562989e-01</td>\n",
              "      <td>-2.117214e-01</td>\n",
              "      <td>-2.283949e-01</td>\n",
              "      <td>-5.423504e-01</td>\n",
              "      <td>-1.618463e-01</td>\n",
              "      <td>-3.545861e-01</td>\n",
              "      <td>-3.171451e-01</td>\n",
              "      <td>-3.269839e-01</td>\n",
              "      <td>-7.083953e-02</td>\n",
              "      <td>-5.295979e-02</td>\n",
              "      <td>5.600000</td>\n",
              "      <td>0.000000</td>\n",
              "    </tr>\n",
              "    <tr>\n",
              "      <th>50%</th>\n",
              "      <td>84692.000000</td>\n",
              "      <td>1.810880e-02</td>\n",
              "      <td>6.548556e-02</td>\n",
              "      <td>1.798463e-01</td>\n",
              "      <td>-1.984653e-02</td>\n",
              "      <td>-5.433583e-02</td>\n",
              "      <td>-2.741871e-01</td>\n",
              "      <td>4.010308e-02</td>\n",
              "      <td>2.235804e-02</td>\n",
              "      <td>-5.142873e-02</td>\n",
              "      <td>-9.291738e-02</td>\n",
              "      <td>-3.275735e-02</td>\n",
              "      <td>1.400326e-01</td>\n",
              "      <td>-1.356806e-02</td>\n",
              "      <td>5.060132e-02</td>\n",
              "      <td>4.807155e-02</td>\n",
              "      <td>6.641332e-02</td>\n",
              "      <td>-6.567575e-02</td>\n",
              "      <td>-3.636312e-03</td>\n",
              "      <td>3.734823e-03</td>\n",
              "      <td>-6.248109e-02</td>\n",
              "      <td>-2.945017e-02</td>\n",
              "      <td>6.781943e-03</td>\n",
              "      <td>-1.119293e-02</td>\n",
              "      <td>4.097606e-02</td>\n",
              "      <td>1.659350e-02</td>\n",
              "      <td>-5.213911e-02</td>\n",
              "      <td>1.342146e-03</td>\n",
              "      <td>1.124383e-02</td>\n",
              "      <td>22.000000</td>\n",
              "      <td>0.000000</td>\n",
              "    </tr>\n",
              "    <tr>\n",
              "      <th>75%</th>\n",
              "      <td>139320.500000</td>\n",
              "      <td>1.315642e+00</td>\n",
              "      <td>8.037239e-01</td>\n",
              "      <td>1.027196e+00</td>\n",
              "      <td>7.433413e-01</td>\n",
              "      <td>6.119264e-01</td>\n",
              "      <td>3.985649e-01</td>\n",
              "      <td>5.704361e-01</td>\n",
              "      <td>3.273459e-01</td>\n",
              "      <td>5.971390e-01</td>\n",
              "      <td>4.539234e-01</td>\n",
              "      <td>7.395934e-01</td>\n",
              "      <td>6.182380e-01</td>\n",
              "      <td>6.625050e-01</td>\n",
              "      <td>4.931498e-01</td>\n",
              "      <td>6.488208e-01</td>\n",
              "      <td>5.232963e-01</td>\n",
              "      <td>3.996750e-01</td>\n",
              "      <td>5.008067e-01</td>\n",
              "      <td>4.589494e-01</td>\n",
              "      <td>1.330408e-01</td>\n",
              "      <td>1.863772e-01</td>\n",
              "      <td>5.285536e-01</td>\n",
              "      <td>1.476421e-01</td>\n",
              "      <td>4.395266e-01</td>\n",
              "      <td>3.507156e-01</td>\n",
              "      <td>2.409522e-01</td>\n",
              "      <td>9.104512e-02</td>\n",
              "      <td>7.827995e-02</td>\n",
              "      <td>77.165000</td>\n",
              "      <td>0.000000</td>\n",
              "    </tr>\n",
              "    <tr>\n",
              "      <th>max</th>\n",
              "      <td>172792.000000</td>\n",
              "      <td>2.454930e+00</td>\n",
              "      <td>2.205773e+01</td>\n",
              "      <td>9.382558e+00</td>\n",
              "      <td>1.687534e+01</td>\n",
              "      <td>3.480167e+01</td>\n",
              "      <td>7.330163e+01</td>\n",
              "      <td>1.205895e+02</td>\n",
              "      <td>2.000721e+01</td>\n",
              "      <td>1.559499e+01</td>\n",
              "      <td>2.374514e+01</td>\n",
              "      <td>1.201891e+01</td>\n",
              "      <td>7.848392e+00</td>\n",
              "      <td>7.126883e+00</td>\n",
              "      <td>1.052677e+01</td>\n",
              "      <td>8.877742e+00</td>\n",
              "      <td>1.731511e+01</td>\n",
              "      <td>9.253526e+00</td>\n",
              "      <td>5.041069e+00</td>\n",
              "      <td>5.591971e+00</td>\n",
              "      <td>3.942090e+01</td>\n",
              "      <td>2.720284e+01</td>\n",
              "      <td>1.050309e+01</td>\n",
              "      <td>2.252841e+01</td>\n",
              "      <td>4.584549e+00</td>\n",
              "      <td>7.519589e+00</td>\n",
              "      <td>3.517346e+00</td>\n",
              "      <td>3.161220e+01</td>\n",
              "      <td>3.384781e+01</td>\n",
              "      <td>25691.160000</td>\n",
              "      <td>1.000000</td>\n",
              "    </tr>\n",
              "  </tbody>\n",
              "</table>\n",
              "</div>"
            ],
            "text/plain": [
              "                Time            V1  ...         Amount          Class\n",
              "count  284807.000000  2.848070e+05  ...  284807.000000  284807.000000\n",
              "mean    94813.859575  3.919560e-15  ...      88.349619       0.001727\n",
              "std     47488.145955  1.958696e+00  ...     250.120109       0.041527\n",
              "min         0.000000 -5.640751e+01  ...       0.000000       0.000000\n",
              "25%     54201.500000 -9.203734e-01  ...       5.600000       0.000000\n",
              "50%     84692.000000  1.810880e-02  ...      22.000000       0.000000\n",
              "75%    139320.500000  1.315642e+00  ...      77.165000       0.000000\n",
              "max    172792.000000  2.454930e+00  ...   25691.160000       1.000000\n",
              "\n",
              "[8 rows x 31 columns]"
            ]
          },
          "metadata": {
            "tags": []
          },
          "execution_count": 5
        }
      ]
    },
    {
      "cell_type": "markdown",
      "metadata": {
        "id": "aBUAFdFAQo59",
        "colab_type": "text"
      },
      "source": [
        "## Is there any null value?\n",
        "\n",
        "There are no null values in this dataset, which means there is no need to go through the cleaning phase."
      ]
    },
    {
      "cell_type": "code",
      "metadata": {
        "id": "YqL4qAEPMIOF",
        "colab_type": "code",
        "outputId": "9c84610a-2998-4010-f759-783eff8a9a68",
        "colab": {
          "base_uri": "https://localhost:8080/",
          "height": 34
        }
      },
      "source": [
        "# look for null values\n",
        "# procurar por valores ausentes\n",
        "df_raw.isnull().sum().sum()"
      ],
      "execution_count": 6,
      "outputs": [
        {
          "output_type": "execute_result",
          "data": {
            "text/plain": [
              "0"
            ]
          },
          "metadata": {
            "tags": []
          },
          "execution_count": 6
        }
      ]
    },
    {
      "cell_type": "markdown",
      "metadata": {
        "id": "3DKiGD3zVzf6",
        "colab_type": "text"
      },
      "source": [
        "## Charts"
      ]
    },
    {
      "cell_type": "markdown",
      "metadata": {
        "id": "WwkIg8HnT8F9",
        "colab_type": "text"
      },
      "source": [
        "### *How balanced is our dataset?*\n",
        "\n",
        "Having a look at our variable called `Class` we notice that our dataset is unbalanced, this is going to be a problem that will need to be addressed before create our machine learning model. If this problem is not addressed our machine learning model will give us poor results."
      ]
    },
    {
      "cell_type": "code",
      "metadata": {
        "id": "RRei4WJaMIft",
        "colab_type": "code",
        "outputId": "3c1aecfb-c57f-4c8d-c92c-94c5772c7a7c",
        "colab": {
          "base_uri": "https://localhost:8080/",
          "height": 470
        }
      },
      "source": [
        "# plot bar chart showing number class types\n",
        "# gera grafico de barra mostrando numero fraudes\n",
        "\n",
        "fig, ax = plt.subplots(figsize=(5,4))\n",
        "name = [ \"Normal\",\"Fraud\"]\n",
        "ax = df_raw.Class.value_counts().plot(kind = 'bar', grid = False , color = 'grey')\n",
        "ax.spines['top'].set_visible(False)\n",
        "ax.spines['right'].set_visible(False)\n",
        "ax.spines['bottom'].set_visible(False)\n",
        "ax.set_title(\"Frauds represent 0.17% of the dataset\", fontsize = 10, loc='left')\n",
        "ax.set_xticklabels (name, rotation = 0)\n",
        "\n",
        "plt.suptitle(\"\\n\\nNUMBER OF CASES\\n\\n\",weight = 'bold', x=0.33,y=1.15)\n",
        "plt.tight_layout();\n",
        "print(\"Number of cases:\")\n",
        "print(df_raw.Class.value_counts())\n",
        "print(\"\\nFrauds represent {:.4f}% of the dataset.\\n\".format((df_raw[df_raw.Class == 1].shape[0] / df_raw.shape[0]) * 100))\n"
      ],
      "execution_count": 7,
      "outputs": [
        {
          "output_type": "stream",
          "text": [
            "Number of cases:\n",
            "0    284315\n",
            "1       492\n",
            "Name: Class, dtype: int64\n",
            "\n",
            "Frauds represent 0.1727% of the dataset.\n",
            "\n"
          ],
          "name": "stdout"
        },
        {
          "output_type": "display_data",
          "data": {
            "image/png": "[encoded data removed]",
            "text/plain": [
              "<Figure size 360x288 with 1 Axes>"
            ]
          },
          "metadata": {
            "tags": [],
            "needs_background": "light"
          }
        }
      ]
    },
    {
      "cell_type": "markdown",
      "metadata": {
        "id": "2Ukg0Kd1Vk1K",
        "colab_type": "text"
      },
      "source": [
        "### *How's the frequency distribution of our variable `Class`?*\n",
        "\n",
        "We plotted two histograms to compare the distributions of the 2 classes along the time dimension (`Time`). However, no information has been identified from the frequency distributions below."
      ]
    },
    {
      "cell_type": "code",
      "metadata": {
        "id": "45G94_9KOGdi",
        "colab_type": "code",
        "outputId": "00c59ab2-9f2b-451a-de69-7eca047d383e",
        "colab": {
          "base_uri": "https://localhost:8080/",
          "height": 441
        }
      },
      "source": [
        "# Plot histogram for variable Time por Class type\n",
        "# Plotar um histograma para a variavel Time por tipo de Classe\n",
        "fig, ax = plt.subplots(nrows= 2, ncols=1, figsize = (12,6))\n",
        "num_bins = 40\n",
        "\n",
        "ax[0].hist(df_raw.Time[df_raw.Class == 0], bins = num_bins, color = 'lightgrey' )\n",
        "ax[0].set_title('Frequency Distribution For Variable Class\\nNormal',loc='left', size=13)\n",
        "ax[0].spines['top'].set_visible(False)\n",
        "ax[0].spines['right'].set_visible(False)\n",
        "ax[0].grid(False)\n",
        "\n",
        "ax[1].hist(df_raw.Time[df_raw.Class == 1], bins = num_bins, color = 'lightgrey')\n",
        "ax[1].set_title('Fraud',loc='left', size=13)\n",
        "ax[1].spines['top'].set_visible(False)\n",
        "ax[1].spines['right'].set_visible(False)\n",
        "ax[1].grid(False)\n",
        "    \n",
        "# Set x-axis label\n",
        "plt.xlabel(\"Time\", labelpad=20, size=12, weight='bold')\n",
        "fig.text( 0, 0.55, 'Transactions', ha='center', va='center', rotation='vertical')\n",
        "#plt.ylabel(\"Transactions\")\n",
        "\n",
        "plt.tight_layout();"
      ],
      "execution_count": 8,
      "outputs": [
        {
          "output_type": "display_data",
          "data": {
            "image/png": "[encoded data removed]",
            "text/plain": [
              "<Figure size 864x432 with 2 Axes>"
            ]
          },
          "metadata": {
            "tags": [],
            "needs_background": "light"
          }
        }
      ]
    },
    {
      "cell_type": "markdown",
      "metadata": {
        "id": "eox06kdVVM1h",
        "colab_type": "text"
      },
      "source": [
        "### *Is there any transaction pattern?*\n",
        "Following the exploratory analysis, the boxplots were plotted to see if there is any difference in the transaction pattern concerning the `Amount`.\n",
        "\n",
        "In general, a different distribution is noticed for the two classes, which will probably contribute to the training of the machine learning model."
      ]
    },
    {
      "cell_type": "code",
      "metadata": {
        "id": "dZR5qOCSdWjU",
        "colab_type": "code",
        "outputId": "119e34f9-a160-4ba2-ed9c-933b8d626fb2",
        "colab": {
          "base_uri": "https://localhost:8080/",
          "height": 729
        }
      },
      "source": [
        "# Plot a boxplot for variable amount\n",
        "fig, ax = plt.subplots(figsize=(6,10), sharex = True)\n",
        "\n",
        "sns.boxplot(df_raw.Class, df_raw.Amount, color='lightgrey')\n",
        "ax.spines['top'].set_visible(False)\n",
        "ax.spines['right'].set_visible(False)\n",
        "#ax.spines['left'].set_visible(False)\n",
        "#ax.spines['bottom'].set_visible(False)\n",
        "ax.set_title('Difference in the transaction pattern in relation to the Amount',loc='left', size=13)\n",
        "plt.xticks([0,1] , ['Normal', 'Fraud'])\n",
        "plt.ylim((-10, 400))\n",
        "\n",
        "plt.tight_layout();"
      ],
      "execution_count": 9,
      "outputs": [
        {
          "output_type": "display_data",
          "data": {
            "image/png": "[encoded data removed]",
            "text/plain": [
              "<Figure size 432x720 with 1 Axes>"
            ]
          },
          "metadata": {
            "tags": [],
            "needs_background": "light"
          }
        }
      ]
    },
    {
      "cell_type": "markdown",
      "metadata": {
        "id": "JBTyBOvX0AVU",
        "colab_type": "text"
      },
      "source": [
        "## PCA columns\n",
        "These are the columns that went through PCA transformation, we check the frequency to find similarities between them.\n"
      ]
    },
    {
      "cell_type": "code",
      "metadata": {
        "id": "OWajqDrvdWzS",
        "colab_type": "code",
        "outputId": "e6a6e4bf-4d79-4203-9552-74d01f0fd648",
        "colab": {
          "base_uri": "https://localhost:8080/",
          "height": 1000
        }
      },
      "source": [
        "# Features that pass through PCA transformation frequency distribuition\n",
        "column_names = df_raw.drop(['Class', 'Amount', 'Time'], axis=1).columns\n",
        "num_plots = len(column_names)\n",
        "df_normal = df_raw[df_raw.Class == 0]\n",
        "df_fraud = df_raw[df_raw.Class == 1]\n",
        "\n",
        "fig, ax = plt.subplots(nrows=7, ncols=4, figsize=(18,18))\n",
        "fig.subplots_adjust(hspace=1, wspace=1)\n",
        "\n",
        "idx = 0\n",
        "for col in column_names:\n",
        "    idx += 1\n",
        "    plt.subplot(7, 4, idx)\n",
        "    sns.kdeplot(df_normal[col], label=\"Normal\", shade=True)\n",
        "    sns.kdeplot(df_fraud[col], label=\"Fraud\", shade=True, color = 'GREY')\n",
        "    sns.despine(left=False)\n",
        "    plt.title(col, fontsize=10, loc= 'left', weight='bold')\n",
        "plt.tight_layout()"
      ],
      "execution_count": 10,
      "outputs": [
        {
          "output_type": "display_data",
          "data": {
            "image/png": "[encoded data removed]",
            "text/plain": [
              "<Figure size 1296x1296 with 28 Axes>"
            ]
          },
          "metadata": {
            "tags": [],
            "needs_background": "light"
          }
        }
      ]
    },
    {
      "cell_type": "markdown",
      "metadata": {
        "id": "N2_OXe2P012-",
        "colab_type": "text"
      },
      "source": [
        "## **Summary of our analysis**\n",
        "\n",
        "\n",
        "*   Although we have more than 284 thousand entries, only 0.17% are fraudulent, making our dataset unbalanced.\n",
        "\n",
        "*   The `Time` and `Amount` variables were kept at their original values ​​and will need to go through the **Scaling** process.\n",
        "\n",
        "*   There are no null or missing values ​​in the dataset.\n",
        "\n",
        "*   Since the PCA is sensitive to **Scaling**, it is assumed that the original features were standardized.\n",
        "\n"
      ]
    },
    {
      "cell_type": "markdown",
      "metadata": {
        "id": "ULe7z0jZt0EH",
        "colab_type": "text"
      },
      "source": [
        "# Preparing the data\n",
        "\n",
        "This is the process that we are gonna go through to get the data prepared\n",
        "\n",
        "* Feature Scaling - (`Time` and `Amount`)\n",
        "* Split the dataset in train and test\n",
        "* Balance the dataset"
      ]
    },
    {
      "cell_type": "markdown",
      "metadata": {
        "id": "o6yXyIcxS_dH",
        "colab_type": "text"
      },
      "source": [
        "## Standardize the data\n",
        "\n",
        "Standardization is one of the most common preprocessing tools since data of different magnitude (scale) can be biased towards high values, we want all inputs to be of similar magnitude this is a peculiarity of machine learning in general - most (but not all) algorithms do badly with unscaled data.\n",
        "\n",
        "A very useful module we can use is StandardScaler it has many more capabilities than the straightforward 'preprocessing' method.\n",
        "\n",
        "Here's the full documentation: http://scikit-learn.org/stable/modules/generated/sklearn.preprocessing.StandardScaler.html\n"
      ]
    },
    {
      "cell_type": "code",
      "metadata": {
        "id": "PX_IaD7i_yiH",
        "colab_type": "code",
        "colab": {}
      },
      "source": [
        "# Copying the dataframe \n",
        "# Copiando o dataframe \n",
        "df = df_raw.copy()"
      ],
      "execution_count": 0,
      "outputs": []
    },
    {
      "cell_type": "code",
      "metadata": {
        "id": "mvAIAU0K6O5X",
        "colab_type": "code",
        "colab": {}
      },
      "source": [
        "# import libraries going to be used \n",
        "# importar as bibliotecas que serao usadas\n",
        "from sklearn.preprocessing import StandardScaler\n",
        "sc = StandardScaler()\n",
        "df[['Time', 'Amount']] = sc.fit_transform(df[['Time', 'Amount']])"
      ],
      "execution_count": 0,
      "outputs": []
    },
    {
      "cell_type": "markdown",
      "metadata": {
        "id": "W0XNdxXCB6JL",
        "colab_type": "text"
      },
      "source": [
        "*As we can see our data frame now is scaled, which means that all variables have the same magnitude*"
      ]
    },
    {
      "cell_type": "code",
      "metadata": {
        "id": "6Bqh1iVX-v0I",
        "colab_type": "code",
        "outputId": "2e204448-8f9b-430d-94a4-a509141a877b",
        "colab": {
          "base_uri": "https://localhost:8080/",
          "height": 224
        }
      },
      "source": [
        "df.head()"
      ],
      "execution_count": 13,
      "outputs": [
        {
          "output_type": "execute_result",
          "data": {
            "text/html": [
              "<div>\n",
              "<style scoped>\n",
              "    .dataframe tbody tr th:only-of-type {\n",
              "        vertical-align: middle;\n",
              "    }\n",
              "\n",
              "    .dataframe tbody tr th {\n",
              "        vertical-align: top;\n",
              "    }\n",
              "\n",
              "    .dataframe thead th {\n",
              "        text-align: right;\n",
              "    }\n",
              "</style>\n",
              "<table border=\"1\" class=\"dataframe\">\n",
              "  <thead>\n",
              "    <tr style=\"text-align: right;\">\n",
              "      <th></th>\n",
              "      <th>Time</th>\n",
              "      <th>V1</th>\n",
              "      <th>V2</th>\n",
              "      <th>V3</th>\n",
              "      <th>V4</th>\n",
              "      <th>V5</th>\n",
              "      <th>V6</th>\n",
              "      <th>V7</th>\n",
              "      <th>V8</th>\n",
              "      <th>V9</th>\n",
              "      <th>V10</th>\n",
              "      <th>V11</th>\n",
              "      <th>V12</th>\n",
              "      <th>V13</th>\n",
              "      <th>V14</th>\n",
              "      <th>V15</th>\n",
              "      <th>V16</th>\n",
              "      <th>V17</th>\n",
              "      <th>V18</th>\n",
              "      <th>V19</th>\n",
              "      <th>V20</th>\n",
              "      <th>V21</th>\n",
              "      <th>V22</th>\n",
              "      <th>V23</th>\n",
              "      <th>V24</th>\n",
              "      <th>V25</th>\n",
              "      <th>V26</th>\n",
              "      <th>V27</th>\n",
              "      <th>V28</th>\n",
              "      <th>Amount</th>\n",
              "      <th>Class</th>\n",
              "    </tr>\n",
              "  </thead>\n",
              "  <tbody>\n",
              "    <tr>\n",
              "      <th>0</th>\n",
              "      <td>-1.996583</td>\n",
              "      <td>-1.359807</td>\n",
              "      <td>-0.072781</td>\n",
              "      <td>2.536347</td>\n",
              "      <td>1.378155</td>\n",
              "      <td>-0.338321</td>\n",
              "      <td>0.462388</td>\n",
              "      <td>0.239599</td>\n",
              "      <td>0.098698</td>\n",
              "      <td>0.363787</td>\n",
              "      <td>0.090794</td>\n",
              "      <td>-0.551600</td>\n",
              "      <td>-0.617801</td>\n",
              "      <td>-0.991390</td>\n",
              "      <td>-0.311169</td>\n",
              "      <td>1.468177</td>\n",
              "      <td>-0.470401</td>\n",
              "      <td>0.207971</td>\n",
              "      <td>0.025791</td>\n",
              "      <td>0.403993</td>\n",
              "      <td>0.251412</td>\n",
              "      <td>-0.018307</td>\n",
              "      <td>0.277838</td>\n",
              "      <td>-0.110474</td>\n",
              "      <td>0.066928</td>\n",
              "      <td>0.128539</td>\n",
              "      <td>-0.189115</td>\n",
              "      <td>0.133558</td>\n",
              "      <td>-0.021053</td>\n",
              "      <td>0.244964</td>\n",
              "      <td>0</td>\n",
              "    </tr>\n",
              "    <tr>\n",
              "      <th>1</th>\n",
              "      <td>-1.996583</td>\n",
              "      <td>1.191857</td>\n",
              "      <td>0.266151</td>\n",
              "      <td>0.166480</td>\n",
              "      <td>0.448154</td>\n",
              "      <td>0.060018</td>\n",
              "      <td>-0.082361</td>\n",
              "      <td>-0.078803</td>\n",
              "      <td>0.085102</td>\n",
              "      <td>-0.255425</td>\n",
              "      <td>-0.166974</td>\n",
              "      <td>1.612727</td>\n",
              "      <td>1.065235</td>\n",
              "      <td>0.489095</td>\n",
              "      <td>-0.143772</td>\n",
              "      <td>0.635558</td>\n",
              "      <td>0.463917</td>\n",
              "      <td>-0.114805</td>\n",
              "      <td>-0.183361</td>\n",
              "      <td>-0.145783</td>\n",
              "      <td>-0.069083</td>\n",
              "      <td>-0.225775</td>\n",
              "      <td>-0.638672</td>\n",
              "      <td>0.101288</td>\n",
              "      <td>-0.339846</td>\n",
              "      <td>0.167170</td>\n",
              "      <td>0.125895</td>\n",
              "      <td>-0.008983</td>\n",
              "      <td>0.014724</td>\n",
              "      <td>-0.342475</td>\n",
              "      <td>0</td>\n",
              "    </tr>\n",
              "    <tr>\n",
              "      <th>2</th>\n",
              "      <td>-1.996562</td>\n",
              "      <td>-1.358354</td>\n",
              "      <td>-1.340163</td>\n",
              "      <td>1.773209</td>\n",
              "      <td>0.379780</td>\n",
              "      <td>-0.503198</td>\n",
              "      <td>1.800499</td>\n",
              "      <td>0.791461</td>\n",
              "      <td>0.247676</td>\n",
              "      <td>-1.514654</td>\n",
              "      <td>0.207643</td>\n",
              "      <td>0.624501</td>\n",
              "      <td>0.066084</td>\n",
              "      <td>0.717293</td>\n",
              "      <td>-0.165946</td>\n",
              "      <td>2.345865</td>\n",
              "      <td>-2.890083</td>\n",
              "      <td>1.109969</td>\n",
              "      <td>-0.121359</td>\n",
              "      <td>-2.261857</td>\n",
              "      <td>0.524980</td>\n",
              "      <td>0.247998</td>\n",
              "      <td>0.771679</td>\n",
              "      <td>0.909412</td>\n",
              "      <td>-0.689281</td>\n",
              "      <td>-0.327642</td>\n",
              "      <td>-0.139097</td>\n",
              "      <td>-0.055353</td>\n",
              "      <td>-0.059752</td>\n",
              "      <td>1.160686</td>\n",
              "      <td>0</td>\n",
              "    </tr>\n",
              "    <tr>\n",
              "      <th>3</th>\n",
              "      <td>-1.996562</td>\n",
              "      <td>-0.966272</td>\n",
              "      <td>-0.185226</td>\n",
              "      <td>1.792993</td>\n",
              "      <td>-0.863291</td>\n",
              "      <td>-0.010309</td>\n",
              "      <td>1.247203</td>\n",
              "      <td>0.237609</td>\n",
              "      <td>0.377436</td>\n",
              "      <td>-1.387024</td>\n",
              "      <td>-0.054952</td>\n",
              "      <td>-0.226487</td>\n",
              "      <td>0.178228</td>\n",
              "      <td>0.507757</td>\n",
              "      <td>-0.287924</td>\n",
              "      <td>-0.631418</td>\n",
              "      <td>-1.059647</td>\n",
              "      <td>-0.684093</td>\n",
              "      <td>1.965775</td>\n",
              "      <td>-1.232622</td>\n",
              "      <td>-0.208038</td>\n",
              "      <td>-0.108300</td>\n",
              "      <td>0.005274</td>\n",
              "      <td>-0.190321</td>\n",
              "      <td>-1.175575</td>\n",
              "      <td>0.647376</td>\n",
              "      <td>-0.221929</td>\n",
              "      <td>0.062723</td>\n",
              "      <td>0.061458</td>\n",
              "      <td>0.140534</td>\n",
              "      <td>0</td>\n",
              "    </tr>\n",
              "    <tr>\n",
              "      <th>4</th>\n",
              "      <td>-1.996541</td>\n",
              "      <td>-1.158233</td>\n",
              "      <td>0.877737</td>\n",
              "      <td>1.548718</td>\n",
              "      <td>0.403034</td>\n",
              "      <td>-0.407193</td>\n",
              "      <td>0.095921</td>\n",
              "      <td>0.592941</td>\n",
              "      <td>-0.270533</td>\n",
              "      <td>0.817739</td>\n",
              "      <td>0.753074</td>\n",
              "      <td>-0.822843</td>\n",
              "      <td>0.538196</td>\n",
              "      <td>1.345852</td>\n",
              "      <td>-1.119670</td>\n",
              "      <td>0.175121</td>\n",
              "      <td>-0.451449</td>\n",
              "      <td>-0.237033</td>\n",
              "      <td>-0.038195</td>\n",
              "      <td>0.803487</td>\n",
              "      <td>0.408542</td>\n",
              "      <td>-0.009431</td>\n",
              "      <td>0.798278</td>\n",
              "      <td>-0.137458</td>\n",
              "      <td>0.141267</td>\n",
              "      <td>-0.206010</td>\n",
              "      <td>0.502292</td>\n",
              "      <td>0.219422</td>\n",
              "      <td>0.215153</td>\n",
              "      <td>-0.073403</td>\n",
              "      <td>0</td>\n",
              "    </tr>\n",
              "  </tbody>\n",
              "</table>\n",
              "</div>"
            ],
            "text/plain": [
              "       Time        V1        V2        V3  ...       V27       V28    Amount  Class\n",
              "0 -1.996583 -1.359807 -0.072781  2.536347  ...  0.133558 -0.021053  0.244964      0\n",
              "1 -1.996583  1.191857  0.266151  0.166480  ... -0.008983  0.014724 -0.342475      0\n",
              "2 -1.996562 -1.358354 -1.340163  1.773209  ... -0.055353 -0.059752  1.160686      0\n",
              "3 -1.996562 -0.966272 -0.185226  1.792993  ...  0.062723  0.061458  0.140534      0\n",
              "4 -1.996541 -1.158233  0.877737  1.548718  ...  0.219422  0.215153 -0.073403      0\n",
              "\n",
              "[5 rows x 31 columns]"
            ]
          },
          "metadata": {
            "tags": []
          },
          "execution_count": 13
        }
      ]
    },
    {
      "cell_type": "markdown",
      "metadata": {
        "id": "CSk1KetqEnQy",
        "colab_type": "text"
      },
      "source": [
        "## Target and Features\n",
        "\n",
        "Since we want to discover if a transaction is a normal transaction or fraud or target variable is the `class` we are going to call it y. So all the other variables in our features and we are going to call X."
      ]
    },
    {
      "cell_type": "code",
      "metadata": {
        "colab_type": "code",
        "id": "Gz2YdQx4Gahy",
        "colab": {}
      },
      "source": [
        "# Create a variable that will contain the inputs \n",
        "# Criar a variável que ira conter nossas variáveis inputs  \n",
        "X = df.iloc[:, :-1].values \n",
        "# choose the target-class\n",
        "# selecionar a variavel alvo-class\n",
        "y = df.iloc[:, 30].values"
      ],
      "execution_count": 0,
      "outputs": []
    },
    {
      "cell_type": "code",
      "metadata": {
        "id": "xQr18T1TPHzs",
        "colab_type": "code",
        "outputId": "8bfcc255-0da2-415f-a1bb-00cb7b8b8ab9",
        "colab": {
          "base_uri": "https://localhost:8080/",
          "height": 34
        }
      },
      "source": [
        "# check the shape of the inputs\n",
        "# ver o formato das entradas\n",
        "X.shape"
      ],
      "execution_count": 15,
      "outputs": [
        {
          "output_type": "execute_result",
          "data": {
            "text/plain": [
              "(284807, 30)"
            ]
          },
          "metadata": {
            "tags": []
          },
          "execution_count": 15
        }
      ]
    },
    {
      "cell_type": "code",
      "metadata": {
        "id": "JP3CyZzQPH_V",
        "colab_type": "code",
        "outputId": "85de98b3-64a4-4b0a-e99e-8e42321326d6",
        "colab": {
          "base_uri": "https://localhost:8080/",
          "height": 34
        }
      },
      "source": [
        "# target shape\n",
        "# formato alvo\n",
        "y.shape"
      ],
      "execution_count": 16,
      "outputs": [
        {
          "output_type": "execute_result",
          "data": {
            "text/plain": [
              "(284807,)"
            ]
          },
          "metadata": {
            "tags": []
          },
          "execution_count": 16
        }
      ]
    },
    {
      "cell_type": "markdown",
      "metadata": {
        "id": "3M88UeNkG9up",
        "colab_type": "text"
      },
      "source": [
        "# Splitting the dataset\n",
        "\n",
        "Now we are going to split the dataset in training and test, we almost there...\n",
        "A couple more steps and we are going to create our machine model."
      ]
    },
    {
      "cell_type": "code",
      "metadata": {
        "id": "ub63x3-YG8Vo",
        "colab_type": "code",
        "colab": {}
      },
      "source": [
        "# Importing librarie\n",
        "# Importando biblioteca\n",
        "from sklearn.model_selection import train_test_split\n",
        "\n",
        "# Splitting the dataset into the Training set and Test set\n",
        "# Dividindo o conj de dados em treino a teste\n",
        "X_train, X_test, y_train, y_test = train_test_split(X, y, stratify = y,\n",
        "                                                    test_size = 0.2, \n",
        "                                                    shuffle=True)"
      ],
      "execution_count": 0,
      "outputs": []
    },
    {
      "cell_type": "code",
      "metadata": {
        "id": "JKo2OTYgIC0G",
        "colab_type": "code",
        "outputId": "9eaa739e-2756-447a-a5e0-3b660d1fe336",
        "colab": {
          "base_uri": "https://localhost:8080/",
          "height": 51
        }
      },
      "source": [
        "# Check the shape of the train inputs and targets\n",
        "# Checar o formato do dataset de treino e alvos\n",
        "print (\"Train:\" ,X_train.shape, y_train.shape)\n",
        "\n",
        "# check the shape of the test inputs and targets\n",
        "# Checar o formato do dataset de teste e alvos\n",
        "print (\"Test: \" , X_test.shape, y_test.shape)"
      ],
      "execution_count": 18,
      "outputs": [
        {
          "output_type": "stream",
          "text": [
            "Train: (227845, 30) (227845,)\n",
            "Test:  (56962, 30) (56962,)\n"
          ],
          "name": "stdout"
        }
      ]
    },
    {
      "cell_type": "markdown",
      "metadata": {
        "id": "aVlvJ-ntTXP0",
        "colab_type": "text"
      },
      "source": [
        "## Balancing the Data\n",
        "As I mentioned before we need to do something with our unbalanced data.\n",
        "There are many ways to deal with it. I am going to be using a simple way but effective with great results, this technique is called `under-sampling` from `imblearn` library.\n",
        "\n"
      ]
    },
    {
      "cell_type": "code",
      "metadata": {
        "id": "ylt1SKvcX90-",
        "colab_type": "code",
        "outputId": "12cf1e38-adfa-453d-86b0-7f5e5be83637",
        "colab": {
          "base_uri": "https://localhost:8080/",
          "height": 348
        }
      },
      "source": [
        "# import the librarie\n",
        "# importar a biblioteca\n",
        "from imblearn.under_sampling import RandomUnderSampler\n",
        "\n",
        "# use under-sampling techinique\n",
        "# usar técnica under-sampling\n",
        "rus = RandomUnderSampler()\n",
        "X_bal, y_bal = rus.fit_sample(X_train, y_train)\n",
        "\n",
        "# show Class balance\n",
        "# ver o balanceamento das classes\n",
        "print(pd.Series(y_bal).value_counts());\n",
        "\n",
        "# plot new Class distribution\n",
        "# plotar a nova distribuição de classes\n",
        "fig, ax = plt.subplots(figsize=(5,4))\n",
        "name = [ \"Normal\",\"Fraud\" ]\n",
        "ax=sns.countplot(y_bal, color= 'lightgrey')\n",
        "ax.set_title('BALANCED DATA', loc='left', weight = 'bold', fontsize = 14)\n",
        "ax.set_xticklabels (name, rotation = 0)\n",
        "sns.despine(left=False, bottom=False)\n",
        "\n",
        "plt.tight_layout();"
      ],
      "execution_count": 19,
      "outputs": [
        {
          "output_type": "stream",
          "text": [
            "1    394\n",
            "0    394\n",
            "dtype: int64\n"
          ],
          "name": "stdout"
        },
        {
          "output_type": "display_data",
          "data": {
            "image/png": "[encoded data removed]",
            "text/plain": [
              "<Figure size 360x288 with 1 Axes>"
            ]
          },
          "metadata": {
            "tags": [],
            "needs_background": "light"
          }
        }
      ]
    },
    {
      "cell_type": "markdown",
      "metadata": {
        "id": "coW4UtxrkbMH",
        "colab_type": "text"
      },
      "source": [
        "# Recapping our steps so far…\n",
        "\n",
        "*  We understand our business problem,\n",
        "*  We did a quick data overview and discover an unbalanced dataset,\n",
        "*  Standardized the columns to have similar magnitude,\n",
        "*  We select our target variable,  which is the class, \n",
        "*  Split the data into training and test, and\n",
        "*  Balanced our data."
      ]
    },
    {
      "cell_type": "markdown",
      "metadata": {
        "id": "wJNH5qcjRxfX",
        "colab_type": "text"
      },
      "source": [
        "# Machine Learning Model\n",
        "\n",
        "\n",
        "Finally, we got to the fun part of the process, we are going to test some Machine Learning Models to compare their performance-based in this dataset.\n",
        "\n",
        "We are going to create 3 machine learning models and see how they perform. These are the models:\n",
        "*  Logistic Regression, \n",
        "*  SVC, and\n",
        "*  Random Forest. \n",
        "\n",
        "In the end, we are going to see each one performed better in this dataset."
      ]
    },
    {
      "cell_type": "code",
      "metadata": {
        "id": "lDySx8XUSMw_",
        "colab_type": "code",
        "outputId": "0be1a65b-95e9-476f-e1f0-3dbd66383615",
        "colab": {
          "base_uri": "https://localhost:8080/",
          "height": 153
        }
      },
      "source": [
        "# importing the libraries\n",
        "# importar as bibliotecas\n",
        "from sklearn.linear_model import LogisticRegression\n",
        "from sklearn.svm import SVC\n",
        "from sklearn.ensemble import RandomForestClassifier\n",
        "from sklearn.metrics import classification_report\n",
        "\n",
        "# Create a object for each class\n",
        "# Criar um objeto para cada classe\n",
        "reg = LogisticRegression(C= 0.08 )\n",
        "svc = SVC(kernel = 'rbf')\n",
        "rf = RandomForestClassifier(n_estimators = 10, \n",
        "                            criterion = 'entropy')\n",
        "\n",
        "# Fit our train inputs\n",
        "# Usar metodo fit para treinar as entradas\n",
        "reg.fit(X_bal, y_bal)\n",
        "svc.fit(X_bal, y_bal)\n",
        "rf.fit(X_bal, y_bal)\n",
        "\n",
        "# Assess the train accuracy of the model\n",
        "# Avaliar a precisao de treino do modelo\n",
        "print ('Score for Logistic Regression:')\n",
        "print (reg.score(X_bal, y_bal), '\\n')\n",
        "print ('Score for SVC:')\n",
        "print (svc.score(X_bal, y_bal),'\\n')\n",
        "print ('Score for Random Forest:')\n",
        "rf.score (X_bal, y_bal)"
      ],
      "execution_count": 20,
      "outputs": [
        {
          "output_type": "stream",
          "text": [
            "Score for Logistic Regression:\n",
            "0.9543147208121827 \n",
            "\n",
            "Score for SVC:\n",
            "0.9441624365482234 \n",
            "\n",
            "Score for Random Forest:\n"
          ],
          "name": "stdout"
        },
        {
          "output_type": "execute_result",
          "data": {
            "text/plain": [
              "0.9949238578680203"
            ]
          },
          "metadata": {
            "tags": []
          },
          "execution_count": 20
        }
      ]
    },
    {
      "cell_type": "markdown",
      "metadata": {
        "id": "wFDUaHZeRPOG",
        "colab_type": "text"
      },
      "source": [
        "**Above we can see our score from our balanced training set with `Logistic Regression` and `SVC` models scoring approximately 95% and 94% respectively and `Random Forest` scoring 99%, but let's see how the predictions go...**"
      ]
    },
    {
      "cell_type": "code",
      "metadata": {
        "id": "XGUkkHsGLOPu",
        "colab_type": "code",
        "colab": {}
      },
      "source": [
        "# Predicting the Test set results\n",
        "# Prevendo os resultados do Test\n",
        "y_reg = reg.predict(X_test)\n",
        "y_svc = svc.predict(X_test)\n",
        "y_rf = rf.predict(X_test)"
      ],
      "execution_count": 0,
      "outputs": []
    },
    {
      "cell_type": "markdown",
      "metadata": {
        "id": "xs08vEfyUf_a",
        "colab_type": "text"
      },
      "source": [
        "**After predict from the test set these are ou model accuracies with the SVC model having a slightly better performance, below we are going to see our confusion matrix to visualize how did the predictions went.** "
      ]
    },
    {
      "cell_type": "code",
      "metadata": {
        "id": "F3PTw1ndcwQn",
        "colab_type": "code",
        "outputId": "5c167969-1fc7-46c8-a647-6363bd4c4b6d",
        "colab": {
          "base_uri": "https://localhost:8080/",
          "height": 170
        }
      },
      "source": [
        "# check accuracy of the model\n",
        "from sklearn.metrics import accuracy_score\n",
        "print(\"Logistic Regression\\nAccuracy: {:.4f}\\n\".format(accuracy_score(y_test, y_reg)))\n",
        "\n",
        "print(\"SVC\\nAccuracy: {:.4f}\\n\".format(accuracy_score(y_test, y_svc)))\n",
        "\n",
        "print(\"Random Forest\\nAccuracy: {:.4f}\\n\".format(accuracy_score(y_test, y_rf)))"
      ],
      "execution_count": 22,
      "outputs": [
        {
          "output_type": "stream",
          "text": [
            "Logistic Regression\n",
            "Accuracy: 0.9742\n",
            "\n",
            "SVC\n",
            "Accuracy: 0.9812\n",
            "\n",
            "Random Forest\n",
            "Accuracy: 0.9681\n",
            "\n"
          ],
          "name": "stdout"
        }
      ]
    },
    {
      "cell_type": "markdown",
      "metadata": {
        "colab_type": "text",
        "id": "mvEtmANIDrUX"
      },
      "source": [
        "# Evaluate model performance\n",
        "\n",
        "* We are going to use the **Confusion Matrix** to see how the predictions went and also have a look at the **Classification Report**.\n"
      ]
    },
    {
      "cell_type": "code",
      "metadata": {
        "id": "0_CbHP39dR_N",
        "colab_type": "code",
        "outputId": "871baf9c-f916-4a75-8b18-6b574a49352a",
        "colab": {
          "base_uri": "https://localhost:8080/",
          "height": 275
        }
      },
      "source": [
        "# install scikit plot package\n",
        "!pip install scikit-plot"
      ],
      "execution_count": 24,
      "outputs": [
        {
          "output_type": "stream",
          "text": [
            "Collecting scikit-plot\n",
            "  Downloading https://files.pythonhosted.org/packages/7c/47/32520e259340c140a4ad27c1b97050dd3254fdc517b1d59974d47037510e/scikit_plot-0.3.7-py3-none-any.whl\n",
            "Requirement already satisfied: joblib>=0.10 in /usr/local/lib/python3.6/dist-packages (from scikit-plot) (0.15.1)\n",
            "Requirement already satisfied: scikit-learn>=0.18 in /usr/local/lib/python3.6/dist-packages (from scikit-plot) (0.22.2.post1)\n",
            "Requirement already satisfied: scipy>=0.9 in /usr/local/lib/python3.6/dist-packages (from scikit-plot) (1.4.1)\n",
            "Requirement already satisfied: matplotlib>=1.4.0 in /usr/local/lib/python3.6/dist-packages (from scikit-plot) (3.2.1)\n",
            "Requirement already satisfied: numpy>=1.11.0 in /usr/local/lib/python3.6/dist-packages (from scikit-learn>=0.18->scikit-plot) (1.18.4)\n",
            "Requirement already satisfied: cycler>=0.10 in /usr/local/lib/python3.6/dist-packages (from matplotlib>=1.4.0->scikit-plot) (0.10.0)\n",
            "Requirement already satisfied: pyparsing!=2.0.4,!=2.1.2,!=2.1.6,>=2.0.1 in /usr/local/lib/python3.6/dist-packages (from matplotlib>=1.4.0->scikit-plot) (2.4.7)\n",
            "Requirement already satisfied: python-dateutil>=2.1 in /usr/local/lib/python3.6/dist-packages (from matplotlib>=1.4.0->scikit-plot) (2.8.1)\n",
            "Requirement already satisfied: kiwisolver>=1.0.1 in /usr/local/lib/python3.6/dist-packages (from matplotlib>=1.4.0->scikit-plot) (1.2.0)\n",
            "Requirement already satisfied: six in /usr/local/lib/python3.6/dist-packages (from cycler>=0.10->matplotlib>=1.4.0->scikit-plot) (1.12.0)\n",
            "Installing collected packages: scikit-plot\n",
            "Successfully installed scikit-plot-0.3.7\n"
          ],
          "name": "stdout"
        }
      ]
    },
    {
      "cell_type": "markdown",
      "metadata": {
        "id": "ITbWFSD3hdCb",
        "colab_type": "text"
      },
      "source": [
        "## Confusion Matrix\n",
        "\n",
        "These are our 3 confusion matrix, we notice that the results are pretty similar, but there is some interesting analysis that called my attention:\n",
        "\n",
        "*  The SVC model predicted a `fraud` wrong fewer times(883) than other models in this case making fewer customers angry, not having their credit card blocked.\n",
        "\n",
        "* On the other hand, the model predicts a `normal` transaction wrong more times, 17 against the 14 from logistic regression and 12 from the random forest, than the other models, leaving more customers angry not having fraudulent transactions detect.\n",
        "\n",
        "***Let's just remember this: our dataset is only from a `TWO-DAY` period, where 492 frauds were classified in almost 290 thousand transactions.***\n",
        "\n",
        "So, it looks likeit does not mean much now but if we start to think about all transactions in a week, month, year, holidays like **Black Friday** and **Christmas**, where gift shopping grows extensively, that number of customers harmed can increase significantly."
      ]
    },
    {
      "cell_type": "code",
      "metadata": {
        "id": "yc9xDVpv954E",
        "colab_type": "code",
        "outputId": "1982dbc3-0813-41b6-ba24-f3064e6c096f",
        "colab": {
          "base_uri": "https://localhost:8080/",
          "height": 868
        }
      },
      "source": [
        "# importing librarie to print confusion matrix\n",
        "# importando biblioteca para mostrar matriz de confusao\n",
        "import scikitplot as skplt\n",
        "\n",
        "skplt.metrics.plot_confusion_matrix(y_test, y_reg,  title='Logistic Regression')\n",
        "skplt.metrics.plot_confusion_matrix(y_test, y_svc, normalize=False, title='SVC')\n",
        "skplt.metrics.plot_confusion_matrix(y_test, y_rf, normalize= False, title='Random Forest')"
      ],
      "execution_count": 25,
      "outputs": [
        {
          "output_type": "execute_result",
          "data": {
            "text/plain": [
              "<matplotlib.axes._subplots.AxesSubplot at 0x7f98e1ee1240>"
            ]
          },
          "metadata": {
            "tags": []
          },
          "execution_count": 25
        },
        {
          "output_type": "display_data",
          "data": {
            "image/png": "[encoded data removed]",
            "text/plain": [
              "<Figure size 432x288 with 2 Axes>"
            ]
          },
          "metadata": {
            "tags": [],
            "needs_background": "light"
          }
        },
        {
          "output_type": "display_data",
          "data": {
            "image/png": "[encoded data removed]",
            "text/plain": [
              "<Figure size 432x288 with 2 Axes>"
            ]
          },
          "metadata": {
            "tags": [],
            "needs_background": "light"
          }
        },
        {
          "output_type": "display_data",
          "data": {
            "image/png": "[encoded data removed]",
            "text/plain": [
              "<Figure size 432x288 with 2 Axes>"
            ]
          },
          "metadata": {
            "tags": [],
            "needs_background": "light"
          }
        }
      ]
    },
    {
      "cell_type": "markdown",
      "metadata": {
        "id": "VzBFiIZb2EC1",
        "colab_type": "text"
      },
      "source": [
        "## Classification Report\n",
        "\n",
        "Let's check our classification report that shows a lot of information about our trained and tested Machine Learning models.\n",
        "\n",
        "*   **Precision:** Accuracy of positive predictions.\n",
        "\n",
        "*   **Recall:** Fraction of positives that were correctly identified.\n",
        "\n",
        "*  **F1- score:** Is a weighted harmonic mean of precision and recall such that the best score is 1.0 and the worst is 0.0"
      ]
    },
    {
      "cell_type": "code",
      "metadata": {
        "id": "-wb4CgDONyUm",
        "colab_type": "code",
        "outputId": "86089cfc-7134-4c27-b158-8b810fc345eb",
        "colab": {
          "base_uri": "https://localhost:8080/",
          "height": 697
        }
      },
      "source": [
        "# CLassification report for each model\n",
        "# Relatorio de classificacao para cada model\n",
        " \n",
        "print('CLASSIFICATION REPORT\\nLogistic Regression Model\\n')\n",
        "print(classification_report(y_test, y_reg))\n",
        "\n",
        "\n",
        "print('\\n\\nCLASSIFICATION REPORT\\nSVM Model\\n')\n",
        "print(classification_report(y_test, y_svc))\n",
        "\n",
        "\n",
        "print('\\n\\nCLASSIFICATION REPORT\\nRandom Forest Classifier Model\\n')\n",
        "print(classification_report(y_test, y_rf))"
      ],
      "execution_count": 26,
      "outputs": [
        {
          "output_type": "stream",
          "text": [
            "CLASSIFICATION REPORT\n",
            "Logistic Regression Model\n",
            "\n",
            "              precision    recall  f1-score   support\n",
            "\n",
            "           0       1.00      0.97      0.99     56864\n",
            "           1       0.06      0.88      0.10        98\n",
            "\n",
            "    accuracy                           0.97     56962\n",
            "   macro avg       0.53      0.93      0.55     56962\n",
            "weighted avg       1.00      0.97      0.99     56962\n",
            "\n",
            "\n",
            "\n",
            "CLASSIFICATION REPORT\n",
            "SVM Model\n",
            "\n",
            "              precision    recall  f1-score   support\n",
            "\n",
            "           0       1.00      0.98      0.99     56864\n",
            "           1       0.08      0.88      0.14        98\n",
            "\n",
            "    accuracy                           0.98     56962\n",
            "   macro avg       0.54      0.93      0.56     56962\n",
            "weighted avg       1.00      0.98      0.99     56962\n",
            "\n",
            "\n",
            "\n",
            "CLASSIFICATION REPORT\n",
            "Random Forest Classifier Model\n",
            "\n",
            "              precision    recall  f1-score   support\n",
            "\n",
            "           0       1.00      0.97      0.98     56864\n",
            "           1       0.05      0.88      0.09        98\n",
            "\n",
            "    accuracy                           0.97     56962\n",
            "   macro avg       0.52      0.92      0.54     56962\n",
            "weighted avg       1.00      0.97      0.98     56962\n",
            "\n"
          ],
          "name": "stdout"
        }
      ]
    },
    {
      "cell_type": "markdown",
      "metadata": {
        "id": "p503xMY8ezf4",
        "colab_type": "text"
      },
      "source": [
        "#Applying k-Fold Cross-Validation\n",
        "\n",
        "To estimate the skill of our Machine Learning models on unseen data we are going to use the statistical model called Cross-Validation.\n",
        "\n",
        "And below we can see the results:"
      ]
    },
    {
      "cell_type": "code",
      "metadata": {
        "id": "qeM3Xqo7fI1Y",
        "colab_type": "code",
        "outputId": "965a8a58-77b9-4290-8c67-e2b41928774a",
        "colab": {
          "base_uri": "https://localhost:8080/",
          "height": 238
        }
      },
      "source": [
        "# Importing module to apply K-Fold Cross Validation\n",
        "# Importando o modulo para aplicar K-Fold Cross Validation \n",
        "from sklearn.model_selection import cross_val_score\n",
        "accu_reg = cross_val_score(estimator = reg, X = X_bal, y = y_bal, cv = 10)\n",
        "print('Logistic Regression results:')\n",
        "print(\"Accuracy: {:.2f} %\".format(accu_reg.mean()*100))\n",
        "print(\"Standard Deviation: {:.2f} %\".format(accu_reg.std()*100))\n",
        "\n",
        "accu_svc = cross_val_score(estimator = svc, X = X_bal, y = y_bal, cv = 10)\n",
        "print('\\n\\nSVC results:')\n",
        "print(\"Accuracy: {:.2f} %\".format(accu_svc.mean()*100))\n",
        "print(\"Standard Deviation: {:.2f} %\".format(accu_svc.std()*100))\n",
        "\n",
        "accu_rf = cross_val_score(estimator = rf, X = X_bal, y = y_bal, cv = 10)\n",
        "print('\\n\\nRandom Forest results:')\n",
        "print(\"Accuracy: {:.2f} %\".format(accu_rf.mean()*100))\n",
        "print(\"Standard Deviation: {:.2f} %\".format(accu_rf.std()*100))"
      ],
      "execution_count": 27,
      "outputs": [
        {
          "output_type": "stream",
          "text": [
            "Logistic Regression results:\n",
            "Accuracy: 94.80 %\n",
            "Standard Deviation: 2.01 %\n",
            "\n",
            "\n",
            "SVC results:\n",
            "Accuracy: 94.03 %\n",
            "Standard Deviation: 2.06 %\n",
            "\n",
            "\n",
            "Random Forest results:\n",
            "Accuracy: 94.16 %\n",
            "Standard Deviation: 1.92 %\n"
          ],
          "name": "stdout"
        }
      ]
    },
    {
      "cell_type": "markdown",
      "metadata": {
        "id": "0Bj7zRZMSfO7",
        "colab_type": "text"
      },
      "source": [
        "# Conclusion\n",
        "\n",
        "After all these steps we finally finished this project and after applying K-Fold Cross Validation we can see that in the end, the Logistic Regression model gave us better results with better accuracy and less standard deviation.\n",
        "\n",
        "To get better results would be good to get more data and test our model to see how it's performing. We could use also a technique called Grid Search to change parameters and find the best tuning for our models.\n",
        "\n",
        "The idea here was to compare the models and see which one performed better in this data.\n",
        "\n",
        "Thanks hope you enjoy it.\n"
      ]
    }
  ]
}