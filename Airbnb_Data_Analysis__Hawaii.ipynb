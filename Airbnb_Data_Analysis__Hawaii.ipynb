{
  "nbformat": 4,
  "nbformat_minor": 0,
  "metadata": {
    "colab": {
      "name": "Airbnb_Data_Analysis_ Hawaii",
      "provenance": [],
      "collapsed_sections": [],
      "toc_visible": true,
      "authorship_tag": "ABX9TyMLPqK+qkueoD463U1lu9a/",
      "include_colab_link": true
    },
    "kernelspec": {
      "name": "python3",
      "display_name": "Python 3"
    }
  },
  "cells": [
    {
      "cell_type": "markdown",
      "metadata": {
        "id": "view-in-github",
        "colab_type": "text"
      },
      "source": [
        "<a href=\"https://colab.research.google.com/github/glauciodrumond/Data_Science_Projects/blob/master/Airbnb_Data_Analysis__Hawaii.ipynb\" target=\"_parent\"><img src=\"https://colab.research.google.com/assets/colab-badge.svg\" alt=\"Open In Colab\"/></a>"
      ]
    },
    {
      "cell_type": "markdown",
      "metadata": {
        "id": "89UGYzJ-pfB4",
        "colab_type": "text"
      },
      "source": [
        "<center><img alt=\"Analisando Airbnb\" width=\"100%\" src=\"https://3npro2k2jyx3gj3xd33s373n-wpengine.netdna-ssl.com/wp-content/uploads/2019/09/Hawaii2020.jpg\"></center>"
      ]
    },
    {
      "cell_type": "markdown",
      "metadata": {
        "id": "f6ecj7isZ0x5",
        "colab_type": "text"
      },
      "source": [
        "# Airbnb Data Analysis - Hawaii\n",
        "\n",
        "Hawaii is a state of the United States of America. It is the only state located in the Pacific Ocean and the only state composed entirely of islands.\n",
        "\n",
        "Hawaiʻi's diverse natural scenery, warm tropical climate, the abundance of public beaches, oceanic surroundings, and active volcanoes make it a popular destination for tourists, surfers, biologists, and volcanologists. Because of its central location in the Pacific and 19th-century labor migration, Hawaii's culture is strongly influenced by North American and East Asian cultures, in addition to its indigenous Hawaiian culture.\n",
        "\n",
        "[Airbnb](https://www.airbnb.com.br/)  is already considered to be the **largest hotel company today**. Oh, the detail is: **it does not have any hotel**!\n",
        "\n",
        "Connecting people around the world who want to travel and hosts who want to rent their propertiespractically and easily, Airbnb \n",
        "provides an innovative platform to make this hosting alternative.\n",
        "\n",
        "\n",
        "At the end of 2018, the Startup founded 10 years ago, had already **hosted more than 300 million** people around the world, challenging traditional hotel chains.\n",
        "\n",
        "\n",
        "One of Airbnb's initiatives is to provide website data for some of the world's major cities. Through the webpage [Inside Airbnb](http://insideairbnb.com/get-the-data.html), \n",
        "it is possible to download a large amount of data to develop *Data Science* projects and solutions.\n",
        "\n",
        "<center><img alt=\"Analisando Airbnb\" width=\"30%\" src=\"https://www.area360.com.au/wp-content/uploads/2017/09/airbnb-logo.jpg\"></center>\n",
        "\n",
        "\n",
        "**In this *notebook*, we will analyze the data relating to the city of Hawaii, and see what insights can be extracted from raw data.**"
      ]
    },
    {
      "cell_type": "markdown",
      "metadata": {
        "id": "ef_sDDLdcyGB",
        "colab_type": "text"
      },
      "source": [
        "#Getting the Data\n",
        "All data used here was an extract from [Inside Airbnb](http://insideairbnb.com/get-the-data.html)\n",
        "For initial analysis exploratory, it will only download the archive:\n",
        "\n",
        "* `listings.csv` - Summary information and metrics for listings in Rio de Janeiro (good for visualizations)"
      ]
    },
    {
      "cell_type": "code",
      "metadata": {
        "id": "teHswTYbZ-sX",
        "colab_type": "code",
        "outputId": "01fa6248-d9c2-4683-a475-21df164bfb8e",
        "colab": {
          "base_uri": "https://localhost:8080/",
          "height": 50
        }
      },
      "source": [
        "#importing packs\n",
        "import pandas as pd\n",
        "import matplotlib.pyplot as plt\n",
        "import seaborn as sns\n",
        "\n",
        "%matplotlib inline"
      ],
      "execution_count": 0,
      "outputs": [
        {
          "output_type": "stream",
          "text": [
            "/usr/local/lib/python3.6/dist-packages/statsmodels/tools/_testing.py:19: FutureWarning: pandas.util.testing is deprecated. Use the functions in the public API at pandas.testing instead.\n",
            "  import pandas.util.testing as tm\n"
          ],
          "name": "stderr"
        }
      ]
    },
    {
      "cell_type": "code",
      "metadata": {
        "id": "SS6-rPeva3Lu",
        "colab_type": "code",
        "colab": {}
      },
      "source": [
        "#getting the data from archive listings.csv\n",
        "data = pd.read_csv ('http://data.insideairbnb.com/united-states/hi/hawaii/2019-12-04/visualisations/listings.csv')"
      ],
      "execution_count": 0,
      "outputs": []
    },
    {
      "cell_type": "markdown",
      "metadata": {
        "id": "E-JP-YZip5w0",
        "colab_type": "text"
      },
      "source": [
        "#Data Analysis\n",
        "This step aims to create an initial situational awareness and allow an understanding of how the data is structured."
      ]
    },
    {
      "cell_type": "markdown",
      "metadata": {
        "id": "RYgvuebKNg8-",
        "colab_type": "text"
      },
      "source": [
        "Before starting any analysis, let's check the face of our dataset, analyzing the first 5 entries.**Dictionary of variables**\n",
        "\n",
        "* `id` - number generated to identify the property\n",
        "* `name` - advertised property name\n",
        "* `host_id` - property owner (host) id number\n",
        "* `host_name` - \n",
        "* `neighbourhood_group` - \n",
        "* `neighbourhood` -\n",
        "* `latitude` - latitude coordinate of the property\n",
        "* `longitude` - longitude coordinate of the property\n",
        "* `room_type` - informs the type of room that is offered\n",
        "* `price` - price to rent the property\n",
        "* `minimum_nights` - minimum number of nights to book\n",
        "* `number_of_reviews` - number of reviews the property has\n",
        "* `last_review` - date of last review\n",
        "* `reviews_per_month` - number of reviews per month\n",
        "* `calculated_host_listings_count` - number of properties from the same host\n",
        "* `availability_365` - number of days of availability within 365 days\n",
        "\n",
        "Before starting any analysis, let's check the face of our *dataset*, analyzing the first 5 entries."
      ]
    },
    {
      "cell_type": "code",
      "metadata": {
        "id": "W-mkP57kbdze",
        "colab_type": "code",
        "outputId": "b25ffd84-a3a1-42d4-d802-2a50752115cf",
        "colab": {
          "base_uri": "https://localhost:8080/",
          "height": 401
        }
      },
      "source": [
        "#shows the variables and firt 5 entries\n",
        "data.head()"
      ],
      "execution_count": 0,
      "outputs": [
        {
          "output_type": "execute_result",
          "data": {
            "text/html": [
              "<div>\n",
              "<style scoped>\n",
              "    .dataframe tbody tr th:only-of-type {\n",
              "        vertical-align: middle;\n",
              "    }\n",
              "\n",
              "    .dataframe tbody tr th {\n",
              "        vertical-align: top;\n",
              "    }\n",
              "\n",
              "    .dataframe thead th {\n",
              "        text-align: right;\n",
              "    }\n",
              "</style>\n",
              "<table border=\"1\" class=\"dataframe\">\n",
              "  <thead>\n",
              "    <tr style=\"text-align: right;\">\n",
              "      <th></th>\n",
              "      <th>id</th>\n",
              "      <th>name</th>\n",
              "      <th>host_id</th>\n",
              "      <th>host_name</th>\n",
              "      <th>neighbourhood_group</th>\n",
              "      <th>neighbourhood</th>\n",
              "      <th>latitude</th>\n",
              "      <th>longitude</th>\n",
              "      <th>room_type</th>\n",
              "      <th>price</th>\n",
              "      <th>minimum_nights</th>\n",
              "      <th>number_of_reviews</th>\n",
              "      <th>last_review</th>\n",
              "      <th>reviews_per_month</th>\n",
              "      <th>calculated_host_listings_count</th>\n",
              "      <th>availability_365</th>\n",
              "    </tr>\n",
              "  </thead>\n",
              "  <tbody>\n",
              "    <tr>\n",
              "      <th>0</th>\n",
              "      <td>5065</td>\n",
              "      <td>MAUKA BB</td>\n",
              "      <td>7257</td>\n",
              "      <td>Wayne</td>\n",
              "      <td>Hawaii</td>\n",
              "      <td>Hamakua</td>\n",
              "      <td>20.04095</td>\n",
              "      <td>-155.43251</td>\n",
              "      <td>Entire home/apt</td>\n",
              "      <td>85</td>\n",
              "      <td>2</td>\n",
              "      <td>37</td>\n",
              "      <td>2019-08-19</td>\n",
              "      <td>0.45</td>\n",
              "      <td>2</td>\n",
              "      <td>359</td>\n",
              "    </tr>\n",
              "    <tr>\n",
              "      <th>1</th>\n",
              "      <td>5269</td>\n",
              "      <td>Upcountry Hospitality in the 'Auwai Suite</td>\n",
              "      <td>7620</td>\n",
              "      <td>Lea &amp; Pat</td>\n",
              "      <td>Hawaii</td>\n",
              "      <td>South Kohala</td>\n",
              "      <td>20.02621</td>\n",
              "      <td>-155.70145</td>\n",
              "      <td>Entire home/apt</td>\n",
              "      <td>110</td>\n",
              "      <td>2</td>\n",
              "      <td>9</td>\n",
              "      <td>2019-10-20</td>\n",
              "      <td>0.09</td>\n",
              "      <td>5</td>\n",
              "      <td>251</td>\n",
              "    </tr>\n",
              "    <tr>\n",
              "      <th>2</th>\n",
              "      <td>5387</td>\n",
              "      <td>Hale Koa Studio &amp; 1 Bedroom Units!!</td>\n",
              "      <td>7878</td>\n",
              "      <td>Edward</td>\n",
              "      <td>Hawaii</td>\n",
              "      <td>South Kona</td>\n",
              "      <td>19.43119</td>\n",
              "      <td>-155.88079</td>\n",
              "      <td>Entire home/apt</td>\n",
              "      <td>92</td>\n",
              "      <td>5</td>\n",
              "      <td>162</td>\n",
              "      <td>2019-11-19</td>\n",
              "      <td>1.36</td>\n",
              "      <td>3</td>\n",
              "      <td>282</td>\n",
              "    </tr>\n",
              "    <tr>\n",
              "      <th>3</th>\n",
              "      <td>5389</td>\n",
              "      <td>Keauhou Villa</td>\n",
              "      <td>7878</td>\n",
              "      <td>Edward</td>\n",
              "      <td>Hawaii</td>\n",
              "      <td>North Kona</td>\n",
              "      <td>19.56413</td>\n",
              "      <td>-155.96347</td>\n",
              "      <td>Entire home/apt</td>\n",
              "      <td>299</td>\n",
              "      <td>6</td>\n",
              "      <td>17</td>\n",
              "      <td>2019-11-21</td>\n",
              "      <td>0.23</td>\n",
              "      <td>3</td>\n",
              "      <td>217</td>\n",
              "    </tr>\n",
              "    <tr>\n",
              "      <th>4</th>\n",
              "      <td>5390</td>\n",
              "      <td>STAY AT PRINCE KUHIO!</td>\n",
              "      <td>7887</td>\n",
              "      <td>Todd</td>\n",
              "      <td>Kauai</td>\n",
              "      <td>Koloa-Poipu</td>\n",
              "      <td>21.88305</td>\n",
              "      <td>-159.47372</td>\n",
              "      <td>Entire home/apt</td>\n",
              "      <td>92</td>\n",
              "      <td>3</td>\n",
              "      <td>130</td>\n",
              "      <td>2019-11-18</td>\n",
              "      <td>1.01</td>\n",
              "      <td>1</td>\n",
              "      <td>170</td>\n",
              "    </tr>\n",
              "  </tbody>\n",
              "</table>\n",
              "</div>"
            ],
            "text/plain": [
              "     id  ... availability_365\n",
              "0  5065  ...              359\n",
              "1  5269  ...              251\n",
              "2  5387  ...              282\n",
              "3  5389  ...              217\n",
              "4  5390  ...              170\n",
              "\n",
              "[5 rows x 16 columns]"
            ]
          },
          "metadata": {
            "tags": []
          },
          "execution_count": 3
        }
      ]
    },
    {
      "cell_type": "markdown",
      "metadata": {
        "id": "quAW1cwtfBx6",
        "colab_type": "text"
      },
      "source": [
        "## Q1. How many attributes(variables) and how many entries does our set has? What is the type of the variable?\n",
        "\n",
        "Let's go ahead and identify the number of entries that our dataset has and see the types of each column.\n",
        "\n",
        "This dataset we downloaded is the \"short\" version of Airbnb. On the same page, we downloaded the file listings.csv. There is a more complete version with 35847 entries and 106 variables (listings.csv.gz)."
      ]
    },
    {
      "cell_type": "code",
      "metadata": {
        "id": "pGhji5COhMtw",
        "colab_type": "code",
        "outputId": "12b74756-aa22-4722-a090-c7c5404478ad",
        "colab": {
          "base_uri": "https://localhost:8080/",
          "height": 350
        }
      },
      "source": [
        "#Indetify the data volume \n",
        "print(\"Variables:\\t {}\".format(data.shape[1]))\n",
        "print(\"Entries:\\t {}\\n\".format(data.shape[0]))\n",
        "\n",
        "display(data.dtypes)"
      ],
      "execution_count": 0,
      "outputs": [
        {
          "output_type": "stream",
          "text": [
            "Variables:\t 16\n",
            "Entries:\t 23745\n",
            "\n"
          ],
          "name": "stdout"
        },
        {
          "output_type": "display_data",
          "data": {
            "text/plain": [
              "id                                  int64\n",
              "name                               object\n",
              "host_id                             int64\n",
              "host_name                          object\n",
              "neighbourhood_group                object\n",
              "neighbourhood                      object\n",
              "latitude                          float64\n",
              "longitude                         float64\n",
              "room_type                          object\n",
              "price                               int64\n",
              "minimum_nights                      int64\n",
              "number_of_reviews                   int64\n",
              "last_review                        object\n",
              "reviews_per_month                 float64\n",
              "calculated_host_listings_count      int64\n",
              "availability_365                    int64\n",
              "dtype: object"
            ]
          },
          "metadata": {
            "tags": []
          }
        }
      ]
    },
    {
      "cell_type": "markdown",
      "metadata": {
        "id": "Nsd0ARy8jeEQ",
        "colab_type": "text"
      },
      "source": [
        "##Q2. What is the percentage of missing values ​​in the dataset?\n",
        "\n",
        "The quality of a dataset is directly related to the number of missing values. It is important to understand early on whether these null values ​​are significant compared to the total entries.\n",
        "\n",
        "*  You can see that the `revies_per_month` and `last_review` column has close to 23% of its missing values.\n",
        "*  The variable `host_name` has approximately 1,2% of the null values.\n",
        "*  The variable `name` has approximately 0.07% of the null values.\n",
        "\n",
        "\n"
      ]
    },
    {
      "cell_type": "code",
      "metadata": {
        "id": "hS7ddj03je9k",
        "colab_type": "code",
        "outputId": "f8a958c0-e9df-4e5c-fc5c-5128a33b7a88",
        "colab": {
          "base_uri": "https://localhost:8080/",
          "height": 300
        }
      },
      "source": [
        "# sort the variables in descending order by their missing values\n",
        "(data.isnull().sum() / data.shape[0]).sort_values(ascending=False)"
      ],
      "execution_count": 0,
      "outputs": [
        {
          "output_type": "execute_result",
          "data": {
            "text/plain": [
              "reviews_per_month                 0.229564\n",
              "last_review                       0.229564\n",
              "host_name                         0.011623\n",
              "name                              0.000674\n",
              "availability_365                  0.000000\n",
              "calculated_host_listings_count    0.000000\n",
              "number_of_reviews                 0.000000\n",
              "minimum_nights                    0.000000\n",
              "price                             0.000000\n",
              "room_type                         0.000000\n",
              "longitude                         0.000000\n",
              "latitude                          0.000000\n",
              "neighbourhood                     0.000000\n",
              "neighbourhood_group               0.000000\n",
              "host_id                           0.000000\n",
              "id                                0.000000\n",
              "dtype: float64"
            ]
          },
          "metadata": {
            "tags": []
          },
          "execution_count": 5
        }
      ]
    },
    {
      "cell_type": "markdown",
      "metadata": {
        "id": "Nma7-cuQnzWS",
        "colab_type": "text"
      },
      "source": [
        "##Q3. What is the type of distribution of the variables?\n",
        "To identify the distribution of the variables, I will plot the histogram."
      ]
    },
    {
      "cell_type": "code",
      "metadata": {
        "id": "ghtUOnE1ocb7",
        "colab_type": "code",
        "outputId": "4bc15300-6249-4ef5-ecb8-5c140d68e3f1",
        "colab": {
          "base_uri": "https://localhost:8080/",
          "height": 606
        }
      },
      "source": [
        "#Only numerical histogram will be plot\n",
        "data.hist(bins=15, figsize=(15,10));"
      ],
      "execution_count": 0,
      "outputs": [
        {
          "output_type": "display_data",
          "data": {
            "image/png": "[encoded data removed]",
            "text/plain": [
              "<Figure size 1080x720 with 12 Axes>"
            ]
          },
          "metadata": {
            "tags": [],
            "needs_background": "light"
          }
        }
      ]
    },
    {
      "cell_type": "markdown",
      "metadata": {
        "id": "qjOKp3xaDokV",
        "colab_type": "text"
      },
      "source": [
        "##Q4. Any outliers?\n",
        "\n",
        "By distributing the histogram, it is possible to check for evidence of the presence of outliers. Take for example the `variables price`, `minimum_nights`, and `calculated_host_listings_count`.\n",
        "\n",
        "The values ​​do not follow a distribution and distort the entire graphic representation. To confirm, there are two easy ways to help detect outliers. Are they:\n",
        "\n",
        "* Statistical summary using the description () method\n",
        "* Plot boxplots for a variable.\n",
        "\n",
        "\n"
      ]
    },
    {
      "cell_type": "code",
      "metadata": {
        "id": "E2ZQoJhZE82_",
        "colab_type": "code",
        "outputId": "fbcdf3f4-2bcc-4743-c1bf-8576a1ac2893",
        "colab": {
          "base_uri": "https://localhost:8080/",
          "height": 287
        }
      },
      "source": [
        "#verifie the statistical summary of numerical variables\n",
        "data[['price', 'minimum_nights', 'number_of_reviews', 'reviews_per_month',\n",
        "    'calculated_host_listings_count', 'availability_365']].describe()"
      ],
      "execution_count": 0,
      "outputs": [
        {
          "output_type": "execute_result",
          "data": {
            "text/html": [
              "<div>\n",
              "<style scoped>\n",
              "    .dataframe tbody tr th:only-of-type {\n",
              "        vertical-align: middle;\n",
              "    }\n",
              "\n",
              "    .dataframe tbody tr th {\n",
              "        vertical-align: top;\n",
              "    }\n",
              "\n",
              "    .dataframe thead th {\n",
              "        text-align: right;\n",
              "    }\n",
              "</style>\n",
              "<table border=\"1\" class=\"dataframe\">\n",
              "  <thead>\n",
              "    <tr style=\"text-align: right;\">\n",
              "      <th></th>\n",
              "      <th>price</th>\n",
              "      <th>minimum_nights</th>\n",
              "      <th>number_of_reviews</th>\n",
              "      <th>reviews_per_month</th>\n",
              "      <th>calculated_host_listings_count</th>\n",
              "      <th>availability_365</th>\n",
              "    </tr>\n",
              "  </thead>\n",
              "  <tbody>\n",
              "    <tr>\n",
              "      <th>count</th>\n",
              "      <td>23745.000000</td>\n",
              "      <td>23745.000000</td>\n",
              "      <td>23745.000000</td>\n",
              "      <td>18294.000000</td>\n",
              "      <td>23745.000000</td>\n",
              "      <td>23745.000000</td>\n",
              "    </tr>\n",
              "    <tr>\n",
              "      <th>mean</th>\n",
              "      <td>358.380291</td>\n",
              "      <td>5.385597</td>\n",
              "      <td>26.257907</td>\n",
              "      <td>1.398526</td>\n",
              "      <td>42.577090</td>\n",
              "      <td>190.334344</td>\n",
              "    </tr>\n",
              "    <tr>\n",
              "      <th>std</th>\n",
              "      <td>936.067258</td>\n",
              "      <td>11.176797</td>\n",
              "      <td>46.780110</td>\n",
              "      <td>1.523295</td>\n",
              "      <td>68.151171</td>\n",
              "      <td>110.226253</td>\n",
              "    </tr>\n",
              "    <tr>\n",
              "      <th>min</th>\n",
              "      <td>0.000000</td>\n",
              "      <td>1.000000</td>\n",
              "      <td>0.000000</td>\n",
              "      <td>0.000000</td>\n",
              "      <td>1.000000</td>\n",
              "      <td>0.000000</td>\n",
              "    </tr>\n",
              "    <tr>\n",
              "      <th>25%</th>\n",
              "      <td>128.000000</td>\n",
              "      <td>1.000000</td>\n",
              "      <td>1.000000</td>\n",
              "      <td>0.300000</td>\n",
              "      <td>2.000000</td>\n",
              "      <td>102.000000</td>\n",
              "    </tr>\n",
              "    <tr>\n",
              "      <th>50%</th>\n",
              "      <td>199.000000</td>\n",
              "      <td>3.000000</td>\n",
              "      <td>7.000000</td>\n",
              "      <td>0.880000</td>\n",
              "      <td>7.000000</td>\n",
              "      <td>219.000000</td>\n",
              "    </tr>\n",
              "    <tr>\n",
              "      <th>75%</th>\n",
              "      <td>340.000000</td>\n",
              "      <td>5.000000</td>\n",
              "      <td>31.000000</td>\n",
              "      <td>2.020000</td>\n",
              "      <td>54.000000</td>\n",
              "      <td>275.000000</td>\n",
              "    </tr>\n",
              "    <tr>\n",
              "      <th>max</th>\n",
              "      <td>24999.000000</td>\n",
              "      <td>365.000000</td>\n",
              "      <td>680.000000</td>\n",
              "      <td>22.600000</td>\n",
              "      <td>279.000000</td>\n",
              "      <td>365.000000</td>\n",
              "    </tr>\n",
              "  </tbody>\n",
              "</table>\n",
              "</div>"
            ],
            "text/plain": [
              "              price  ...  availability_365\n",
              "count  23745.000000  ...      23745.000000\n",
              "mean     358.380291  ...        190.334344\n",
              "std      936.067258  ...        110.226253\n",
              "min        0.000000  ...          0.000000\n",
              "25%      128.000000  ...        102.000000\n",
              "50%      199.000000  ...        219.000000\n",
              "75%      340.000000  ...        275.000000\n",
              "max    24999.000000  ...        365.000000\n",
              "\n",
              "[8 rows x 6 columns]"
            ]
          },
          "metadata": {
            "tags": []
          },
          "execution_count": 7
        }
      ]
    },
    {
      "cell_type": "markdown",
      "metadata": {
        "id": "bzXRFU9lX8GI",
        "colab_type": "text"
      },
      "source": [
        "Taking a look at the statistical summary above, we can confirm some hypotheses such as:\n",
        "\n",
        "\n",
        "*   The variable price has 75% of the value below 340, but its max value is 24999. \n",
        "*   The variable minimum_nights has 75% of the value below 5, but its max value is 365.\n",
        "\n",
        "### Boxplot: minimum_nights \n",
        "\n"
      ]
    },
    {
      "cell_type": "code",
      "metadata": {
        "id": "piImqT0c-_28",
        "colab_type": "code",
        "outputId": "90170c26-7931-4d5b-bf92-c8aa57901611",
        "colab": {
          "base_uri": "https://localhost:8080/",
          "height": 261
        }
      },
      "source": [
        "# minimum_nights\n",
        "data.minimum_nights.plot(kind='box', vert=False, figsize=(15, 3))\n",
        "plt.show()\n",
        "\n",
        "#Show amount of values over 30 days for minimum_nights \n",
        "print(\"minimum_nights: values over 30:\")\n",
        "print(\"{} entries\".format(len(data[data.minimum_nights > 30])))\n",
        "print(\"{:.4f}%\".format((len(data[data.minimum_nights > 30]) / data.shape[0])*100))"
      ],
      "execution_count": 0,
      "outputs": [
        {
          "output_type": "display_data",
          "data": {
            "image/png": "[encoded data removed]",
            "text/plain": [
              "<Figure size 1080x216 with 1 Axes>"
            ]
          },
          "metadata": {
            "tags": [],
            "needs_background": "light"
          }
        },
        {
          "output_type": "stream",
          "text": [
            "minimum_nights: values over 30:\n",
            "173 entries\n",
            "0.7286%\n"
          ],
          "name": "stdout"
        }
      ]
    },
    {
      "cell_type": "markdown",
      "metadata": {
        "id": "3YRZlYWLgxLW",
        "colab_type": "text"
      },
      "source": [
        "### Boxplot: price"
      ]
    },
    {
      "cell_type": "code",
      "metadata": {
        "id": "c7UJCclf_Bdy",
        "colab_type": "code",
        "outputId": "9f0e1cea-ebfc-4298-ed3b-7a4a2b5b1c2b",
        "colab": {
          "base_uri": "https://localhost:8080/",
          "height": 277
        }
      },
      "source": [
        "# price\n",
        "data.price.plot(kind='box', vert=False, figsize=(15, 3),)\n",
        "plt.show()\n",
        "\n",
        "# number of values over 1500 for price\n",
        "print(\"\\nprice: values over 1500\")\n",
        "print(\"{} entries\".format(len(data[data.price > 1500])))\n",
        "print(\"{:.4f}%\".format((len(data[data.price > 1500]) / data.shape[0])*100))\n",
        "\n",
        "# df.price.plot(kind='box', vert=False, xlim=(0,1300), figsize=(15,3));"
      ],
      "execution_count": 0,
      "outputs": [
        {
          "output_type": "display_data",
          "data": {
            "image/png": "[encoded data removed]",
            "text/plain": [
              "<Figure size 1080x216 with 1 Axes>"
            ]
          },
          "metadata": {
            "tags": [],
            "needs_background": "light"
          }
        },
        {
          "output_type": "stream",
          "text": [
            "\n",
            "price: values over 1500\n",
            "594 entries\n",
            "2.5016%\n"
          ],
          "name": "stdout"
        }
      ]
    },
    {
      "cell_type": "markdown",
      "metadata": {
        "id": "S8nwWNthhFI_",
        "colab_type": "text"
      },
      "source": [
        "### Histogram without outliers\n",
        "Since we identify outliers in the price and minimum_nights variables, let's clean up their DataFrame and plot a new histogram.\n",
        "\n"
      ]
    },
    {
      "cell_type": "code",
      "metadata": {
        "id": "Qv4VbpmzAD76",
        "colab_type": "code",
        "outputId": "14a65fe3-cc1f-4293-874b-bfc2842401fa",
        "colab": {
          "base_uri": "https://localhost:8080/",
          "height": 606
        }
      },
      "source": [
        "# remove *outliers* new DataFrame\n",
        "df_clean = data.copy()\n",
        "df_clean.drop(df_clean[df_clean.price > 1500].index, axis=0, inplace=True)\n",
        "df_clean.drop(df_clean[df_clean.minimum_nights > 30].index, axis=0, inplace=True)\n",
        "\n",
        "# plot  histogram for numerical variables\n",
        "df_clean.hist(bins=15, figsize=(15,10));"
      ],
      "execution_count": 0,
      "outputs": [
        {
          "output_type": "display_data",
          "data": {
            "image/png": "[encoded data removed]",
            "text/plain": [
              "<Figure size 1080x720 with 12 Axes>"
            ]
          },
          "metadata": {
            "tags": [],
            "needs_background": "light"
          }
        }
      ]
    },
    {
      "cell_type": "markdown",
      "metadata": {
        "id": "gsOdQFhuiThv",
        "colab_type": "text"
      },
      "source": [
        "## Q5. What is the correlation between the variables?\n",
        "Correlation means that there is a relationship between two things.\n",
        "In our context, we are looking for a relationship or similarity between two variables.\n",
        "\n",
        "This relationship can be measured, and it is a function of the correlation coefficient to establish its intensity. To identify the correlations between the variables of interest, I will:\n",
        "\n",
        "\n",
        "*   Create a correlation matrix\n",
        "*   Generate a heatmap from this matrix, using the seaborn library\n",
        "\n"
      ]
    },
    {
      "cell_type": "code",
      "metadata": {
        "id": "53pkWsFBjX2v",
        "colab_type": "code",
        "outputId": "d498b962-76cf-4768-d0a6-156c67792385",
        "colab": {
          "base_uri": "https://localhost:8080/",
          "height": 227
        }
      },
      "source": [
        "# Create a correlation matrix\n",
        "corr = df_clean[['price', 'minimum_nights', 'number_of_reviews', 'reviews_per_month',\n",
        "    'calculated_host_listings_count', 'availability_365']].corr()\n",
        "\n",
        "display(corr)"
      ],
      "execution_count": 0,
      "outputs": [
        {
          "output_type": "display_data",
          "data": {
            "text/html": [
              "<div>\n",
              "<style scoped>\n",
              "    .dataframe tbody tr th:only-of-type {\n",
              "        vertical-align: middle;\n",
              "    }\n",
              "\n",
              "    .dataframe tbody tr th {\n",
              "        vertical-align: top;\n",
              "    }\n",
              "\n",
              "    .dataframe thead th {\n",
              "        text-align: right;\n",
              "    }\n",
              "</style>\n",
              "<table border=\"1\" class=\"dataframe\">\n",
              "  <thead>\n",
              "    <tr style=\"text-align: right;\">\n",
              "      <th></th>\n",
              "      <th>price</th>\n",
              "      <th>minimum_nights</th>\n",
              "      <th>number_of_reviews</th>\n",
              "      <th>reviews_per_month</th>\n",
              "      <th>calculated_host_listings_count</th>\n",
              "      <th>availability_365</th>\n",
              "    </tr>\n",
              "  </thead>\n",
              "  <tbody>\n",
              "    <tr>\n",
              "      <th>price</th>\n",
              "      <td>1.000000</td>\n",
              "      <td>-0.028574</td>\n",
              "      <td>-0.261799</td>\n",
              "      <td>-0.303199</td>\n",
              "      <td>0.173272</td>\n",
              "      <td>0.025223</td>\n",
              "    </tr>\n",
              "    <tr>\n",
              "      <th>minimum_nights</th>\n",
              "      <td>-0.028574</td>\n",
              "      <td>1.000000</td>\n",
              "      <td>-0.054771</td>\n",
              "      <td>-0.110829</td>\n",
              "      <td>-0.077882</td>\n",
              "      <td>-0.028839</td>\n",
              "    </tr>\n",
              "    <tr>\n",
              "      <th>number_of_reviews</th>\n",
              "      <td>-0.261799</td>\n",
              "      <td>-0.054771</td>\n",
              "      <td>1.000000</td>\n",
              "      <td>0.635253</td>\n",
              "      <td>-0.256883</td>\n",
              "      <td>-0.051607</td>\n",
              "    </tr>\n",
              "    <tr>\n",
              "      <th>reviews_per_month</th>\n",
              "      <td>-0.303199</td>\n",
              "      <td>-0.110829</td>\n",
              "      <td>0.635253</td>\n",
              "      <td>1.000000</td>\n",
              "      <td>-0.288084</td>\n",
              "      <td>-0.105779</td>\n",
              "    </tr>\n",
              "    <tr>\n",
              "      <th>calculated_host_listings_count</th>\n",
              "      <td>0.173272</td>\n",
              "      <td>-0.077882</td>\n",
              "      <td>-0.256883</td>\n",
              "      <td>-0.288084</td>\n",
              "      <td>1.000000</td>\n",
              "      <td>0.175346</td>\n",
              "    </tr>\n",
              "    <tr>\n",
              "      <th>availability_365</th>\n",
              "      <td>0.025223</td>\n",
              "      <td>-0.028839</td>\n",
              "      <td>-0.051607</td>\n",
              "      <td>-0.105779</td>\n",
              "      <td>0.175346</td>\n",
              "      <td>1.000000</td>\n",
              "    </tr>\n",
              "  </tbody>\n",
              "</table>\n",
              "</div>"
            ],
            "text/plain": [
              "                                   price  ...  availability_365\n",
              "price                           1.000000  ...          0.025223\n",
              "minimum_nights                 -0.028574  ...         -0.028839\n",
              "number_of_reviews              -0.261799  ...         -0.051607\n",
              "reviews_per_month              -0.303199  ...         -0.105779\n",
              "calculated_host_listings_count  0.173272  ...          0.175346\n",
              "availability_365                0.025223  ...          1.000000\n",
              "\n",
              "[6 rows x 6 columns]"
            ]
          },
          "metadata": {
            "tags": []
          }
        }
      ]
    },
    {
      "cell_type": "code",
      "metadata": {
        "id": "QSwZt5kMjjD3",
        "colab_type": "code",
        "outputId": "6a2424c2-807b-43dd-d2f3-0642b6782d96",
        "colab": {
          "base_uri": "https://localhost:8080/",
          "height": 411
        }
      },
      "source": [
        "#create a heatmap\n",
        "sns.heatmap(corr, cmap='RdBu', fmt='.2f', square=True, linecolor='white', annot=True);"
      ],
      "execution_count": 0,
      "outputs": [
        {
          "output_type": "display_data",
          "data": {
            "image/png": "[encoded data removed]",
            "text/plain": [
              "<Figure size 432x288 with 2 Axes>"
            ]
          },
          "metadata": {
            "tags": [],
            "needs_background": "light"
          }
        }
      ]
    },
    {
      "cell_type": "markdown",
      "metadata": {
        "id": "wVym30qZj2FN",
        "colab_type": "text"
      },
      "source": [
        "## Q6. What type of property is most rented on Airbnb?\n",
        "The room_type variable column indicates the type of rental that is advertised on Airbnb. If you have already rented on the website, you know that there are options for apartments/entire houses, just renting a room or even sharing a room with other people.\n",
        "\n",
        "Let's count the number of occurrences of each type of rental, using the value_counts () method. Italicized text"
      ]
    },
    {
      "cell_type": "code",
      "metadata": {
        "id": "HPzqb5odkbfC",
        "colab_type": "code",
        "outputId": "01adaee6-8370-407c-f43a-83c2fa326be2",
        "colab": {
          "base_uri": "https://localhost:8080/",
          "height": 100
        }
      },
      "source": [
        "#shows the amount of which type of property available\n",
        "df_clean.room_type.value_counts()"
      ],
      "execution_count": 0,
      "outputs": [
        {
          "output_type": "execute_result",
          "data": {
            "text/plain": [
              "Entire home/apt    20258\n",
              "Private room        2344\n",
              "Hotel room           272\n",
              "Shared room          108\n",
              "Name: room_type, dtype: int64"
            ]
          },
          "metadata": {
            "tags": []
          },
          "execution_count": 13
        }
      ]
    },
    {
      "cell_type": "code",
      "metadata": {
        "id": "HoH9uZuyk3iT",
        "colab_type": "code",
        "outputId": "cc87ea02-90db-4173-defa-5f5e78670340",
        "colab": {
          "base_uri": "https://localhost:8080/",
          "height": 100
        }
      },
      "source": [
        "# show the percentage of each type of property available\n",
        "df_clean.room_type.value_counts() / df_clean.shape[0]"
      ],
      "execution_count": 0,
      "outputs": [
        {
          "output_type": "execute_result",
          "data": {
            "text/plain": [
              "Entire home/apt    0.881472\n",
              "Private room       0.101993\n",
              "Hotel room         0.011835\n",
              "Shared room        0.004699\n",
              "Name: room_type, dtype: float64"
            ]
          },
          "metadata": {
            "tags": []
          },
          "execution_count": 14
        }
      ]
    },
    {
      "cell_type": "markdown",
      "metadata": {
        "id": "LTR6v2J7lRIM",
        "colab_type": "text"
      },
      "source": [
        "## Q7. What is the most expensive location in Hawaii?\n",
        "\n",
        "One way to check one variable against another is to use groupby(). In this case, we want to compare the neighborhoods based on the rental price."
      ]
    },
    {
      "cell_type": "code",
      "metadata": {
        "id": "CDWSiNLil9UI",
        "colab_type": "code",
        "outputId": "1b1c7d23-ba93-4c56-f666-e32775bbd697",
        "colab": {
          "base_uri": "https://localhost:8080/",
          "height": 216
        }
      },
      "source": [
        "df_clean.groupby(['neighbourhood']).price.mean().sort_values(ascending=False)[:10]"
      ],
      "execution_count": 0,
      "outputs": [
        {
          "output_type": "execute_result",
          "data": {
            "text/plain": [
              "neighbourhood\n",
              "Lahaina              384.597175\n",
              "Koloa-Poipu          373.877698\n",
              "South Kohala         362.854359\n",
              "Ewa                  346.132584\n",
              "North Shore Kauai    313.751163\n",
              "East Honolulu        295.777778\n",
              "Kihei-Makena         294.747758\n",
              "Koolaupoko           294.486679\n",
              "Hana                 285.216216\n",
              "Koolauloa            279.537383\n",
              "Name: price, dtype: float64"
            ]
          },
          "metadata": {
            "tags": []
          },
          "execution_count": 15
        }
      ]
    },
    {
      "cell_type": "markdown",
      "metadata": {
        "id": "B-6Kx67fmltb",
        "colab_type": "text"
      },
      "source": [
        "As Latitudes and Longitudes are provided for properties, it is possible to plot each point. For this, it is considered x=longitude and y=latitude."
      ]
    },
    {
      "cell_type": "code",
      "metadata": {
        "id": "5uy0jC49mmnA",
        "colab_type": "code",
        "outputId": "3d871d8b-788a-412a-ba64-4603b4a37faa",
        "colab": {
          "base_uri": "https://localhost:8080/",
          "height": 472
        }
      },
      "source": [
        "df_clean.plot(kind=\"scatter\", x='longitude', y='latitude', alpha=0.4, c=df_clean['price'], s=8,\n",
        "              cmap=plt.get_cmap('jet'), figsize=(12,8));"
      ],
      "execution_count": 0,
      "outputs": [
        {
          "output_type": "display_data",
          "data": {
            "image/png": "[encoded data removed]",
            "text/plain": [
              "<Figure size 864x576 with 2 Axes>"
            ]
          },
          "metadata": {
            "tags": [],
            "needs_background": "light"
          }
        }
      ]
    },
    {
      "cell_type": "markdown",
      "metadata": {
        "id": "G711gJuWoSS6",
        "colab_type": "text"
      },
      "source": [
        "# Conclusion\n",
        "\n",
        "This was only a superficial analysis was done in the Airbnb database, but it has already been noticed that there are outliers in some of the variables.\n",
        "\n",
        "Entire home/apt is the most available type of property in Hawaii and it represents 88% of total properties available.\n",
        "\n",
        "Lahaina has the most expensive average property rental prices while Koolauloa has the cheapest average price.\n",
        "\n",
        "Remember that this dataset is a short version, ideal only for an initial approach. It is recommended that the complete data set with 106 available attributes be used in further exploratory analysis.\n",
        "\n"
      ]
    }
  ]
}