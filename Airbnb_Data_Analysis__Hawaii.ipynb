{
  "nbformat": 4,
  "nbformat_minor": 0,
  "metadata": {
    "colab": {
      "name": "Airbnb_Data_Analysis_ Hawaii",
      "provenance": [],
      "collapsed_sections": [],
      "toc_visible": true,
      "authorship_tag": "ABX9TyPJuV0YB18XrQR2WVt3uYBU",
      "include_colab_link": true
    },
    "kernelspec": {
      "name": "python3",
      "display_name": "Python 3"
    }
  },
  "cells": [
    {
      "cell_type": "markdown",
      "metadata": {
        "id": "view-in-github",
        "colab_type": "text"
      },
      "source": [
        "<a href=\"https://colab.research.google.com/github/glauciodrumond/Airbnb_Data_Analysis_Hawaii/blob/master/Airbnb_Data_Analysis__Hawaii.ipynb\" target=\"_parent\"><img src=\"https://colab.research.google.com/assets/colab-badge.svg\" alt=\"Open In Colab\"/></a>"
      ]
    },
    {
      "cell_type": "markdown",
      "metadata": {
        "id": "f6ecj7isZ0x5",
        "colab_type": "text"
      },
      "source": [
        "# Airbnb Data Analysis - Hawaii\n",
        "The [Airbnb](https://www.airbnb.com.br/)  is already considered to be the **largest hotel company today**. Oh, the detail is: **it does not have any hotel**!\n",
        "\n",
        "Connecting people around the world who want to travel and hosts who want to rent their properties in a practical and easy way, Airbnb \n",
        "provides an innovative platform to make this hosting alternative.\n",
        "\n",
        "\n",
        "At the end of 2018, the Startup founded 10 years ago, had already **hosted more than 300 million** people around the world, challenging traditional hotel chains.\n",
        "\n",
        "\n",
        "One of Airbnb's initiatives is to provide website data for some of the world's major cities. Throught the webpage [Inside Airbnb](http://insideairbnb.com/get-the-data.html), \n",
        "it is possible to download a large amount of data to develop *Data Science* projects and solutions.\n",
        "\n",
        "<center><img alt=\"Analisando Airbnb\" width=\"10%\" src=\"https://www.area360.com.au/wp-content/uploads/2017/09/airbnb-logo.jpg\"></center>\n",
        "\n",
        "\n",
        "**In this *notebook*, we will analyze the data relating to the city of Hawaii, and see what insights can be extracted from raw data.**"
      ]
    },
    {
      "cell_type": "markdown",
      "metadata": {
        "id": "ef_sDDLdcyGB",
        "colab_type": "text"
      },
      "source": [
        "#Getting the Data\n",
        "All data used here was extract from [Inside Airbnb](http://insideairbnb.com/get-the-data.html)\n",
        "For inicial analysis exploratory, it will be only download the archive:\n",
        "\n",
        "\n",
        "*  listings.csv - Summary information and metrics for listings in Rio de Janeiro (good for visualisations)"
      ]
    },
    {
      "cell_type": "code",
      "metadata": {
        "id": "teHswTYbZ-sX",
        "colab_type": "code",
        "colab": {}
      },
      "source": [
        "#importing packs\n",
        "import pandas as pd\n",
        "import matplotlib.pyplot as plt\n",
        "import seaborn as sns\n",
        "\n",
        "%matplotlib inline"
      ],
      "execution_count": 0,
      "outputs": []
    },
    {
      "cell_type": "code",
      "metadata": {
        "id": "SS6-rPeva3Lu",
        "colab_type": "code",
        "colab": {}
      },
      "source": [
        "#getting the data from archive listings.csv\n",
        "data = pd.read_csv ('http://data.insideairbnb.com/united-states/hi/hawaii/2019-12-04/visualisations/listings.csv')"
      ],
      "execution_count": 0,
      "outputs": []
    },
    {
      "cell_type": "code",
      "metadata": {
        "id": "W-mkP57kbdze",
        "colab_type": "code",
        "outputId": "382fde44-c63b-448b-b9df-fedf8700e8c2",
        "colab": {
          "base_uri": "https://localhost:8080/",
          "height": 411
        }
      },
      "source": [
        "#shows the variables\n",
        "data.head()"
      ],
      "execution_count": 5,
      "outputs": [
        {
          "output_type": "execute_result",
          "data": {
            "text/html": [
              "<div>\n",
              "<style scoped>\n",
              "    .dataframe tbody tr th:only-of-type {\n",
              "        vertical-align: middle;\n",
              "    }\n",
              "\n",
              "    .dataframe tbody tr th {\n",
              "        vertical-align: top;\n",
              "    }\n",
              "\n",
              "    .dataframe thead th {\n",
              "        text-align: right;\n",
              "    }\n",
              "</style>\n",
              "<table border=\"1\" class=\"dataframe\">\n",
              "  <thead>\n",
              "    <tr style=\"text-align: right;\">\n",
              "      <th></th>\n",
              "      <th>id</th>\n",
              "      <th>name</th>\n",
              "      <th>host_id</th>\n",
              "      <th>host_name</th>\n",
              "      <th>neighbourhood_group</th>\n",
              "      <th>neighbourhood</th>\n",
              "      <th>latitude</th>\n",
              "      <th>longitude</th>\n",
              "      <th>room_type</th>\n",
              "      <th>price</th>\n",
              "      <th>minimum_nights</th>\n",
              "      <th>number_of_reviews</th>\n",
              "      <th>last_review</th>\n",
              "      <th>reviews_per_month</th>\n",
              "      <th>calculated_host_listings_count</th>\n",
              "      <th>availability_365</th>\n",
              "    </tr>\n",
              "  </thead>\n",
              "  <tbody>\n",
              "    <tr>\n",
              "      <th>0</th>\n",
              "      <td>5065</td>\n",
              "      <td>MAUKA BB</td>\n",
              "      <td>7257</td>\n",
              "      <td>Wayne</td>\n",
              "      <td>Hawaii</td>\n",
              "      <td>Hamakua</td>\n",
              "      <td>20.04095</td>\n",
              "      <td>-155.43251</td>\n",
              "      <td>Entire home/apt</td>\n",
              "      <td>85</td>\n",
              "      <td>2</td>\n",
              "      <td>37</td>\n",
              "      <td>2019-08-19</td>\n",
              "      <td>0.45</td>\n",
              "      <td>2</td>\n",
              "      <td>359</td>\n",
              "    </tr>\n",
              "    <tr>\n",
              "      <th>1</th>\n",
              "      <td>5269</td>\n",
              "      <td>Upcountry Hospitality in the 'Auwai Suite</td>\n",
              "      <td>7620</td>\n",
              "      <td>Lea &amp; Pat</td>\n",
              "      <td>Hawaii</td>\n",
              "      <td>South Kohala</td>\n",
              "      <td>20.02621</td>\n",
              "      <td>-155.70145</td>\n",
              "      <td>Entire home/apt</td>\n",
              "      <td>110</td>\n",
              "      <td>2</td>\n",
              "      <td>9</td>\n",
              "      <td>2019-10-20</td>\n",
              "      <td>0.09</td>\n",
              "      <td>5</td>\n",
              "      <td>251</td>\n",
              "    </tr>\n",
              "    <tr>\n",
              "      <th>2</th>\n",
              "      <td>5387</td>\n",
              "      <td>Hale Koa Studio &amp; 1 Bedroom Units!!</td>\n",
              "      <td>7878</td>\n",
              "      <td>Edward</td>\n",
              "      <td>Hawaii</td>\n",
              "      <td>South Kona</td>\n",
              "      <td>19.43119</td>\n",
              "      <td>-155.88079</td>\n",
              "      <td>Entire home/apt</td>\n",
              "      <td>92</td>\n",
              "      <td>5</td>\n",
              "      <td>162</td>\n",
              "      <td>2019-11-19</td>\n",
              "      <td>1.36</td>\n",
              "      <td>3</td>\n",
              "      <td>282</td>\n",
              "    </tr>\n",
              "    <tr>\n",
              "      <th>3</th>\n",
              "      <td>5389</td>\n",
              "      <td>Keauhou Villa</td>\n",
              "      <td>7878</td>\n",
              "      <td>Edward</td>\n",
              "      <td>Hawaii</td>\n",
              "      <td>North Kona</td>\n",
              "      <td>19.56413</td>\n",
              "      <td>-155.96347</td>\n",
              "      <td>Entire home/apt</td>\n",
              "      <td>299</td>\n",
              "      <td>6</td>\n",
              "      <td>17</td>\n",
              "      <td>2019-11-21</td>\n",
              "      <td>0.23</td>\n",
              "      <td>3</td>\n",
              "      <td>217</td>\n",
              "    </tr>\n",
              "    <tr>\n",
              "      <th>4</th>\n",
              "      <td>5390</td>\n",
              "      <td>STAY AT PRINCE KUHIO!</td>\n",
              "      <td>7887</td>\n",
              "      <td>Todd</td>\n",
              "      <td>Kauai</td>\n",
              "      <td>Koloa-Poipu</td>\n",
              "      <td>21.88305</td>\n",
              "      <td>-159.47372</td>\n",
              "      <td>Entire home/apt</td>\n",
              "      <td>92</td>\n",
              "      <td>3</td>\n",
              "      <td>130</td>\n",
              "      <td>2019-11-18</td>\n",
              "      <td>1.01</td>\n",
              "      <td>1</td>\n",
              "      <td>170</td>\n",
              "    </tr>\n",
              "  </tbody>\n",
              "</table>\n",
              "</div>"
            ],
            "text/plain": [
              "     id  ... availability_365\n",
              "0  5065  ...              359\n",
              "1  5269  ...              251\n",
              "2  5387  ...              282\n",
              "3  5389  ...              217\n",
              "4  5390  ...              170\n",
              "\n",
              "[5 rows x 16 columns]"
            ]
          },
          "metadata": {
            "tags": []
          },
          "execution_count": 5
        }
      ]
    },
    {
      "cell_type": "markdown",
      "metadata": {
        "id": "quAW1cwtfBx6",
        "colab_type": "text"
      },
      "source": [
        "#Q1. How many attributes(variables) and how many entries does our set has? What is the variables type?\n",
        "\n",
        "Let's go ahead and identify the number of entries that our dataset has and see the types of each column.\n",
        "\n",
        "This dataset we downloaded is the \"short\" version of Airbnb. On the same page we downloaded the file listings.csv. There is a more complete version with 35847 entries and 106 variables (listings.csv.gz)."
      ]
    },
    {
      "cell_type": "code",
      "metadata": {
        "id": "pGhji5COhMtw",
        "colab_type": "code",
        "outputId": "1a2d02e2-abb6-4a6b-8b37-54542c6415a1",
        "colab": {
          "base_uri": "https://localhost:8080/",
          "height": 357
        }
      },
      "source": [
        "#Indetify the data volume \n",
        "print(\"Variables:\\t {}\".format(data.shape[0]))\n",
        "print(\"Entries:\\t {}\\n\".format(data.shape[1]))\n",
        "\n",
        "display(data.dtypes)"
      ],
      "execution_count": 6,
      "outputs": [
        {
          "output_type": "stream",
          "text": [
            "Variables:\t 23745\n",
            "Entries:\t 16\n",
            "\n"
          ],
          "name": "stdout"
        },
        {
          "output_type": "display_data",
          "data": {
            "text/plain": [
              "id                                  int64\n",
              "name                               object\n",
              "host_id                             int64\n",
              "host_name                          object\n",
              "neighbourhood_group                object\n",
              "neighbourhood                      object\n",
              "latitude                          float64\n",
              "longitude                         float64\n",
              "room_type                          object\n",
              "price                               int64\n",
              "minimum_nights                      int64\n",
              "number_of_reviews                   int64\n",
              "last_review                        object\n",
              "reviews_per_month                 float64\n",
              "calculated_host_listings_count      int64\n",
              "availability_365                    int64\n",
              "dtype: object"
            ]
          },
          "metadata": {
            "tags": []
          }
        }
      ]
    },
    {
      "cell_type": "markdown",
      "metadata": {
        "id": "Nsd0ARy8jeEQ",
        "colab_type": "text"
      },
      "source": [
        "#Q2. What is the percentage of missing values ​​in the dataset?\n",
        "\n",
        "The quality of a dataset is directly related to the amount of missing values. It is important to understand early on whether these null values ​​are significant compared to the total entries.\n",
        "\n",
        "*  You can see that the revies_per_month and last_review column has close to 23% of its missing values.\n",
        "*  The variable host_name have approximately 1,2% of the null values.\n",
        "*  The variable name  have have approximately 0.07% of the null values.\n",
        "\n",
        "\n"
      ]
    },
    {
      "cell_type": "code",
      "metadata": {
        "id": "hS7ddj03je9k",
        "colab_type": "code",
        "outputId": "f8bed791-78ed-4c89-bc36-34ff43fcb4b4",
        "colab": {
          "base_uri": "https://localhost:8080/",
          "height": 306
        }
      },
      "source": [
        "# sort the variables in descending order by their missing values\n",
        "(data.isnull().sum() / data.shape[0]).sort_values(ascending=False)"
      ],
      "execution_count": 7,
      "outputs": [
        {
          "output_type": "execute_result",
          "data": {
            "text/plain": [
              "reviews_per_month                 0.229564\n",
              "last_review                       0.229564\n",
              "host_name                         0.011623\n",
              "name                              0.000674\n",
              "availability_365                  0.000000\n",
              "calculated_host_listings_count    0.000000\n",
              "number_of_reviews                 0.000000\n",
              "minimum_nights                    0.000000\n",
              "price                             0.000000\n",
              "room_type                         0.000000\n",
              "longitude                         0.000000\n",
              "latitude                          0.000000\n",
              "neighbourhood                     0.000000\n",
              "neighbourhood_group               0.000000\n",
              "host_id                           0.000000\n",
              "id                                0.000000\n",
              "dtype: float64"
            ]
          },
          "metadata": {
            "tags": []
          },
          "execution_count": 7
        }
      ]
    },
    {
      "cell_type": "markdown",
      "metadata": {
        "id": "Nma7-cuQnzWS",
        "colab_type": "text"
      },
      "source": [
        "#Q3. What is the type of distribution of the variables?\n",
        "To identify the distribution of the variables, I will plot the histogram."
      ]
    },
    {
      "cell_type": "code",
      "metadata": {
        "id": "ghtUOnE1ocb7",
        "colab_type": "code",
        "outputId": "930598bb-08dc-4a4b-ca94-e8d3945b6391",
        "colab": {
          "base_uri": "https://localhost:8080/",
          "height": 607
        }
      },
      "source": [
        "#Only numerical histogram will be plot\n",
        "data.hist(bins=15, figsize=(15,10));"
      ],
      "execution_count": 8,
      "outputs": [
        {
          "output_type": "display_data",
          "data": {
            "image/png": "[encoded data removed]",
            "text/plain": [
              "<Figure size 1080x720 with 12 Axes>"
            ]
          },
          "metadata": {
            "tags": []
          }
        }
      ]
    },
    {
      "cell_type": "markdown",
      "metadata": {
        "id": "qjOKp3xaDokV",
        "colab_type": "text"
      },
      "source": [
        "#Q4. Any outliers?\n",
        "\n",
        "By distributing the histogram, it is possible to check for evidence of the presence of outliers. Take for example the variables price, minimum_nights and calculated_host_listings_count.\n",
        "\n",
        "Values ​​do not follow a distribution, and distort the entire graphic representation. To confirm, there are two easy ways to help detect outliers. Are they:\n",
        "\n",
        "* Statistical summary using the description () method\n",
        "* Plot boxplots for a variable.\n",
        "\n",
        "\n"
      ]
    },
    {
      "cell_type": "code",
      "metadata": {
        "id": "E2ZQoJhZE82_",
        "colab_type": "code",
        "outputId": "4d2eacdd-584f-4ea1-8669-828c2f7b2a43",
        "colab": {
          "base_uri": "https://localhost:8080/",
          "height": 297
        }
      },
      "source": [
        "#verifie the statistical summary of numerical variables\n",
        "data[['price', 'minimum_nights', 'number_of_reviews', 'reviews_per_month',\n",
        "    'calculated_host_listings_count', 'availability_365']].describe()"
      ],
      "execution_count": 9,
      "outputs": [
        {
          "output_type": "execute_result",
          "data": {
            "text/html": [
              "<div>\n",
              "<style scoped>\n",
              "    .dataframe tbody tr th:only-of-type {\n",
              "        vertical-align: middle;\n",
              "    }\n",
              "\n",
              "    .dataframe tbody tr th {\n",
              "        vertical-align: top;\n",
              "    }\n",
              "\n",
              "    .dataframe thead th {\n",
              "        text-align: right;\n",
              "    }\n",
              "</style>\n",
              "<table border=\"1\" class=\"dataframe\">\n",
              "  <thead>\n",
              "    <tr style=\"text-align: right;\">\n",
              "      <th></th>\n",
              "      <th>price</th>\n",
              "      <th>minimum_nights</th>\n",
              "      <th>number_of_reviews</th>\n",
              "      <th>reviews_per_month</th>\n",
              "      <th>calculated_host_listings_count</th>\n",
              "      <th>availability_365</th>\n",
              "    </tr>\n",
              "  </thead>\n",
              "  <tbody>\n",
              "    <tr>\n",
              "      <th>count</th>\n",
              "      <td>23745.000000</td>\n",
              "      <td>23745.000000</td>\n",
              "      <td>23745.000000</td>\n",
              "      <td>18294.000000</td>\n",
              "      <td>23745.000000</td>\n",
              "      <td>23745.000000</td>\n",
              "    </tr>\n",
              "    <tr>\n",
              "      <th>mean</th>\n",
              "      <td>358.380291</td>\n",
              "      <td>5.385597</td>\n",
              "      <td>26.257907</td>\n",
              "      <td>1.398526</td>\n",
              "      <td>42.577090</td>\n",
              "      <td>190.334344</td>\n",
              "    </tr>\n",
              "    <tr>\n",
              "      <th>std</th>\n",
              "      <td>936.067258</td>\n",
              "      <td>11.176797</td>\n",
              "      <td>46.780110</td>\n",
              "      <td>1.523295</td>\n",
              "      <td>68.151171</td>\n",
              "      <td>110.226253</td>\n",
              "    </tr>\n",
              "    <tr>\n",
              "      <th>min</th>\n",
              "      <td>0.000000</td>\n",
              "      <td>1.000000</td>\n",
              "      <td>0.000000</td>\n",
              "      <td>0.000000</td>\n",
              "      <td>1.000000</td>\n",
              "      <td>0.000000</td>\n",
              "    </tr>\n",
              "    <tr>\n",
              "      <th>25%</th>\n",
              "      <td>128.000000</td>\n",
              "      <td>1.000000</td>\n",
              "      <td>1.000000</td>\n",
              "      <td>0.300000</td>\n",
              "      <td>2.000000</td>\n",
              "      <td>102.000000</td>\n",
              "    </tr>\n",
              "    <tr>\n",
              "      <th>50%</th>\n",
              "      <td>199.000000</td>\n",
              "      <td>3.000000</td>\n",
              "      <td>7.000000</td>\n",
              "      <td>0.880000</td>\n",
              "      <td>7.000000</td>\n",
              "      <td>219.000000</td>\n",
              "    </tr>\n",
              "    <tr>\n",
              "      <th>75%</th>\n",
              "      <td>340.000000</td>\n",
              "      <td>5.000000</td>\n",
              "      <td>31.000000</td>\n",
              "      <td>2.020000</td>\n",
              "      <td>54.000000</td>\n",
              "      <td>275.000000</td>\n",
              "    </tr>\n",
              "    <tr>\n",
              "      <th>max</th>\n",
              "      <td>24999.000000</td>\n",
              "      <td>365.000000</td>\n",
              "      <td>680.000000</td>\n",
              "      <td>22.600000</td>\n",
              "      <td>279.000000</td>\n",
              "      <td>365.000000</td>\n",
              "    </tr>\n",
              "  </tbody>\n",
              "</table>\n",
              "</div>"
            ],
            "text/plain": [
              "              price  ...  availability_365\n",
              "count  23745.000000  ...      23745.000000\n",
              "mean     358.380291  ...        190.334344\n",
              "std      936.067258  ...        110.226253\n",
              "min        0.000000  ...          0.000000\n",
              "25%      128.000000  ...        102.000000\n",
              "50%      199.000000  ...        219.000000\n",
              "75%      340.000000  ...        275.000000\n",
              "max    24999.000000  ...        365.000000\n",
              "\n",
              "[8 rows x 6 columns]"
            ]
          },
          "metadata": {
            "tags": []
          },
          "execution_count": 9
        }
      ]
    },
    {
      "cell_type": "code",
      "metadata": {
        "id": "piImqT0c-_28",
        "colab_type": "code",
        "colab": {
          "base_uri": "https://localhost:8080/",
          "height": 262
        },
        "outputId": "dc12fa08-09f1-43e0-ea12-a2473b2c9003"
      },
      "source": [
        "# minimum_nights\n",
        "data.minimum_nights.plot(kind='box', vert=False, figsize=(15, 3))\n",
        "plt.show()\n",
        "\n",
        "# ver quantidade de valores acima de 30 dias para minimum_nights\n",
        "print(\"minimum_nights: values over 30:\")\n",
        "print(\"{} entries\".format(len(data[data.minimum_nights > 30])))\n",
        "print(\"{:.4f}%\".format((len(data[data.minimum_nights > 30]) / data.shape[0])*100))"
      ],
      "execution_count": 11,
      "outputs": [
        {
          "output_type": "display_data",
          "data": {
            "image/png": "[encoded data removed]",
            "text/plain": [
              "<Figure size 1080x216 with 1 Axes>"
            ]
          },
          "metadata": {
            "tags": []
          }
        },
        {
          "output_type": "stream",
          "text": [
            "minimum_nights: values over 30:\n",
            "173 entries\n",
            "0.7286%\n"
          ],
          "name": "stdout"
        }
      ]
    },
    {
      "cell_type": "code",
      "metadata": {
        "id": "c7UJCclf_Bdy",
        "colab_type": "code",
        "colab": {
          "base_uri": "https://localhost:8080/",
          "height": 279
        },
        "outputId": "e04acbb9-770b-408b-b3bd-fbc0189a7adc"
      },
      "source": [
        "# price\n",
        "data.price.plot(kind='box', vert=False, figsize=(15, 3),)\n",
        "plt.show()\n",
        "\n",
        "# ver quantidade de valores acima de 1500 para price\n",
        "print(\"\\nprice: values over 1500\")\n",
        "print(\"{} entries\".format(len(data[data.price > 1500])))\n",
        "print(\"{:.4f}%\".format((len(data[data.price > 1500]) / data.shape[0])*100))\n",
        "\n",
        "# df.price.plot(kind='box', vert=False, xlim=(0,1300), figsize=(15,3));"
      ],
      "execution_count": 12,
      "outputs": [
        {
          "output_type": "display_data",
          "data": {
            "image/png": "[encoded data removed]",
            "text/plain": [
              "<Figure size 1080x216 with 1 Axes>"
            ]
          },
          "metadata": {
            "tags": []
          }
        },
        {
          "output_type": "stream",
          "text": [
            "\n",
            "price: values over 1500\n",
            "594 entries\n",
            "2.5016%\n"
          ],
          "name": "stdout"
        }
      ]
    },
    {
      "cell_type": "code",
      "metadata": {
        "id": "Qv4VbpmzAD76",
        "colab_type": "code",
        "colab": {
          "base_uri": "https://localhost:8080/",
          "height": 607
        },
        "outputId": "f994a9c3-faa6-44b4-bdc4-81372ac63101"
      },
      "source": [
        "# remover os *outliers* em um novo DataFrame\n",
        "df_clean = data.copy()\n",
        "df_clean.drop(df_clean[df_clean.price > 1500].index, axis=0, inplace=True)\n",
        "df_clean.drop(df_clean[df_clean.minimum_nights > 30].index, axis=0, inplace=True)\n",
        "\n",
        "# remover `neighbourhood_group`, pois está vazio\n",
        "df_clean.drop('neighbourhood_group', axis=1, inplace=True)\n",
        "\n",
        "# plotar o histograma para as variáveis numéricas\n",
        "df_clean.hist(bins=15, figsize=(15,10));"
      ],
      "execution_count": 13,
      "outputs": [
        {
          "output_type": "display_data",
          "data": {
            "image/png": "[encoded data removed]",
            "text/plain": [
              "<Figure size 1080x720 with 12 Axes>"
            ]
          },
          "metadata": {
            "tags": []
          }
        }
      ]
    },
    {
      "cell_type": "code",
      "metadata": {
        "id": "Mc1R_N-rAb8O",
        "colab_type": "code",
        "colab": {}
      },
      "source": [
        ""
      ],
      "execution_count": 0,
      "outputs": []
    }
  ]
}