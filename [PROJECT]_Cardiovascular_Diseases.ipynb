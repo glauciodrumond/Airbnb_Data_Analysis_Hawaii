{
  "nbformat": 4,
  "nbformat_minor": 0,
  "metadata": {
    "colab": {
      "name": " [PROJECT]  Cardiovascular Diseases.ipynb",
      "provenance": [],
      "collapsed_sections": [],
      "toc_visible": true,
      "include_colab_link": true
    },
    "kernelspec": {
      "name": "python3",
      "display_name": "Python 3"
    }
  },
  "cells": [
    {
      "cell_type": "markdown",
      "metadata": {
        "id": "view-in-github",
        "colab_type": "text"
      },
      "source": [
        "<a href=\"https://colab.research.google.com/github/glauciodrumond/Data_Analysis/blob/master/%5BPROJECT%5D_Cardiovascular_Diseases.ipynb\" target=\"_parent\"><img src=\"https://colab.research.google.com/assets/colab-badge.svg\" alt=\"Open In Colab\"/></a>"
      ]
    },
    {
      "cell_type": "markdown",
      "metadata": {
        "id": "w0OlvP4PEdzR",
        "colab_type": "text"
      },
      "source": [
        "# Project - Cardiovascular Diseases\n",
        "\n",
        "Cardiovascular diseases (CVDs) is a class of diseases or disorders of the heart and blood vessels. There are a lot of diseases included in this class as congenital heart disease, rheumatic heart disease,peripheral arterial disease and others.\n",
        "\n",
        "<p><img alt=\"Colaboratory logo\" height=\"\" src=\"https://img.medscape.com/thumbnail_library/is_191223_heart_disease1_800x450.jpg\"   vspace=\"0px\"></p>\n",
        "\n",
        "\n",
        "Despite being one of the main causes of death worldwide, it is estimated that about 90% of cardiovascular diseases could be prevented by adopting some measures and changes in lifestyle.\n",
        "\n",
        "In these days, there are several researches in the Machine Learning area aiming at the construction of predictive models that can help doctors discover cardiovascular diseases in their patients.\n",
        "\n",
        "Studies published in the magazine Nature Biomedical Engineering Machine, shows that Deep Learning algorithms were able to anticipate cardiovascular diseases up to 5 years.\n",
        "Definitely, the use of Artificial Intelligence has deeply impacted the health area, and has provided, to professionals doctors, increasingly accurate intelligence inputs.\n",
        "\n"
      ]
    },
    {
      "cell_type": "markdown",
      "metadata": {
        "id": "F3XPABqpLFOX",
        "colab_type": "text"
      },
      "source": [
        "## GETTING THE DATA\n",
        "\n",
        "The main data set used in this project was collect from  ***Cleveland Clinic Foundation*** and is available in the well known [Repository UCI *Machine Learning*](https://archive.ics.uci.edu/ml/datasets/heart+Disease).It is noteworthy that the names, identity and personal documents of the patients were completely removed from the database.\n",
        "\n",
        "The processed *dataset* contains data from 303 people and has 76 attributes. However, the main articles and published studies chose to use only 14 attributes, considered of greater relevance. The same way, this *Data Science* project will use these same 14 main variables.\n",
        "\n",
        "<p><img alt=\"Colaboratory logo\" height=\"100\" src=\"https://www.netclipart.com/pp/m/181-1814526_heartburn-human-coronary-heart-disease.png\" align=\"right\" hspace=\"20px\" vspace=\"0px\"></p>\n",
        "\n",
        "* The`csv` file with the data of 303 people and 14 attributes can be downloaded in [this link](https://raw.githubusercontent.com/carlosfab/curso_data_science_na_pratica/master/modulo_03/heart-disease-uci.csv).\n",
        "\n",
        "* The file containing all the details and documentation of the dataset used in this project can be found in [this link](https://github.com/carlosfab/curso_data_science_na_pratica/blob/master/modulo_03/heart-disease.names).\n",
        "\n",
        "* There is also a secondary *dataset* that will be used to see the evolution in the number of deaths from cardiovascular diseases in Brazil (between the years 2004-2017). These data were made available by the [Brazilian Society of Cardiology](http://www.cardiometro.com.br/anteriores.asp), and can be downloaded in [this link](https://raw.githubusercontent.com/carlosfab/curso_data_science_na_pratica/master/modulo_03/mortes_doencas_cardiovasculares.csv)."
      ]
    },
    {
      "cell_type": "markdown",
      "metadata": {
        "id": "JTJNji8-CFbX",
        "colab_type": "text"
      },
      "source": [
        "### Attribute information:\n",
        "\n",
        "* `age` - in years\n",
        "* `sex` - patient gender\n",
        "  * 0: woman\n",
        "  * 1: men\n",
        "* `cp` - type of chest pain\n",
        "  * 1: typical angina\n",
        "  * 2: atypical angina\n",
        "  * 3: non-cardiac pain\n",
        "  * 4: asymptomatic\n",
        "* `trestbps` - resting blood pressure\n",
        "* `chol` - serum cholesterol (*mg/dl*)\n",
        "* `fbs` - fasting blood sugar > 120*mg/dl*\n",
        "  * 0: `False`\n",
        "  * 1: `True`\n",
        "* `restecg` - result of resting electrocardiography\n",
        "  * 0: normal\n",
        "  * 1: abnormalities of ST-T  (inversion of the T wave and elevation or depression > 0.05*mV*)\n",
        "  * 2: ventricular Hypertrophy probable left or definitive (by the Romhilt-Estes criteria)\n",
        "* `thalach` - maximum heart rate reached\n",
        "* `exang` - exercise-induced angina\n",
        "  * 0: no\n",
        "  * 1: yes\n",
        "* `oldpeak` - exercise-induced ST segment depiction in relation to rest\n",
        "* `slope` - ST segment slope at peak exercise\n",
        "* `ca` - number of main vessels colored by fluoroscopy\n",
        "* `thal` - *thallium stress test*\n",
        "  * 3: normal\n",
        "  * 6: fixed defect\n",
        "  * 7: reversible defect\n",
        "* `num` - diagnosis of heart disease (angiographic diagnosis)\n",
        "  * 0: no heart disease ( < 50% diameter narrowing)\n",
        "  * 1,2,3,4: there is heart disease ( > 50% diameter narrowing)\n",
        "\n"
      ]
    },
    {
      "cell_type": "markdown",
      "metadata": {
        "id": "TjJW1eAGoH7Y",
        "colab_type": "text"
      },
      "source": [
        "###Import the Data\n",
        "\n",
        "In an initial step, we will import the two *datasets* mentioned at the beginning of the notebook:\n",
        "\n",
        "*  One containing data related to cardiovascular diseases (303 people and 14 attributes); and\n",
        "*  One containing data on mortality in Brazil due to cardiovascular diseases.\n"
      ]
    },
    {
      "cell_type": "code",
      "metadata": {
        "id": "lr_gI2RzC8EW",
        "colab_type": "code",
        "cellView": "both",
        "outputId": "b6a2a96a-3aeb-4d73-cbdb-9744129072a0",
        "colab": {
          "base_uri": "https://localhost:8080/",
          "height": 74
        }
      },
      "source": [
        "# importing the necessary libraries\n",
        "# importar as bibliotecas necessárias\n",
        "import numpy as np\n",
        "import pandas as pd\n",
        "import matplotlib.pyplot as plt\n",
        "import matplotlib.ticker as ticker\n",
        "import seaborn as sns\n",
        "sns.set()\n",
        "\n",
        "# datasets url\n",
        "# url dos datasets\n",
        "dataset_uci = \"https://raw.githubusercontent.com/carlosfab/curso_data_science_na_pratica/master/modulo_03/heart-disease-uci.csv\"\n",
        "dataset_brasil = \"https://raw.githubusercontent.com/carlosfab/curso_data_science_na_pratica/master/modulo_03/mortes_doencas_cardiovasculares.csv\"\n",
        "\n",
        "# importing UCI's dataset\n",
        "# importar dataset da UCI\n",
        "df = pd.read_csv(dataset_uci)\n",
        "\n",
        "# importing indice's dataset from Brazil\n",
        "# importar dataset dos indíces do Brasil\n",
        "df_brasil = pd.read_csv(dataset_brasil)"
      ],
      "execution_count": 1,
      "outputs": [
        {
          "output_type": "stream",
          "text": [
            "/usr/local/lib/python3.6/dist-packages/statsmodels/tools/_testing.py:19: FutureWarning: pandas.util.testing is deprecated. Use the functions in the public API at pandas.testing instead.\n",
            "  import pandas.util.testing as tm\n"
          ],
          "name": "stderr"
        }
      ]
    },
    {
      "cell_type": "markdown",
      "metadata": {
        "id": "xGfqlRc3DqzD",
        "colab_type": "text"
      },
      "source": [
        "Looking above the information about the attributes, we realize that our target variable  (`num`)  has five possible values: \\[0, 1, 2, 3, 4\\].\n",
        "\n",
        "However, following most of the researches that used this dataset, we will consider only two possible situations:\n",
        "\n",
        "*  0 - no heart disease\n",
        "*  1 - there is heart disease\n",
        "\n",
        "Then, we will match the values ​​between 1-4 to 1.\n"
      ]
    },
    {
      "cell_type": "code",
      "metadata": {
        "id": "nR53KX9ZvP-o",
        "colab_type": "code",
        "outputId": "784f9403-7079-4dad-c8e7-3bee5c134452",
        "colab": {
          "base_uri": "https://localhost:8080/",
          "height": 126
        }
      },
      "source": [
        "# target variable before\n",
        "# variável alvo antes\n",
        "df.num.value_counts()"
      ],
      "execution_count": 2,
      "outputs": [
        {
          "output_type": "execute_result",
          "data": {
            "text/plain": [
              "0    164\n",
              "1     55\n",
              "2     36\n",
              "3     35\n",
              "4     13\n",
              "Name: num, dtype: int64"
            ]
          },
          "metadata": {
            "tags": []
          },
          "execution_count": 2
        }
      ]
    },
    {
      "cell_type": "code",
      "metadata": {
        "id": "aI-Yx7cFu2tL",
        "colab_type": "code",
        "colab": {}
      },
      "source": [
        "# convert values> = 1 to 1\n",
        "# converter valores >= 1 em 1\n",
        "df.loc[df.num != 0, 'num'] = 1"
      ],
      "execution_count": 0,
      "outputs": []
    },
    {
      "cell_type": "code",
      "metadata": {
        "id": "JdnbfJH_DwY5",
        "colab_type": "code",
        "outputId": "bb2c6b32-2f46-42fa-9bbe-d8ff6ee516a1",
        "colab": {
          "base_uri": "https://localhost:8080/",
          "height": 72
        }
      },
      "source": [
        "# target variable after\n",
        "# variável alvo depois\n",
        "df.num.value_counts()"
      ],
      "execution_count": 4,
      "outputs": [
        {
          "output_type": "execute_result",
          "data": {
            "text/plain": [
              "0    164\n",
              "1    139\n",
              "Name: num, dtype: int64"
            ]
          },
          "metadata": {
            "tags": []
          },
          "execution_count": 4
        }
      ]
    },
    {
      "cell_type": "markdown",
      "metadata": {
        "id": "CGaFNrW5vrrv",
        "colab_type": "text"
      },
      "source": [
        "# EXPLORATORY DATA ANALYSIS\n",
        "\n",
        "To understand our dataset,  I will do an exploratory analysis to discover any patterns, to find anomalies, to create and check hypothesis using chart representations and summary statistics. Doing this we can clean our dataset and use the data wisely.\n"
      ]
    },
    {
      "cell_type": "markdown",
      "metadata": {
        "id": "GrqAiHk1LH7v",
        "colab_type": "text"
      },
      "source": [
        "## Dataframe Shape\n",
        "*First let's check the number rows and columns our dataframe has using the `shape` attribute of pandas.Dataframe*"
      ]
    },
    {
      "cell_type": "code",
      "metadata": {
        "id": "4FelnPEwwK_c",
        "colab_type": "code",
        "outputId": "9c44124a-b241-4813-c156-f7442640dfa0",
        "colab": {
          "base_uri": "https://localhost:8080/",
          "height": 54
        }
      },
      "source": [
        "# Shows rows and columns\n",
        "# Mostras linhas e colunas\n",
        "print ('Rows: ' , df.shape[0]) \n",
        "print ('Columns: ' , df.shape[1])\n"
      ],
      "execution_count": 5,
      "outputs": [
        {
          "output_type": "stream",
          "text": [
            "Rows:  303\n",
            "Columns:  14\n"
          ],
          "name": "stdout"
        }
      ]
    },
    {
      "cell_type": "markdown",
      "metadata": {
        "id": "ge4kJg2EOyYO",
        "colab_type": "text"
      },
      "source": [
        "## Variables distribution\n",
        "Using the  `head()` method, that shows the first 5 entries of our dataframe by default, and `tail()`method, that shows the last 5 entries of our dataframe by default, it is possible to check how the variables are distribute and confirm if we really have 303 rows and 14 columns.\n",
        "\n",
        "It is possible to pass a custom number, to show more or less entries, and that's what we will do here passing the number 3.\n"
      ]
    },
    {
      "cell_type": "code",
      "metadata": {
        "id": "bm5xDXFwR2Mf",
        "colab_type": "code",
        "outputId": "14c021d5-4ce0-4236-a436-223d4cf27477",
        "colab": {
          "base_uri": "https://localhost:8080/",
          "height": 138
        }
      },
      "source": [
        "# First 3 entries\n",
        "# 3 primeiras entradas\n",
        "df.head(3)"
      ],
      "execution_count": 6,
      "outputs": [
        {
          "output_type": "execute_result",
          "data": {
            "text/html": [
              "<div>\n",
              "<style scoped>\n",
              "    .dataframe tbody tr th:only-of-type {\n",
              "        vertical-align: middle;\n",
              "    }\n",
              "\n",
              "    .dataframe tbody tr th {\n",
              "        vertical-align: top;\n",
              "    }\n",
              "\n",
              "    .dataframe thead th {\n",
              "        text-align: right;\n",
              "    }\n",
              "</style>\n",
              "<table border=\"1\" class=\"dataframe\">\n",
              "  <thead>\n",
              "    <tr style=\"text-align: right;\">\n",
              "      <th></th>\n",
              "      <th>age</th>\n",
              "      <th>sex</th>\n",
              "      <th>cp</th>\n",
              "      <th>trestbps</th>\n",
              "      <th>chol</th>\n",
              "      <th>fbs</th>\n",
              "      <th>restecg</th>\n",
              "      <th>thalach</th>\n",
              "      <th>exang</th>\n",
              "      <th>oldpeak</th>\n",
              "      <th>slope</th>\n",
              "      <th>ca</th>\n",
              "      <th>thal</th>\n",
              "      <th>num</th>\n",
              "    </tr>\n",
              "  </thead>\n",
              "  <tbody>\n",
              "    <tr>\n",
              "      <th>0</th>\n",
              "      <td>63.0</td>\n",
              "      <td>1.0</td>\n",
              "      <td>1.0</td>\n",
              "      <td>145.0</td>\n",
              "      <td>233.0</td>\n",
              "      <td>1.0</td>\n",
              "      <td>2.0</td>\n",
              "      <td>150.0</td>\n",
              "      <td>0.0</td>\n",
              "      <td>2.3</td>\n",
              "      <td>3.0</td>\n",
              "      <td>0.0</td>\n",
              "      <td>6.0</td>\n",
              "      <td>0</td>\n",
              "    </tr>\n",
              "    <tr>\n",
              "      <th>1</th>\n",
              "      <td>67.0</td>\n",
              "      <td>1.0</td>\n",
              "      <td>4.0</td>\n",
              "      <td>160.0</td>\n",
              "      <td>286.0</td>\n",
              "      <td>0.0</td>\n",
              "      <td>2.0</td>\n",
              "      <td>108.0</td>\n",
              "      <td>1.0</td>\n",
              "      <td>1.5</td>\n",
              "      <td>2.0</td>\n",
              "      <td>3.0</td>\n",
              "      <td>3.0</td>\n",
              "      <td>1</td>\n",
              "    </tr>\n",
              "    <tr>\n",
              "      <th>2</th>\n",
              "      <td>67.0</td>\n",
              "      <td>1.0</td>\n",
              "      <td>4.0</td>\n",
              "      <td>120.0</td>\n",
              "      <td>229.0</td>\n",
              "      <td>0.0</td>\n",
              "      <td>2.0</td>\n",
              "      <td>129.0</td>\n",
              "      <td>1.0</td>\n",
              "      <td>2.6</td>\n",
              "      <td>2.0</td>\n",
              "      <td>2.0</td>\n",
              "      <td>7.0</td>\n",
              "      <td>1</td>\n",
              "    </tr>\n",
              "  </tbody>\n",
              "</table>\n",
              "</div>"
            ],
            "text/plain": [
              "    age  sex   cp  trestbps   chol  fbs  ...  exang  oldpeak  slope   ca  thal  num\n",
              "0  63.0  1.0  1.0     145.0  233.0  1.0  ...    0.0      2.3    3.0  0.0   6.0    0\n",
              "1  67.0  1.0  4.0     160.0  286.0  0.0  ...    1.0      1.5    2.0  3.0   3.0    1\n",
              "2  67.0  1.0  4.0     120.0  229.0  0.0  ...    1.0      2.6    2.0  2.0   7.0    1\n",
              "\n",
              "[3 rows x 14 columns]"
            ]
          },
          "metadata": {
            "tags": []
          },
          "execution_count": 6
        }
      ]
    },
    {
      "cell_type": "code",
      "metadata": {
        "id": "iSmwbETgSs-D",
        "colab_type": "code",
        "outputId": "caf2f340-04ab-4a6d-d7b5-e4cf9df3e641",
        "colab": {
          "base_uri": "https://localhost:8080/",
          "height": 138
        }
      },
      "source": [
        "# Last 3 entries\n",
        "# Ultimas 3 entradas\n",
        "df.tail(3)"
      ],
      "execution_count": 7,
      "outputs": [
        {
          "output_type": "execute_result",
          "data": {
            "text/html": [
              "<div>\n",
              "<style scoped>\n",
              "    .dataframe tbody tr th:only-of-type {\n",
              "        vertical-align: middle;\n",
              "    }\n",
              "\n",
              "    .dataframe tbody tr th {\n",
              "        vertical-align: top;\n",
              "    }\n",
              "\n",
              "    .dataframe thead th {\n",
              "        text-align: right;\n",
              "    }\n",
              "</style>\n",
              "<table border=\"1\" class=\"dataframe\">\n",
              "  <thead>\n",
              "    <tr style=\"text-align: right;\">\n",
              "      <th></th>\n",
              "      <th>age</th>\n",
              "      <th>sex</th>\n",
              "      <th>cp</th>\n",
              "      <th>trestbps</th>\n",
              "      <th>chol</th>\n",
              "      <th>fbs</th>\n",
              "      <th>restecg</th>\n",
              "      <th>thalach</th>\n",
              "      <th>exang</th>\n",
              "      <th>oldpeak</th>\n",
              "      <th>slope</th>\n",
              "      <th>ca</th>\n",
              "      <th>thal</th>\n",
              "      <th>num</th>\n",
              "    </tr>\n",
              "  </thead>\n",
              "  <tbody>\n",
              "    <tr>\n",
              "      <th>300</th>\n",
              "      <td>57.0</td>\n",
              "      <td>1.0</td>\n",
              "      <td>4.0</td>\n",
              "      <td>130.0</td>\n",
              "      <td>131.0</td>\n",
              "      <td>0.0</td>\n",
              "      <td>0.0</td>\n",
              "      <td>115.0</td>\n",
              "      <td>1.0</td>\n",
              "      <td>1.2</td>\n",
              "      <td>2.0</td>\n",
              "      <td>1.0</td>\n",
              "      <td>7.0</td>\n",
              "      <td>1</td>\n",
              "    </tr>\n",
              "    <tr>\n",
              "      <th>301</th>\n",
              "      <td>57.0</td>\n",
              "      <td>0.0</td>\n",
              "      <td>2.0</td>\n",
              "      <td>130.0</td>\n",
              "      <td>236.0</td>\n",
              "      <td>0.0</td>\n",
              "      <td>2.0</td>\n",
              "      <td>174.0</td>\n",
              "      <td>0.0</td>\n",
              "      <td>0.0</td>\n",
              "      <td>2.0</td>\n",
              "      <td>1.0</td>\n",
              "      <td>3.0</td>\n",
              "      <td>1</td>\n",
              "    </tr>\n",
              "    <tr>\n",
              "      <th>302</th>\n",
              "      <td>38.0</td>\n",
              "      <td>1.0</td>\n",
              "      <td>3.0</td>\n",
              "      <td>138.0</td>\n",
              "      <td>175.0</td>\n",
              "      <td>0.0</td>\n",
              "      <td>0.0</td>\n",
              "      <td>173.0</td>\n",
              "      <td>0.0</td>\n",
              "      <td>0.0</td>\n",
              "      <td>1.0</td>\n",
              "      <td>0.0</td>\n",
              "      <td>3.0</td>\n",
              "      <td>0</td>\n",
              "    </tr>\n",
              "  </tbody>\n",
              "</table>\n",
              "</div>"
            ],
            "text/plain": [
              "      age  sex   cp  trestbps   chol  ...  oldpeak  slope   ca  thal  num\n",
              "300  57.0  1.0  4.0     130.0  131.0  ...      1.2    2.0  1.0   7.0    1\n",
              "301  57.0  0.0  2.0     130.0  236.0  ...      0.0    2.0  1.0   3.0    1\n",
              "302  38.0  1.0  3.0     138.0  175.0  ...      0.0    1.0  0.0   3.0    0\n",
              "\n",
              "[3 rows x 14 columns]"
            ]
          },
          "metadata": {
            "tags": []
          },
          "execution_count": 7
        }
      ]
    },
    {
      "cell_type": "markdown",
      "metadata": {
        "id": "szYTAk-LVsTw",
        "colab_type": "text"
      },
      "source": [
        "## Variables type\n",
        "Now that we can see a small sample of our dataframe, we will check the variables types, using `dtypes` method, doing this we will be aware of the functions that can be performed in each variable."
      ]
    },
    {
      "cell_type": "code",
      "metadata": {
        "id": "xPXE6cslR4dw",
        "colab_type": "code",
        "outputId": "889b0b3b-a13f-4b5a-c2b9-e8041ffe7e4e",
        "colab": {
          "base_uri": "https://localhost:8080/",
          "height": 290
        }
      },
      "source": [
        "# Variables types\n",
        "# Tipos de Variaveis\n",
        "df.dtypes"
      ],
      "execution_count": 8,
      "outputs": [
        {
          "output_type": "execute_result",
          "data": {
            "text/plain": [
              "age         float64\n",
              "sex         float64\n",
              "cp          float64\n",
              "trestbps    float64\n",
              "chol        float64\n",
              "fbs         float64\n",
              "restecg     float64\n",
              "thalach     float64\n",
              "exang       float64\n",
              "oldpeak     float64\n",
              "slope       float64\n",
              "ca          float64\n",
              "thal        float64\n",
              "num           int64\n",
              "dtype: object"
            ]
          },
          "metadata": {
            "tags": []
          },
          "execution_count": 8
        }
      ]
    },
    {
      "cell_type": "markdown",
      "metadata": {
        "id": "n1IDyps4ZF_3",
        "colab_type": "text"
      },
      "source": [
        "## Summary statistics\n",
        "Applying the `describe()` method we can see our first statistics summary from all numerical columns. \n",
        "As you can see below  some basic statistical details like max, min ,mean, std etc.\n"
      ]
    },
    {
      "cell_type": "code",
      "metadata": {
        "id": "qz4kbX8QXjw0",
        "colab_type": "code",
        "outputId": "2bcacf7f-0a82-4320-e773-f2231500c1e0",
        "colab": {
          "base_uri": "https://localhost:8080/",
          "height": 308
        }
      },
      "source": [
        "# Shows summary statistics\n",
        "# Mostra estatísticas resumidas\n",
        "df.describe()"
      ],
      "execution_count": 9,
      "outputs": [
        {
          "output_type": "execute_result",
          "data": {
            "text/html": [
              "<div>\n",
              "<style scoped>\n",
              "    .dataframe tbody tr th:only-of-type {\n",
              "        vertical-align: middle;\n",
              "    }\n",
              "\n",
              "    .dataframe tbody tr th {\n",
              "        vertical-align: top;\n",
              "    }\n",
              "\n",
              "    .dataframe thead th {\n",
              "        text-align: right;\n",
              "    }\n",
              "</style>\n",
              "<table border=\"1\" class=\"dataframe\">\n",
              "  <thead>\n",
              "    <tr style=\"text-align: right;\">\n",
              "      <th></th>\n",
              "      <th>age</th>\n",
              "      <th>sex</th>\n",
              "      <th>cp</th>\n",
              "      <th>trestbps</th>\n",
              "      <th>chol</th>\n",
              "      <th>fbs</th>\n",
              "      <th>restecg</th>\n",
              "      <th>thalach</th>\n",
              "      <th>exang</th>\n",
              "      <th>oldpeak</th>\n",
              "      <th>slope</th>\n",
              "      <th>ca</th>\n",
              "      <th>thal</th>\n",
              "      <th>num</th>\n",
              "    </tr>\n",
              "  </thead>\n",
              "  <tbody>\n",
              "    <tr>\n",
              "      <th>count</th>\n",
              "      <td>303.000000</td>\n",
              "      <td>303.000000</td>\n",
              "      <td>303.000000</td>\n",
              "      <td>303.000000</td>\n",
              "      <td>303.000000</td>\n",
              "      <td>303.000000</td>\n",
              "      <td>303.000000</td>\n",
              "      <td>303.000000</td>\n",
              "      <td>303.000000</td>\n",
              "      <td>303.000000</td>\n",
              "      <td>303.000000</td>\n",
              "      <td>303.000000</td>\n",
              "      <td>303.000000</td>\n",
              "      <td>303.000000</td>\n",
              "    </tr>\n",
              "    <tr>\n",
              "      <th>mean</th>\n",
              "      <td>54.438944</td>\n",
              "      <td>0.679868</td>\n",
              "      <td>3.158416</td>\n",
              "      <td>131.689769</td>\n",
              "      <td>246.693069</td>\n",
              "      <td>0.148515</td>\n",
              "      <td>0.990099</td>\n",
              "      <td>149.607261</td>\n",
              "      <td>0.326733</td>\n",
              "      <td>1.039604</td>\n",
              "      <td>1.600660</td>\n",
              "      <td>0.663366</td>\n",
              "      <td>4.722772</td>\n",
              "      <td>0.458746</td>\n",
              "    </tr>\n",
              "    <tr>\n",
              "      <th>std</th>\n",
              "      <td>9.038662</td>\n",
              "      <td>0.467299</td>\n",
              "      <td>0.960126</td>\n",
              "      <td>17.599748</td>\n",
              "      <td>51.776918</td>\n",
              "      <td>0.356198</td>\n",
              "      <td>0.994971</td>\n",
              "      <td>22.875003</td>\n",
              "      <td>0.469794</td>\n",
              "      <td>1.161075</td>\n",
              "      <td>0.616226</td>\n",
              "      <td>0.934375</td>\n",
              "      <td>1.938383</td>\n",
              "      <td>0.499120</td>\n",
              "    </tr>\n",
              "    <tr>\n",
              "      <th>min</th>\n",
              "      <td>29.000000</td>\n",
              "      <td>0.000000</td>\n",
              "      <td>1.000000</td>\n",
              "      <td>94.000000</td>\n",
              "      <td>126.000000</td>\n",
              "      <td>0.000000</td>\n",
              "      <td>0.000000</td>\n",
              "      <td>71.000000</td>\n",
              "      <td>0.000000</td>\n",
              "      <td>0.000000</td>\n",
              "      <td>1.000000</td>\n",
              "      <td>0.000000</td>\n",
              "      <td>3.000000</td>\n",
              "      <td>0.000000</td>\n",
              "    </tr>\n",
              "    <tr>\n",
              "      <th>25%</th>\n",
              "      <td>48.000000</td>\n",
              "      <td>0.000000</td>\n",
              "      <td>3.000000</td>\n",
              "      <td>120.000000</td>\n",
              "      <td>211.000000</td>\n",
              "      <td>0.000000</td>\n",
              "      <td>0.000000</td>\n",
              "      <td>133.500000</td>\n",
              "      <td>0.000000</td>\n",
              "      <td>0.000000</td>\n",
              "      <td>1.000000</td>\n",
              "      <td>0.000000</td>\n",
              "      <td>3.000000</td>\n",
              "      <td>0.000000</td>\n",
              "    </tr>\n",
              "    <tr>\n",
              "      <th>50%</th>\n",
              "      <td>56.000000</td>\n",
              "      <td>1.000000</td>\n",
              "      <td>3.000000</td>\n",
              "      <td>130.000000</td>\n",
              "      <td>241.000000</td>\n",
              "      <td>0.000000</td>\n",
              "      <td>1.000000</td>\n",
              "      <td>153.000000</td>\n",
              "      <td>0.000000</td>\n",
              "      <td>0.800000</td>\n",
              "      <td>2.000000</td>\n",
              "      <td>0.000000</td>\n",
              "      <td>3.000000</td>\n",
              "      <td>0.000000</td>\n",
              "    </tr>\n",
              "    <tr>\n",
              "      <th>75%</th>\n",
              "      <td>61.000000</td>\n",
              "      <td>1.000000</td>\n",
              "      <td>4.000000</td>\n",
              "      <td>140.000000</td>\n",
              "      <td>275.000000</td>\n",
              "      <td>0.000000</td>\n",
              "      <td>2.000000</td>\n",
              "      <td>166.000000</td>\n",
              "      <td>1.000000</td>\n",
              "      <td>1.600000</td>\n",
              "      <td>2.000000</td>\n",
              "      <td>1.000000</td>\n",
              "      <td>7.000000</td>\n",
              "      <td>1.000000</td>\n",
              "    </tr>\n",
              "    <tr>\n",
              "      <th>max</th>\n",
              "      <td>77.000000</td>\n",
              "      <td>1.000000</td>\n",
              "      <td>4.000000</td>\n",
              "      <td>200.000000</td>\n",
              "      <td>564.000000</td>\n",
              "      <td>1.000000</td>\n",
              "      <td>2.000000</td>\n",
              "      <td>202.000000</td>\n",
              "      <td>1.000000</td>\n",
              "      <td>6.200000</td>\n",
              "      <td>3.000000</td>\n",
              "      <td>3.000000</td>\n",
              "      <td>7.000000</td>\n",
              "      <td>1.000000</td>\n",
              "    </tr>\n",
              "  </tbody>\n",
              "</table>\n",
              "</div>"
            ],
            "text/plain": [
              "              age         sex          cp  ...          ca        thal         num\n",
              "count  303.000000  303.000000  303.000000  ...  303.000000  303.000000  303.000000\n",
              "mean    54.438944    0.679868    3.158416  ...    0.663366    4.722772    0.458746\n",
              "std      9.038662    0.467299    0.960126  ...    0.934375    1.938383    0.499120\n",
              "min     29.000000    0.000000    1.000000  ...    0.000000    3.000000    0.000000\n",
              "25%     48.000000    0.000000    3.000000  ...    0.000000    3.000000    0.000000\n",
              "50%     56.000000    1.000000    3.000000  ...    0.000000    3.000000    0.000000\n",
              "75%     61.000000    1.000000    4.000000  ...    1.000000    7.000000    1.000000\n",
              "max     77.000000    1.000000    4.000000  ...    3.000000    7.000000    1.000000\n",
              "\n",
              "[8 rows x 14 columns]"
            ]
          },
          "metadata": {
            "tags": []
          },
          "execution_count": 9
        }
      ]
    },
    {
      "cell_type": "markdown",
      "metadata": {
        "id": "mEV5icC6bwZ6",
        "colab_type": "text"
      },
      "source": [
        "## Is there any null value in our dataframe? If so How many?\n",
        "\n",
        "Using the pandas method `.isnull()` with `sum()` we answered those questions, observing that there's no null value in our dataframe."
      ]
    },
    {
      "cell_type": "code",
      "metadata": {
        "id": "NIYqOa1XY_bg",
        "colab_type": "code",
        "outputId": "faee870b-3f1c-40bb-de3f-5ac668efa809",
        "colab": {
          "base_uri": "https://localhost:8080/",
          "height": 290
        }
      },
      "source": [
        "# Look for null values and sum it\n",
        "# Procura valores nulos e soma quantos sao \n",
        "df.isnull().sum()"
      ],
      "execution_count": 10,
      "outputs": [
        {
          "output_type": "execute_result",
          "data": {
            "text/plain": [
              "age         0\n",
              "sex         0\n",
              "cp          0\n",
              "trestbps    0\n",
              "chol        0\n",
              "fbs         0\n",
              "restecg     0\n",
              "thalach     0\n",
              "exang       0\n",
              "oldpeak     0\n",
              "slope       0\n",
              "ca          0\n",
              "thal        0\n",
              "num         0\n",
              "dtype: int64"
            ]
          },
          "metadata": {
            "tags": []
          },
          "execution_count": 10
        }
      ]
    },
    {
      "cell_type": "markdown",
      "metadata": {
        "id": "Hx29dzeUegiz",
        "colab_type": "text"
      },
      "source": [
        "##How many values ​​has no heart disease and how many has heart disease  in the dataset?\n",
        "Using pandas method `value_counts()` that shows the values in a column with the number of occurrences, we can see that:\n",
        "\n",
        "\n",
        "*   164 has no heart disease\n",
        "*   139 has heart disease\n",
        "\n"
      ]
    },
    {
      "cell_type": "code",
      "metadata": {
        "id": "-Qj3V40Yc2Ig",
        "colab_type": "code",
        "outputId": "13276abd-be27-4c6b-d0d5-c917f8e36aea",
        "colab": {
          "base_uri": "https://localhost:8080/",
          "height": 297
        }
      },
      "source": [
        "# plot bar chart showing number men and women\n",
        "# gera grafico de barra mostrando numero de homens e mulheres\n",
        "\n",
        "fig, ax = plt.subplots(figsize=(5,4))\n",
        "name = [\"No heart disease\" , \"Heart Disease\"]\n",
        "ax = df.num.value_counts().plot(kind = 'bar', grid = False, color = 'grey')\n",
        "ax.set_title(\"NUMBER OF\\nCASES\", fontsize = 13, loc='left', weight = 'bold')\n",
        "ax.patch.set_facecolor('white')\n",
        "ax.set_xticklabels (name, rotation = 0)\n",
        "ax.yaxis.set_major_locator(ticker.MultipleLocator(15))\n",
        "\n",
        "# create a list to collect the plt.patches data\n",
        "# cria uma list para guardar a data do plt.patches \n",
        "totals = []\n",
        "\n",
        "# find the values and append to list\n",
        "# acha os valores e adiciona a lista\n",
        "for i in ax.patches:\n",
        "    totals.append(i.get_height())\n",
        "\n",
        "total = sum(totals)\n",
        "\n",
        "# set individual (percent) bar lables using above list\n",
        "# coloca rotulos (porcentagem) individuais nas barras usando a lista acima\n",
        "for i in ax.patches:\n",
        "    # get_x pulls left or right; get_height pushes up or down\n",
        "    # get_x puxa esquerda ou direita ; get_height empurra pra cima ou pra baixo\n",
        "    ax.text(i.get_x()+.09, i.get_height()-50, \\\n",
        "            str(round((i.get_height()/total)*100, 2))+'%', \n",
        "            fontsize=14, color='white', weight = 'bold')\n",
        "\n",
        "plt.tight_layout();"
      ],
      "execution_count": 11,
      "outputs": [
        {
          "output_type": "display_data",
          "data": {
            "image/png": "[encoded data removed]",
            "text/plain": [
              "<Figure size 360x288 with 1 Axes>"
            ]
          },
          "metadata": {
            "tags": [],
            "needs_background": "light"
          }
        }
      ]
    },
    {
      "cell_type": "markdown",
      "metadata": {
        "id": "IBTnsDCDleHW",
        "colab_type": "text"
      },
      "source": [
        "## How many deaths from heart disease happen in brazil?\n",
        "\n",
        "Using of second dataframe (df_brasil), I've made a line chart and now we can check how many deaths was caused by heart diseases in Brazil, see if it's incresing or decresing and do other analysis. \n",
        "Let's get to it! "
      ]
    },
    {
      "cell_type": "code",
      "metadata": {
        "id": "lpw5mYfwgXS4",
        "colab_type": "code",
        "outputId": "a9f831fb-65a6-40b7-dc55-200999fa2f6b",
        "colab": {
          "base_uri": "https://localhost:8080/",
          "height": 513
        }
      },
      "source": [
        "# Line  chart using seaborn to show deaths from heart disease in df_brasil\n",
        "# grafico de linhas para mostrar mortes por doenças cardíacas do df_brasil\n",
        "\n",
        "fig, ax = plt.subplots(figsize=(10,7))\n",
        "ax = sns.lineplot ( x= 'ano' , y = 'mortes_doencas_cardio', data = df_brasil,\n",
        "                    markers = True , dashes = False, linestyle='-', marker='o',\n",
        "                   linewidth=5, markersize =10)\n",
        "ax.grid()\n",
        "ax.patch.set_facecolor('white')\n",
        "ax.set_title ('DEATHS FROM HEART DISEASE IN BRAZIL', fontsize = 14, weight = 'bold', loc='left')\n",
        "ax.set_xlabel('Year')\n",
        "ax.set_ylabel('Number of deaths')\n",
        "ax.tick_params(axis='x',labelsize = 12, )\n",
        "ax.xaxis.set_major_locator(ticker.MultipleLocator(1))\n",
        "ax.yaxis.set_major_locator(ticker.MultipleLocator(10))\n",
        "\n",
        "plt.tight_layout()\n"
      ],
      "execution_count": 12,
      "outputs": [
        {
          "output_type": "display_data",
          "data": {
            "image/png": "[encoded data removed]",
            "text/plain": [
              "<Figure size 720x504 with 1 Axes>"
            ]
          },
          "metadata": {
            "tags": [],
            "needs_background": "light"
          }
        }
      ]
    },
    {
      "cell_type": "markdown",
      "metadata": {
        "id": "yQ4g8V0u_5jq",
        "colab_type": "text"
      },
      "source": [
        "Overall the heart disease deaths in Brazil has been increasing every year especially in the last 3 years as shown in our data."
      ]
    },
    {
      "cell_type": "markdown",
      "metadata": {
        "id": "5wOYgS9glol2",
        "colab_type": "text"
      },
      "source": [
        "## How many men and women there is in the dataset? \n",
        "\n",
        "As you can see in our bar chart, 206 entries, from our dataset, are men and this represents almost 68% of the entries while 97 entries are women which represents about 32%. \n"
      ]
    },
    {
      "cell_type": "code",
      "metadata": {
        "id": "Y7nwTKudS7Ca",
        "colab_type": "code",
        "outputId": "8e6ea2bf-8565-464e-cbc0-ff7c4c8fdd6a",
        "colab": {
          "base_uri": "https://localhost:8080/",
          "height": 297
        }
      },
      "source": [
        "# plot bar chart showing number men and women\n",
        "# gera grafico de barra mostrando numero de homens e mulheres\n",
        "\n",
        "colors = ['lightblue', 'lightpink']\n",
        "fig, ax = plt.subplots(figsize=(5,4))\n",
        "name = [\"Men / Homem\" , \"Women / Mulher\"]\n",
        "ax = df.sex.value_counts().plot(kind = 'bar', grid = False, color = 'grey')\n",
        "ax.set_title(\"NUMBER OF MEN\\nAND WOMEN\", fontsize = 13, loc='left', weight = 'bold')\n",
        "ax.set_xticklabels (name, rotation = 0)\n",
        "ax.patch.set_facecolor('white')\n",
        "ax.yaxis.set_major_locator(ticker.MultipleLocator(15))\n",
        "\n",
        "# create a list to collect the plt.patches data\n",
        "# cria uma list para guardar a data do plt.patches \n",
        "totals = []\n",
        "\n",
        "# find the values and append to list\n",
        "# acha os valores e adiciona a lista\n",
        "for i in ax.patches:\n",
        "    totals.append(i.get_height())\n",
        "\n",
        "total = sum(totals)\n",
        "\n",
        "# set individual (percent) bar lables using above list\n",
        "# coloca rotulos (porcentagem) individuais nas barras usando a lista acima\n",
        "for i in ax.patches:\n",
        "    # get_x pulls left or right; get_height pushes up or down\n",
        "    # get_x puxa esquerda ou direita ; get_height empurra pra cima ou pra baixo\n",
        "    ax.text(i.get_x()+.09, i.get_height()-50, \\\n",
        "            str(round((i.get_height()/total)*100, 2))+'%', fontsize=14,\n",
        "                color='white', weight = 'bold')\n",
        "    \n",
        "\n",
        "plt.tight_layout()"
      ],
      "execution_count": 13,
      "outputs": [
        {
          "output_type": "display_data",
          "data": {
            "image/png": "[encoded data removed]",
            "text/plain": [
              "<Figure size 360x288 with 1 Axes>"
            ]
          },
          "metadata": {
            "tags": [],
            "needs_background": "light"
          }
        }
      ]
    },
    {
      "cell_type": "markdown",
      "metadata": {
        "id": "kDgEnOVHl06H",
        "colab_type": "text"
      },
      "source": [
        "## Is there a relationship between patients' age and cholesterol?\n",
        "\n",
        "Together with scatterplot chart, that shows a relationship between our two variables, I decide to plot our regression line, which is a simple line that shows the best fit for our data based in our choosed variables.\n",
        "\n",
        "According to an article from [Medical News Today](https://www.medicalnewstoday.com/articles/321519#normal-ranges): \"doctors once determined whether a person’s serum cholesterol level was healthy by comparing it to established normal ranges.\"\n",
        "\n",
        "Now before deciding whether a person's cholesterol is not healthy, doctors consider several factors like obesity,high blood pressure, smoking or tobacco use, family history and others.\n",
        "\n",
        "For our dataset the range for healthy cholesterol is between 125mg/dl to 200mg/dl.\n",
        "\n",
        "That being said we can see in our chart that the inclination the most people has cholesterol above 200mg/dl and the regression line has a slight slope which means that when a person gets older there is a tendency to increase cholesterol."
      ]
    },
    {
      "cell_type": "code",
      "metadata": {
        "id": "aqapHPQ3hZgx",
        "colab_type": "code",
        "outputId": "bdbdc960-59f4-474d-d9dc-cd40215292a6",
        "colab": {
          "base_uri": "https://localhost:8080/",
          "height": 441
        }
      },
      "source": [
        "# Dispersion chart for variables age and chol\n",
        "# Grafico dispersao para variaveis age e chol\n",
        "\n",
        "ax = sns.jointplot('age', 'chol' , data=df, kind=\"reg\",\n",
        "                   truncate=False, color=\"grey\", height = 6)\n",
        "\n",
        "\n",
        "\n",
        "\n",
        "plt.tight_layout()"
      ],
      "execution_count": 14,
      "outputs": [
        {
          "output_type": "display_data",
          "data": {
            "image/png": "[encoded data removed]",
            "text/plain": [
              "<Figure size 432x432 with 3 Axes>"
            ]
          },
          "metadata": {
            "tags": [],
            "needs_background": "light"
          }
        }
      ]
    },
    {
      "cell_type": "markdown",
      "metadata": {
        "id": "n3JeV6T8l4jq",
        "colab_type": "text"
      },
      "source": [
        "## What is the frequency for serum cholesterol?\n",
        "\n",
        "Having a look at our chart we can confirm what the scatter plot shows, that our frequency for the variable is higher between 200mg/dl and 300mg/dl.\n"
      ]
    },
    {
      "cell_type": "code",
      "metadata": {
        "id": "fpwHgp0peOMx",
        "colab_type": "code",
        "outputId": "414e4be1-86c8-426d-8e3f-1d55aea50034",
        "colab": {
          "base_uri": "https://localhost:8080/",
          "height": 297
        }
      },
      "source": [
        "fig, ax = plt.subplots(figsize=(10,4))\n",
        "ax = df.chol.plot.hist (bins =10 , color = 'grey')\n",
        "ax.set_title(\"CHOLESTEROL\", fontsize = 14, loc='left', weight = 'bold')\n",
        "ax.patch.set_facecolor('white')\n",
        "plt.tight_layout();"
      ],
      "execution_count": 15,
      "outputs": [
        {
          "output_type": "display_data",
          "data": {
            "image/png": "[encoded data removed]",
            "text/plain": [
              "<Figure size 720x288 with 1 Axes>"
            ]
          },
          "metadata": {
            "tags": [],
            "needs_background": "light"
          }
        }
      ]
    },
    {
      "cell_type": "markdown",
      "metadata": {
        "id": "1m_XnwvLl7UN",
        "colab_type": "text"
      },
      "source": [
        "## Result of Resting Electrocardiography\n",
        "\n",
        "As we can see in our donut chart, almost 50% of our entries from the dataset has had normal results from resting electrocardiography, 1,3% has ST-T Abnormalities and the rest 48,8% has Ventricular Hypertrophy probable left or definitive(by the Romhilt-Estes criteria).\n",
        "\n",
        "\n",
        "\n"
      ]
    },
    {
      "cell_type": "code",
      "metadata": {
        "id": "BG7kDH3_qJwA",
        "colab_type": "code",
        "colab": {
          "base_uri": "https://localhost:8080/",
          "height": 315
        },
        "outputId": "322abc04-f3c8-4e36-8219-06fc5a87acc3"
      },
      "source": [
        "colors = ['orange','grey' , 'grey' ]\n",
        "labels = ['ST-T Abnormalities', 'Ventricular Hypertrophy\\n probable left or definitive ','Normal']\n",
        "\n",
        "fig , ax1 = plt.subplots(figsize = (7,4))\n",
        "ax = df.restecg.value_counts().sort_values(ascending=[True]).plot(kind = 'barh', grid= False, color = colors,)\n",
        "ax.set_title ('Result of Resting\\nElectrocardiography', fontsize = 14, weight = 'bold', loc='left')\n",
        "ax.set_yticklabels (labels, rotation = 0)\n",
        "ax.spines['top'].set_visible(True)\n",
        "ax.spines['right'].set_visible(False)\n",
        "ax.spines['left'].set_visible(False)\n",
        "ax.spines['bottom'].set_visible(False)\n",
        "ax.xaxis.tick_top()\n",
        "ax.patch.set_facecolor('white')\n",
        "\n",
        "total = len(df['restecg'])\n",
        "for p in ax.patches:\n",
        "        percentage = '{:.1f}%'.format(100 * p.get_width()/total)\n",
        "        x = p.get_x() + p.get_width() + 0.9\n",
        "        y = p.get_y() + p.get_height()/2\n",
        "        ax.annotate(percentage, (x, y))\n",
        "plt.tight_layout()\n",
        "plt.show()\n",
        "plt.tight_layout();"
      ],
      "execution_count": 16,
      "outputs": [
        {
          "output_type": "display_data",
          "data": {
            "image/png": "[encoded data removed]",
            "text/plain": [
              "<Figure size 504x288 with 1 Axes>"
            ]
          },
          "metadata": {
            "tags": [],
            "needs_background": "light"
          }
        },
        {
          "output_type": "display_data",
          "data": {
            "text/plain": [
              "<Figure size 432x288 with 0 Axes>"
            ]
          },
          "metadata": {
            "tags": []
          }
        }
      ]
    },
    {
      "cell_type": "markdown",
      "metadata": {
        "id": "bAIxAT20l-2t",
        "colab_type": "text"
      },
      "source": [
        "## Variables correlation\n",
        "\n",
        "This method is a great way to see how the variables is correlated. The bigger the number the higher is the correlation. \n",
        "\n",
        "In the chart `slope`( ST segment slope at peak exercise) and `oldpeak`(exercise-induced ST segment depiction in relation to rest) is the variables with higher correlation, 0.58, followed by `thal`(thallium stress test) and `num`(diagnosis of heart disease) with 0.52.\n",
        "\n"
      ]
    },
    {
      "cell_type": "code",
      "metadata": {
        "id": "hIliF8hRf_Ah",
        "colab_type": "code",
        "outputId": "32438611-2b65-465d-b50c-cbc613b25d02",
        "colab": {
          "base_uri": "https://localhost:8080/",
          "height": 585
        }
      },
      "source": [
        "# plot correlation chart\n",
        "# plotar um gafico de correlacao\n",
        "fig, ax = plt.subplots(figsize=(10,8))\n",
        "ax = sns.heatmap(df.corr() , fmt= '.2g', cmap='coolwarm',annot= True )\n",
        "plt.tight_layout()"
      ],
      "execution_count": 17,
      "outputs": [
        {
          "output_type": "display_data",
          "data": {
            "image/png": "[encoded data removed]",
            "text/plain": [
              "<Figure size 720x576 with 2 Axes>"
            ]
          },
          "metadata": {
            "tags": [],
            "needs_background": "light"
          }
        }
      ]
    },
    {
      "cell_type": "markdown",
      "metadata": {
        "id": "4Ud21dbU2KXw",
        "colab_type": "text"
      },
      "source": [
        "## Any outliers?\n",
        "\n",
        "Outliers are values that are much bigger or smaller than the rest of the data.\n",
        "In order to be an outlier, the data value must be:\n",
        "\n",
        "*   larger than Q3 by at least 1.5 times the interquartile range (IQR), or\n",
        "*   smaller than Q1 by at least 1.5 times the IQR.\n",
        "\n",
        "<p><img alt=\"Colaboratory logo\" height=\"330\" src=\"https://miro.medium.com/max/9000/1*2c21SkzJMf3frPXPAR_gZA.png\"   vspace=\"0px\"></p>\n",
        "\n",
        "\n",
        "\n",
        "\n",
        "Remembering the variables meaning:\n",
        "\n",
        "* `chol` - serum cholesterol level in mg/dl\n",
        "* `thalach` - maximum heart rate reached\n",
        "* `trestbps` - resting blood pressure\n",
        "\n",
        "As we can see we have some outliers in these variables."
      ]
    },
    {
      "cell_type": "code",
      "metadata": {
        "id": "u35wm42a2IX0",
        "colab_type": "code",
        "outputId": "ab8784e6-6f1b-4c58-b4ed-569deaab0d6d",
        "colab": {
          "base_uri": "https://localhost:8080/",
          "height": 369
        }
      },
      "source": [
        "sns.set_style(\"white\")\n",
        "fig, ax = plt.subplots(figsize=(9,5))\n",
        "name = ['Chol','thalach', 'trestbps']\n",
        "ax = sns.boxplot(data = (df.chol, df.thalach,df.trestbps), orient='h',\n",
        "                 palette = \"Set3\")\n",
        "ax.set_title('VARIABLES WITH\\nOUTLIERS', loc='left', weight = 'bold')\n",
        "sns.despine(left=True)\n",
        "ax.set_yticklabels(name)\n",
        "plt.tight_layout();"
      ],
      "execution_count": 18,
      "outputs": [
        {
          "output_type": "display_data",
          "data": {
            "image/png": "[encoded data removed]",
            "text/plain": [
              "<Figure size 648x360 with 1 Axes>"
            ]
          },
          "metadata": {
            "tags": []
          }
        }
      ]
    },
    {
      "cell_type": "markdown",
      "metadata": {
        "id": "m6raYIFKl_ao",
        "colab_type": "text"
      },
      "source": [
        "# Analysis conclusion\n",
        "\n",
        "This is the first part of this project these are a few examples of data exploratory analysis that we can do when starting a data science project. \n",
        "\n",
        "Next part of these project is create a machine learning algorithm, based on predictive models, that can help discover cardiovascular diseases in patients."
      ]
    },
    {
      "cell_type": "markdown",
      "metadata": {
        "id": "dXUF6uM45cDX",
        "colab_type": "text"
      },
      "source": [
        "# Machine Learning\n",
        "\n",
        "After all the previous analysis done, We are finally getting to fun part of data science, at least to me, which is create the algorithm to detect if a patient has or doesn't have heart disease.\n",
        "\n",
        "Looking at our data, the variable `num` refers to diagnosis of heart disease: if is zero means no heart disease and if is one means there is heart disease. This is exactly what we want to discover, so our variable `num` will be our target and the others variables will be our inputs."
      ]
    },
    {
      "cell_type": "code",
      "metadata": {
        "id": "aOnzc6NQwkyh",
        "colab_type": "code",
        "colab": {}
      },
      "source": [
        "# Create a variable that will contain the inputs \n",
        "# Criar a variável que ira conter nossas variáveis inputs  \n",
        "unscaled_inputs = df.iloc[:, :-1] \n",
        "# Create a variable that will contain the targets (variable num)\n",
        "# Criar a variavel que ira conter a variavel alvo (variavel num)\n",
        "target = df.iloc[:, 13] "
      ],
      "execution_count": 0,
      "outputs": []
    },
    {
      "cell_type": "markdown",
      "metadata": {
        "id": "63Dh8kuowFvV",
        "colab_type": "text"
      },
      "source": [
        "## Standardize the data\n",
        "\n",
        "Standardization is one of the most common preprocessing tools since data of different magnitude (scale) can be biased towards high values, we want all inputs to be of similar magnitude this is a peculiarity of machine learning in general - most (but not all) algorithms do badly with unscaled data.\n",
        "\n",
        "A very useful module we can use is StandardScaler it has much more capabilities than the straightforward 'preprocessing' method.\n",
        "\n",
        "Here's the full documentation: http://scikit-learn.org/stable/modules/generated/sklearn.preprocessing.StandardScaler.html\n",
        "\n"
      ]
    },
    {
      "cell_type": "code",
      "metadata": {
        "id": "yTyQHxPGxyz7",
        "colab_type": "code",
        "colab": {}
      },
      "source": [
        "# standardize the inputs\n",
        "# import the librarie\n",
        "from sklearn.preprocessing import StandardScaler\n",
        "\n",
        "# we will create a variable that will contain the scaling information for this particular dataset\n",
        "# define scaler as an object\n",
        "df_scaler = StandardScaler()"
      ],
      "execution_count": 0,
      "outputs": []
    },
    {
      "cell_type": "markdown",
      "metadata": {
        "id": "KS0wNo1ex-uo",
        "colab_type": "text"
      },
      "source": [
        "Let's import the libraries needed to create the Custom Scaler.\n",
        "Note that all of them are a part of the sklearn package moreover, one of them is actually the StandardScaler module, so you can imagine that the Custom Scaler is build on it.\n"
      ]
    },
    {
      "cell_type": "code",
      "metadata": {
        "id": "5c7-rgAeyNu5",
        "colab_type": "code",
        "colab": {}
      },
      "source": [
        "# importing the package\n",
        "from sklearn.base import BaseEstimator, TransformerMixin\n",
        "from sklearn.preprocessing import StandardScaler\n",
        "\n",
        "# create the Custom Scaler class\n",
        "class CustomScaler(BaseEstimator,TransformerMixin): \n",
        "    \n",
        "    # init or what information we need to declare a CustomScaler object\n",
        "    # and what is calculated/declared as we do\n",
        "    def __init__(self,columns,copy=True,with_mean=True,with_std=True):\n",
        "        \n",
        "        # scaler is nothing but a Standard Scaler object\n",
        "        self.scaler = StandardScaler(copy,with_mean,with_std)\n",
        "        # with some columns 'twist'\n",
        "        self.columns = columns\n",
        "        self.mean_ = None\n",
        "        self.var_ = None\n",
        "        \n",
        "    # the fit method, which, again based on StandardScale\n",
        "    def fit(self, X, y=None):\n",
        "        self.scaler.fit(X[self.columns], y)\n",
        "        self.mean_ = np.mean(X[self.columns])\n",
        "        self.var_ = np.var(X[self.columns])\n",
        "        return self\n",
        "    \n",
        "    # the transform method which does the actual scaling\n",
        "    def transform(self, X, y=None, copy=None):\n",
        "        \n",
        "        # record the initial order of the columns\n",
        "        init_col_order = X.columns\n",
        "        \n",
        "        # scale all features that you chose when creating the instance of the class\n",
        "        X_scaled = pd.DataFrame(self.scaler.transform(X[self.columns]), columns=self.columns)\n",
        "        \n",
        "        # declare a variable containing all information that was not scaled\n",
        "        X_not_scaled = X.loc[:,~X.columns.isin(self.columns)]\n",
        "        \n",
        "        # return a data frame which contains all scaled features and all 'not scaled' features\n",
        "        # use the original order (that you recorded in the beginning)\n",
        "        return pd.concat([X_not_scaled, X_scaled], axis=1)[init_col_order]"
      ],
      "execution_count": 0,
      "outputs": []
    },
    {
      "cell_type": "code",
      "metadata": {
        "id": "MzdX9gYGymUv",
        "colab_type": "code",
        "outputId": "e2694c6a-f08e-41ea-a54e-582a2332beda",
        "colab": {
          "base_uri": "https://localhost:8080/",
          "height": 54
        }
      },
      "source": [
        "# check what are all columns that we've got\n",
        "unscaled_inputs.columns.values"
      ],
      "execution_count": 22,
      "outputs": [
        {
          "output_type": "execute_result",
          "data": {
            "text/plain": [
              "array(['age', 'sex', 'cp', 'trestbps', 'chol', 'fbs', 'restecg',\n",
              "       'thalach', 'exang', 'oldpeak', 'slope', 'ca', 'thal'], dtype=object)"
            ]
          },
          "metadata": {
            "tags": []
          },
          "execution_count": 22
        }
      ]
    },
    {
      "cell_type": "markdown",
      "metadata": {
        "id": "Uri_ABGDyvQe",
        "colab_type": "text"
      },
      "source": [
        "Next step is choose the columns that we want to scale, some columns like `sex` is filled with boolean numbers, so we don't want to standardize columns like these.\n",
        "\n",
        "The columns that we wont to standardize is: `sex`, `fbs`, `exang`\n",
        "\n",
        "So the rest of the columns is going to be standardized"
      ]
    },
    {
      "cell_type": "code",
      "metadata": {
        "id": "wJunQynryoxZ",
        "colab_type": "code",
        "colab": {}
      },
      "source": [
        "# select the columns to omit\n",
        "columns_to_omit = ['sex', 'fbs', 'exang', 'restecg', 'cp']"
      ],
      "execution_count": 0,
      "outputs": []
    },
    {
      "cell_type": "code",
      "metadata": {
        "id": "p57c2E5z1eT3",
        "colab_type": "code",
        "colab": {}
      },
      "source": [
        "# create the columns to scale, based on the columns to omit\n",
        "# use list comprehension to iterate over the list\n",
        "columns_to_scale = [x for x in unscaled_inputs.columns.values if x not in columns_to_omit]"
      ],
      "execution_count": 0,
      "outputs": []
    },
    {
      "cell_type": "code",
      "metadata": {
        "id": "ThivlwWa1xrF",
        "colab_type": "code",
        "colab": {}
      },
      "source": [
        "# declare a scaler object, specifying the columns you want to scale\n",
        "df_scaler = CustomScaler(columns_to_scale)"
      ],
      "execution_count": 0,
      "outputs": []
    },
    {
      "cell_type": "code",
      "metadata": {
        "id": "3W1vo17G1xz1",
        "colab_type": "code",
        "outputId": "4f219b6b-8672-46fe-8976-fbdcb075610d",
        "colab": {
          "base_uri": "https://localhost:8080/",
          "height": 128
        }
      },
      "source": [
        "# fit the data (calculate mean and standard deviation); they are automatically stored inside the object \n",
        "df_scaler.fit(unscaled_inputs)"
      ],
      "execution_count": 26,
      "outputs": [
        {
          "output_type": "stream",
          "text": [
            "/usr/local/lib/python3.6/dist-packages/sklearn/base.py:197: FutureWarning: From version 0.24, get_params will raise an AttributeError if a parameter cannot be retrieved as an instance attribute. Previously it would return None.\n",
            "  FutureWarning)\n"
          ],
          "name": "stderr"
        },
        {
          "output_type": "execute_result",
          "data": {
            "text/plain": [
              "CustomScaler(columns=['age', 'trestbps', 'chol', 'thalach', 'oldpeak', 'slope',\n",
              "                      'ca', 'thal'],\n",
              "             copy=None, with_mean=None, with_std=None)"
            ]
          },
          "metadata": {
            "tags": []
          },
          "execution_count": 26
        }
      ]
    },
    {
      "cell_type": "markdown",
      "metadata": {
        "id": "rSH8WF5q2MJC",
        "colab_type": "text"
      },
      "source": [
        "We are going to standardizes the data, using the transform method in the last line, we fitted the data. In other words we found the internal parameters of a model that will be used to transform data. \n",
        "\n",
        "Transforming applies these parameters to our data.\n",
        "\n",
        "Note that when you get new data, you can just call 'scaler' again and transform it in the same way as now."
      ]
    },
    {
      "cell_type": "code",
      "metadata": {
        "id": "-i-au6x52sKp",
        "colab_type": "code",
        "colab": {}
      },
      "source": [
        "# standardizing the selected columns\n",
        "scaled_inputs = df_scaler.transform(unscaled_inputs)"
      ],
      "execution_count": 0,
      "outputs": []
    },
    {
      "cell_type": "code",
      "metadata": {
        "id": "PDo_wO2h3BCO",
        "colab_type": "code",
        "outputId": "90146497-1a45-465d-942c-884e43f22185",
        "colab": {
          "base_uri": "https://localhost:8080/",
          "height": 35
        }
      },
      "source": [
        "# check the shape of the inputs\n",
        "scaled_inputs.shape"
      ],
      "execution_count": 28,
      "outputs": [
        {
          "output_type": "execute_result",
          "data": {
            "text/plain": [
              "(303, 13)"
            ]
          },
          "metadata": {
            "tags": []
          },
          "execution_count": 28
        }
      ]
    },
    {
      "cell_type": "code",
      "metadata": {
        "id": "EEUBQuys27nw",
        "colab_type": "code",
        "outputId": "25597bd0-824d-4f5a-b7ab-48302dbf05af",
        "colab": {
          "base_uri": "https://localhost:8080/",
          "height": 407
        }
      },
      "source": [
        "# the scaled_inputs are now an ndarray, because sklearn works with ndarrays\n",
        "scaled_inputs"
      ],
      "execution_count": 29,
      "outputs": [
        {
          "output_type": "execute_result",
          "data": {
            "text/html": [
              "<div>\n",
              "<style scoped>\n",
              "    .dataframe tbody tr th:only-of-type {\n",
              "        vertical-align: middle;\n",
              "    }\n",
              "\n",
              "    .dataframe tbody tr th {\n",
              "        vertical-align: top;\n",
              "    }\n",
              "\n",
              "    .dataframe thead th {\n",
              "        text-align: right;\n",
              "    }\n",
              "</style>\n",
              "<table border=\"1\" class=\"dataframe\">\n",
              "  <thead>\n",
              "    <tr style=\"text-align: right;\">\n",
              "      <th></th>\n",
              "      <th>age</th>\n",
              "      <th>sex</th>\n",
              "      <th>cp</th>\n",
              "      <th>trestbps</th>\n",
              "      <th>chol</th>\n",
              "      <th>fbs</th>\n",
              "      <th>restecg</th>\n",
              "      <th>thalach</th>\n",
              "      <th>exang</th>\n",
              "      <th>oldpeak</th>\n",
              "      <th>slope</th>\n",
              "      <th>ca</th>\n",
              "      <th>thal</th>\n",
              "    </tr>\n",
              "  </thead>\n",
              "  <tbody>\n",
              "    <tr>\n",
              "      <th>0</th>\n",
              "      <td>0.948726</td>\n",
              "      <td>1.0</td>\n",
              "      <td>1.0</td>\n",
              "      <td>0.757525</td>\n",
              "      <td>-0.264900</td>\n",
              "      <td>1.0</td>\n",
              "      <td>2.0</td>\n",
              "      <td>0.017197</td>\n",
              "      <td>0.0</td>\n",
              "      <td>1.087338</td>\n",
              "      <td>2.274579</td>\n",
              "      <td>-0.711131</td>\n",
              "      <td>0.660004</td>\n",
              "    </tr>\n",
              "    <tr>\n",
              "      <th>1</th>\n",
              "      <td>1.392002</td>\n",
              "      <td>1.0</td>\n",
              "      <td>4.0</td>\n",
              "      <td>1.611220</td>\n",
              "      <td>0.760415</td>\n",
              "      <td>0.0</td>\n",
              "      <td>2.0</td>\n",
              "      <td>-1.821905</td>\n",
              "      <td>1.0</td>\n",
              "      <td>0.397182</td>\n",
              "      <td>0.649113</td>\n",
              "      <td>2.504881</td>\n",
              "      <td>-0.890238</td>\n",
              "    </tr>\n",
              "    <tr>\n",
              "      <th>2</th>\n",
              "      <td>1.392002</td>\n",
              "      <td>1.0</td>\n",
              "      <td>4.0</td>\n",
              "      <td>-0.665300</td>\n",
              "      <td>-0.342283</td>\n",
              "      <td>0.0</td>\n",
              "      <td>2.0</td>\n",
              "      <td>-0.902354</td>\n",
              "      <td>1.0</td>\n",
              "      <td>1.346147</td>\n",
              "      <td>0.649113</td>\n",
              "      <td>1.432877</td>\n",
              "      <td>1.176752</td>\n",
              "    </tr>\n",
              "    <tr>\n",
              "      <th>3</th>\n",
              "      <td>-1.932564</td>\n",
              "      <td>1.0</td>\n",
              "      <td>3.0</td>\n",
              "      <td>-0.096170</td>\n",
              "      <td>0.063974</td>\n",
              "      <td>0.0</td>\n",
              "      <td>0.0</td>\n",
              "      <td>1.637359</td>\n",
              "      <td>0.0</td>\n",
              "      <td>2.122573</td>\n",
              "      <td>2.274579</td>\n",
              "      <td>-0.711131</td>\n",
              "      <td>-0.890238</td>\n",
              "    </tr>\n",
              "    <tr>\n",
              "      <th>4</th>\n",
              "      <td>-1.489288</td>\n",
              "      <td>0.0</td>\n",
              "      <td>2.0</td>\n",
              "      <td>-0.096170</td>\n",
              "      <td>-0.825922</td>\n",
              "      <td>0.0</td>\n",
              "      <td>2.0</td>\n",
              "      <td>0.980537</td>\n",
              "      <td>0.0</td>\n",
              "      <td>0.310912</td>\n",
              "      <td>-0.976352</td>\n",
              "      <td>-0.711131</td>\n",
              "      <td>-0.890238</td>\n",
              "    </tr>\n",
              "    <tr>\n",
              "      <th>...</th>\n",
              "      <td>...</td>\n",
              "      <td>...</td>\n",
              "      <td>...</td>\n",
              "      <td>...</td>\n",
              "      <td>...</td>\n",
              "      <td>...</td>\n",
              "      <td>...</td>\n",
              "      <td>...</td>\n",
              "      <td>...</td>\n",
              "      <td>...</td>\n",
              "      <td>...</td>\n",
              "      <td>...</td>\n",
              "      <td>...</td>\n",
              "    </tr>\n",
              "    <tr>\n",
              "      <th>298</th>\n",
              "      <td>-1.046013</td>\n",
              "      <td>1.0</td>\n",
              "      <td>1.0</td>\n",
              "      <td>-1.234430</td>\n",
              "      <td>0.334813</td>\n",
              "      <td>0.0</td>\n",
              "      <td>0.0</td>\n",
              "      <td>-0.770990</td>\n",
              "      <td>0.0</td>\n",
              "      <td>0.138373</td>\n",
              "      <td>0.649113</td>\n",
              "      <td>-0.711131</td>\n",
              "      <td>1.176752</td>\n",
              "    </tr>\n",
              "    <tr>\n",
              "      <th>299</th>\n",
              "      <td>1.502821</td>\n",
              "      <td>1.0</td>\n",
              "      <td>4.0</td>\n",
              "      <td>0.700612</td>\n",
              "      <td>-1.038723</td>\n",
              "      <td>1.0</td>\n",
              "      <td>0.0</td>\n",
              "      <td>-0.376896</td>\n",
              "      <td>0.0</td>\n",
              "      <td>2.036303</td>\n",
              "      <td>0.649113</td>\n",
              "      <td>1.432877</td>\n",
              "      <td>1.176752</td>\n",
              "    </tr>\n",
              "    <tr>\n",
              "      <th>300</th>\n",
              "      <td>0.283813</td>\n",
              "      <td>1.0</td>\n",
              "      <td>4.0</td>\n",
              "      <td>-0.096170</td>\n",
              "      <td>-2.238149</td>\n",
              "      <td>0.0</td>\n",
              "      <td>0.0</td>\n",
              "      <td>-1.515388</td>\n",
              "      <td>1.0</td>\n",
              "      <td>0.138373</td>\n",
              "      <td>0.649113</td>\n",
              "      <td>0.360873</td>\n",
              "      <td>1.176752</td>\n",
              "    </tr>\n",
              "    <tr>\n",
              "      <th>301</th>\n",
              "      <td>0.283813</td>\n",
              "      <td>0.0</td>\n",
              "      <td>2.0</td>\n",
              "      <td>-0.096170</td>\n",
              "      <td>-0.206864</td>\n",
              "      <td>0.0</td>\n",
              "      <td>2.0</td>\n",
              "      <td>1.068113</td>\n",
              "      <td>0.0</td>\n",
              "      <td>-0.896862</td>\n",
              "      <td>0.649113</td>\n",
              "      <td>0.360873</td>\n",
              "      <td>-0.890238</td>\n",
              "    </tr>\n",
              "    <tr>\n",
              "      <th>302</th>\n",
              "      <td>-1.821745</td>\n",
              "      <td>1.0</td>\n",
              "      <td>3.0</td>\n",
              "      <td>0.359134</td>\n",
              "      <td>-1.386944</td>\n",
              "      <td>0.0</td>\n",
              "      <td>0.0</td>\n",
              "      <td>1.024325</td>\n",
              "      <td>0.0</td>\n",
              "      <td>-0.896862</td>\n",
              "      <td>-0.976352</td>\n",
              "      <td>-0.711131</td>\n",
              "      <td>-0.890238</td>\n",
              "    </tr>\n",
              "  </tbody>\n",
              "</table>\n",
              "<p>303 rows × 13 columns</p>\n",
              "</div>"
            ],
            "text/plain": [
              "          age  sex   cp  trestbps  ...   oldpeak     slope        ca      thal\n",
              "0    0.948726  1.0  1.0  0.757525  ...  1.087338  2.274579 -0.711131  0.660004\n",
              "1    1.392002  1.0  4.0  1.611220  ...  0.397182  0.649113  2.504881 -0.890238\n",
              "2    1.392002  1.0  4.0 -0.665300  ...  1.346147  0.649113  1.432877  1.176752\n",
              "3   -1.932564  1.0  3.0 -0.096170  ...  2.122573  2.274579 -0.711131 -0.890238\n",
              "4   -1.489288  0.0  2.0 -0.096170  ...  0.310912 -0.976352 -0.711131 -0.890238\n",
              "..        ...  ...  ...       ...  ...       ...       ...       ...       ...\n",
              "298 -1.046013  1.0  1.0 -1.234430  ...  0.138373  0.649113 -0.711131  1.176752\n",
              "299  1.502821  1.0  4.0  0.700612  ...  2.036303  0.649113  1.432877  1.176752\n",
              "300  0.283813  1.0  4.0 -0.096170  ...  0.138373  0.649113  0.360873  1.176752\n",
              "301  0.283813  0.0  2.0 -0.096170  ... -0.896862  0.649113  0.360873 -0.890238\n",
              "302 -1.821745  1.0  3.0  0.359134  ... -0.896862 -0.976352 -0.711131 -0.890238\n",
              "\n",
              "[303 rows x 13 columns]"
            ]
          },
          "metadata": {
            "tags": []
          },
          "execution_count": 29
        }
      ]
    },
    {
      "cell_type": "markdown",
      "metadata": {
        "id": "bdS5ap6ESBCI",
        "colab_type": "text"
      },
      "source": [
        "## Data split\n",
        "\n",
        "\n",
        "To split our data into training and test we will use scikit-learn tools to do this job, we also will shuffle our data this process to reduce the variance and make sure that our model remains general and overfit less. The process is describe below. By default our model is divided in 75% training and 25% test but I will change that and set the test size as 20% and training 80%."
      ]
    },
    {
      "cell_type": "code",
      "metadata": {
        "id": "WiXY54lQ3N07",
        "colab_type": "code",
        "colab": {}
      },
      "source": [
        "# import train_test_split so we can split our data into train and test\n",
        "# importar train_test_split para dividir nossos dados em treino e teste \n",
        "from sklearn.model_selection import train_test_split"
      ],
      "execution_count": 0,
      "outputs": []
    },
    {
      "cell_type": "code",
      "metadata": {
        "id": "I-zjtsNP3YFF",
        "colab_type": "code",
        "outputId": "a83f20a3-eca2-409a-8491-0604234e275c",
        "colab": {
          "base_uri": "https://localhost:8080/",
          "height": 963
        }
      },
      "source": [
        "# check how this method works\n",
        "# ver como este metodo funciona\n",
        "train_test_split(scaled_inputs, target)"
      ],
      "execution_count": 31,
      "outputs": [
        {
          "output_type": "execute_result",
          "data": {
            "text/plain": [
              "[          age  sex   cp  trestbps  ...   oldpeak     slope        ca      thal\n",
              " 165  0.283813  1.0  4.0  0.017656  ... -0.896862 -0.976352 -0.711131  1.176752\n",
              " 60  -0.381100  0.0  4.0 -0.096170  ...  0.138373  0.649113 -0.711131  1.176752\n",
              " 230 -0.270281  0.0  3.0  0.245308  ... -0.810592  0.649113 -0.711131 -0.890238\n",
              " 167 -0.048643  0.0  2.0  0.017656  ... -0.896862 -0.976352  0.360873 -0.890238\n",
              " 5    0.172994  1.0  2.0 -0.665300  ... -0.206705 -0.976352 -0.711131 -0.890238\n",
              " ..        ...  ...  ...       ...  ...       ...       ...       ...       ...\n",
              " 43   0.505451  1.0  3.0  1.042090  ...  0.483451 -0.976352 -0.711131 -0.890238\n",
              " 99  -0.713556  1.0  4.0 -0.551474  ... -0.896862 -0.976352 -0.711131 -0.890238\n",
              " 239 -1.378470  1.0  2.0 -0.665300  ... -0.896862 -0.976352 -0.711131 -0.890238\n",
              " 279  0.394632  0.0  4.0 -0.096170  ... -0.379244  0.649113 -0.711131 -0.890238\n",
              " 293  0.948726  1.0  4.0  0.472960  ...  2.553921 -0.976352  1.432877  1.176752\n",
              " \n",
              " [227 rows x 13 columns],\n",
              "           age  sex   cp  trestbps  ...   oldpeak     slope        ca      thal\n",
              " 179 -0.159462  1.0  3.0 -0.096170  ... -0.896862 -0.976352  2.504881 -0.890238\n",
              " 88  -0.159462  0.0  4.0  0.359134  ... -0.896862 -0.976352 -0.711131 -0.890238\n",
              " 173  0.837908  0.0  4.0  0.472960  ...  0.138373  0.649113 -0.711131 -0.890238\n",
              " 120 -0.713556  1.0  4.0 -0.096170  ... -0.896862 -0.976352  1.432877  1.176752\n",
              " 246  0.394632  1.0  4.0 -1.803559  ... -0.810592 -0.976352  0.360873  1.176752\n",
              " ..        ...  ...  ...       ...  ...       ...       ...       ...       ...\n",
              " 67  -0.048643  1.0  3.0  1.042090  ...  0.483451 -0.976352 -0.711131  1.176752\n",
              " 45   0.394632  1.0  3.0 -1.120604  ...  1.259877  0.649113  0.360873  1.176752\n",
              " 36  -1.267651  1.0  4.0 -0.665300  ...  1.259877  0.649113 -0.711131  1.176752\n",
              " 52  -1.156832  1.0  4.0 -1.120604  ... -0.896862 -0.976352  0.360873 -0.890238\n",
              " 236  0.172994  1.0  4.0 -0.096170  ...  0.483451  2.274579 -0.711131  1.176752\n",
              " \n",
              " [76 rows x 13 columns],\n",
              " 165    0\n",
              " 60     1\n",
              " 230    0\n",
              " 167    0\n",
              " 5      0\n",
              "       ..\n",
              " 43     0\n",
              " 99     0\n",
              " 239    0\n",
              " 279    0\n",
              " 293    1\n",
              " Name: num, Length: 227, dtype: int64,\n",
              " 179    0\n",
              " 88     0\n",
              " 173    0\n",
              " 120    1\n",
              " 246    1\n",
              "       ..\n",
              " 67     0\n",
              " 45     1\n",
              " 36     1\n",
              " 52     1\n",
              " 236    1\n",
              " Name: num, Length: 76, dtype: int64]"
            ]
          },
          "metadata": {
            "tags": []
          },
          "execution_count": 31
        }
      ]
    },
    {
      "cell_type": "code",
      "metadata": {
        "id": "AUePkIZD3bcj",
        "colab_type": "code",
        "outputId": "6a20241d-3331-41cb-f3cc-7de97877f765",
        "colab": {
          "base_uri": "https://localhost:8080/",
          "height": 54
        }
      },
      "source": [
        "# Splitting the dataset into the Training set and Test set\n",
        "# Dividindo o conj de dados em treino a teste\n",
        "X_train, X_test, y_train, y_test = train_test_split(scaled_inputs, \n",
        "                                                    target, test_size = 0.2,\n",
        "                                                    random_state = 20)\n",
        "\n",
        "# Check the shape of the train inputs and targets\n",
        "# Checar o formato do dataset de treino e alvos\n",
        "print (\"Train:\" ,X_train.shape, y_train.shape)\n",
        "\n",
        "# check the shape of the test inputs and targets\n",
        "# Checar o formato do dataset de teste e alvos\n",
        "print (\"Test: \" , X_test.shape, y_test.shape)"
      ],
      "execution_count": 32,
      "outputs": [
        {
          "output_type": "stream",
          "text": [
            "Train: (242, 13) (242,)\n",
            "Test:  (61, 13) (61,)\n"
          ],
          "name": "stdout"
        }
      ]
    },
    {
      "cell_type": "markdown",
      "metadata": {
        "id": "I2x0kuoh3lGT",
        "colab_type": "text"
      },
      "source": [
        "# Logistic Regression\n",
        "\n",
        "The statistical technique that we are going to use for this machine learning is logistic regression. This technique is used to predict something (in our case our binary variable `num`) from categorical variables.\n",
        "\n",
        "Again we are going to import scikit-learn tools to handle this job for us.\n"
      ]
    },
    {
      "cell_type": "code",
      "metadata": {
        "id": "0DsCu-6O3nRO",
        "colab_type": "code",
        "colab": {}
      },
      "source": [
        "# Import the LogReg model from sklearn\n",
        "# Importar o LogReg do sklearn\n",
        "from sklearn.linear_model import LogisticRegression\n",
        "# Import the 'metrics' module, which includes important metrics we may want to use\n",
        "# Importar o modulo 'metrics' que inclui metricas que queremos usar\n",
        "from sklearn import metrics"
      ],
      "execution_count": 0,
      "outputs": []
    },
    {
      "cell_type": "markdown",
      "metadata": {
        "id": "l0MOWzVy3suo",
        "colab_type": "text"
      },
      "source": [
        "## Training the model\n",
        "\n",
        "With a line of code using the method fit() we can train or machine learning model and after that check it's accuracy."
      ]
    },
    {
      "cell_type": "code",
      "metadata": {
        "id": "QrRWaU0g3utO",
        "colab_type": "code",
        "colab": {}
      },
      "source": [
        "# Create a logistic regression object\n",
        "# Criar um objeto logistic regression\n",
        "reg = LogisticRegression(C=0.01)"
      ],
      "execution_count": 0,
      "outputs": []
    },
    {
      "cell_type": "code",
      "metadata": {
        "id": "nwaSvBAQ3u3S",
        "colab_type": "code",
        "outputId": "a01b8c71-6861-4040-84e3-a47155496fd0",
        "colab": {
          "base_uri": "https://localhost:8080/",
          "height": 108
        }
      },
      "source": [
        "# Fit our train inputs\n",
        "# Usar metodo fit para treinar as entradas\n",
        "reg.fit(X_train,y_train)"
      ],
      "execution_count": 35,
      "outputs": [
        {
          "output_type": "execute_result",
          "data": {
            "text/plain": [
              "LogisticRegression(C=0.01, class_weight=None, dual=False, fit_intercept=True,\n",
              "                   intercept_scaling=1, l1_ratio=None, max_iter=100,\n",
              "                   multi_class='auto', n_jobs=None, penalty='l2',\n",
              "                   random_state=None, solver='lbfgs', tol=0.0001, verbose=0,\n",
              "                   warm_start=False)"
            ]
          },
          "metadata": {
            "tags": []
          },
          "execution_count": 35
        }
      ]
    },
    {
      "cell_type": "code",
      "metadata": {
        "id": "NNLCF08Z3vBM",
        "colab_type": "code",
        "outputId": "166fdaac-b998-4b18-d461-7cc7594159f0",
        "colab": {
          "base_uri": "https://localhost:8080/",
          "height": 35
        }
      },
      "source": [
        "# Assess the train accuracy of the model\n",
        "# Avaliar a precisao de treino do modelo\n",
        "reg.score(X_train,y_train)"
      ],
      "execution_count": 36,
      "outputs": [
        {
          "output_type": "execute_result",
          "data": {
            "text/plain": [
              "0.8471074380165289"
            ]
          },
          "metadata": {
            "tags": []
          },
          "execution_count": 36
        }
      ]
    },
    {
      "cell_type": "markdown",
      "metadata": {
        "id": "N4cdPn0537jE",
        "colab_type": "text"
      },
      "source": [
        "##Manually check the accuracy"
      ]
    },
    {
      "cell_type": "code",
      "metadata": {
        "id": "uL1NMSqQ4AGm",
        "colab_type": "code",
        "outputId": "b658f234-51e9-4f81-c793-8fe00500d03c",
        "colab": {
          "base_uri": "https://localhost:8080/",
          "height": 217
        }
      },
      "source": [
        "# find the model outputs according to our model\n",
        "# Achar as saidas do modelo de acordo com o nosso\n",
        "model_outputs = reg.predict(X_train)\n",
        "model_outputs"
      ],
      "execution_count": 37,
      "outputs": [
        {
          "output_type": "execute_result",
          "data": {
            "text/plain": [
              "array([0, 0, 1, 1, 1, 1, 1, 0, 0, 0, 0, 0, 0, 0, 1, 1, 0, 0, 1, 1, 1, 0,\n",
              "       0, 0, 0, 0, 0, 0, 1, 0, 0, 1, 0, 0, 1, 0, 0, 1, 0, 0, 0, 0, 1, 0,\n",
              "       0, 0, 0, 0, 0, 0, 1, 1, 0, 0, 0, 0, 0, 1, 0, 0, 1, 0, 1, 0, 0, 0,\n",
              "       1, 0, 0, 0, 1, 1, 1, 0, 1, 0, 1, 1, 0, 0, 0, 0, 1, 0, 1, 0, 0, 1,\n",
              "       1, 1, 0, 0, 1, 1, 1, 1, 0, 1, 1, 1, 0, 0, 1, 1, 1, 1, 0, 0, 0, 0,\n",
              "       0, 1, 1, 0, 1, 0, 0, 0, 0, 0, 1, 1, 1, 0, 0, 1, 0, 0, 0, 0, 0, 0,\n",
              "       1, 1, 0, 1, 1, 0, 0, 0, 0, 0, 1, 0, 1, 0, 0, 1, 1, 0, 0, 0, 1, 0,\n",
              "       1, 0, 0, 1, 0, 0, 1, 0, 0, 0, 0, 0, 0, 1, 1, 0, 1, 0, 0, 0, 1, 1,\n",
              "       1, 1, 1, 1, 0, 1, 1, 0, 0, 0, 1, 1, 1, 0, 1, 0, 0, 0, 1, 0, 0, 0,\n",
              "       0, 0, 1, 0, 0, 0, 1, 0, 1, 0, 1, 1, 0, 0, 1, 0, 0, 0, 0, 0, 0, 0,\n",
              "       0, 0, 1, 0, 0, 0, 1, 0, 1, 0, 0, 1, 1, 1, 1, 1, 0, 1, 0, 1, 1, 1])"
            ]
          },
          "metadata": {
            "tags": []
          },
          "execution_count": 37
        }
      ]
    },
    {
      "cell_type": "code",
      "metadata": {
        "id": "9yGk9ZC44AP9",
        "colab_type": "code",
        "outputId": "d95ee873-3ddd-4c10-c981-97e58e7d6a46",
        "colab": {
          "base_uri": "https://localhost:8080/",
          "height": 235
        }
      },
      "source": [
        "# Compare them with the targets\n",
        "# Comparar elas com os alvos\n",
        "y_train"
      ],
      "execution_count": 38,
      "outputs": [
        {
          "output_type": "execute_result",
          "data": {
            "text/plain": [
              "197    0\n",
              "0      0\n",
              "265    1\n",
              "24     1\n",
              "292    1\n",
              "      ..\n",
              "71     1\n",
              "278    1\n",
              "218    0\n",
              "223    1\n",
              "271    0\n",
              "Name: num, Length: 242, dtype: int64"
            ]
          },
          "metadata": {
            "tags": []
          },
          "execution_count": 38
        }
      ]
    },
    {
      "cell_type": "code",
      "metadata": {
        "id": "wpNqgE9r4Aex",
        "colab_type": "code",
        "outputId": "968390b2-c2fd-40c8-a572-91ce871bbd76",
        "colab": {
          "base_uri": "https://localhost:8080/",
          "height": 235
        }
      },
      "source": [
        "# Actually compare the two variables\n",
        "# Ou melhor vamos comparar as 2 variaveis\n",
        "model_outputs == y_train"
      ],
      "execution_count": 39,
      "outputs": [
        {
          "output_type": "execute_result",
          "data": {
            "text/plain": [
              "197     True\n",
              "0       True\n",
              "265     True\n",
              "24      True\n",
              "292     True\n",
              "       ...  \n",
              "71      True\n",
              "278    False\n",
              "218    False\n",
              "223     True\n",
              "271    False\n",
              "Name: num, Length: 242, dtype: bool"
            ]
          },
          "metadata": {
            "tags": []
          },
          "execution_count": 39
        }
      ]
    },
    {
      "cell_type": "code",
      "metadata": {
        "id": "meY4mUMC4LcA",
        "colab_type": "code",
        "outputId": "d073b075-ad91-4cad-bc45-c5bd8dd12143",
        "colab": {
          "base_uri": "https://localhost:8080/",
          "height": 35
        }
      },
      "source": [
        "# find out in how many instances we predicted correctly\n",
        "# descobrir quantas instancias nosso modelo acertou\n",
        "np.sum((model_outputs==y_train))"
      ],
      "execution_count": 40,
      "outputs": [
        {
          "output_type": "execute_result",
          "data": {
            "text/plain": [
              "205"
            ]
          },
          "metadata": {
            "tags": []
          },
          "execution_count": 40
        }
      ]
    },
    {
      "cell_type": "code",
      "metadata": {
        "id": "s1ZsTmgA4Lhg",
        "colab_type": "code",
        "outputId": "900ac3b8-92e7-4125-d792-497011422062",
        "colab": {
          "base_uri": "https://localhost:8080/",
          "height": 35
        }
      },
      "source": [
        "# get the total number of instances\n",
        "# informar o numero total de instacias\n",
        "model_outputs.shape[0]"
      ],
      "execution_count": 41,
      "outputs": [
        {
          "output_type": "execute_result",
          "data": {
            "text/plain": [
              "242"
            ]
          },
          "metadata": {
            "tags": []
          },
          "execution_count": 41
        }
      ]
    },
    {
      "cell_type": "markdown",
      "metadata": {
        "id": "beCRuX_RQ4QV",
        "colab_type": "text"
      },
      "source": [
        "\n",
        "Wow our model has about 85% accuracy, that's great! Let's double check that accuracy by calculating it…"
      ]
    },
    {
      "cell_type": "code",
      "metadata": {
        "id": "DwLFTKsC4Lqt",
        "colab_type": "code",
        "outputId": "5e04fd34-6026-451e-86b7-2c26bcb5545c",
        "colab": {
          "base_uri": "https://localhost:8080/",
          "height": 35
        }
      },
      "source": [
        "# calculate the accuracy of the model\n",
        "# calcular a previsao do modelo\n",
        "np.sum((model_outputs==y_train)) / model_outputs.shape[0]"
      ],
      "execution_count": 42,
      "outputs": [
        {
          "output_type": "execute_result",
          "data": {
            "text/plain": [
              "0.8471074380165289"
            ]
          },
          "metadata": {
            "tags": []
          },
          "execution_count": 42
        }
      ]
    },
    {
      "cell_type": "markdown",
      "metadata": {
        "id": "dnmG_cjx4UT0",
        "colab_type": "text"
      },
      "source": [
        "## Testing the model\n",
        "\n",
        "Our model is trained by now, so we are going to test our model above. To do this since we want to predict if a patient has or no heart disease, we asses the test accuracy of the model."
      ]
    },
    {
      "cell_type": "code",
      "metadata": {
        "id": "L7zhHku74Y7D",
        "colab_type": "code",
        "outputId": "00fb81cf-bb0f-4c05-b72c-6520e4ab6688",
        "colab": {
          "base_uri": "https://localhost:8080/",
          "height": 35
        }
      },
      "source": [
        "# assess the test accuracy of the model\n",
        "# avaliar as previsoes de teste do modelo\n",
        "reg.score(X_test,y_test)"
      ],
      "execution_count": 43,
      "outputs": [
        {
          "output_type": "execute_result",
          "data": {
            "text/plain": [
              "0.8688524590163934"
            ]
          },
          "metadata": {
            "tags": []
          },
          "execution_count": 43
        }
      ]
    },
    {
      "cell_type": "code",
      "metadata": {
        "id": "CzrK_Byo4ZDu",
        "colab_type": "code",
        "outputId": "922bb0c3-3e1c-4f48-c7af-e0dbd9624dd0",
        "colab": {
          "base_uri": "https://localhost:8080/",
          "height": 181
        }
      },
      "source": [
        "# forecast and probability based in our test dataset\n",
        "# previsões e probabilidades em cima do dataset de teste\n",
        "y_pred = reg.predict(X_test)\n",
        "y_prob = reg.predict_proba(X_test)\n",
        "\n",
        "print(\"y_pred: \\n\", y_pred[0:5])\n",
        "print(\"\\ny_prob: \\n\", y_prob[0:5])"
      ],
      "execution_count": 44,
      "outputs": [
        {
          "output_type": "stream",
          "text": [
            "y_pred: \n",
            " [0 0 0 0 0]\n",
            "\n",
            "y_prob: \n",
            " [[0.83119845 0.16880155]\n",
            " [0.74331906 0.25668094]\n",
            " [0.79284865 0.20715135]\n",
            " [0.58561585 0.41438415]\n",
            " [0.68165606 0.31834394]]\n"
          ],
          "name": "stdout"
        }
      ]
    },
    {
      "cell_type": "markdown",
      "metadata": {
        "id": "2dDTTnURQhRk",
        "colab_type": "text"
      },
      "source": [
        "When performing the test accuracy our model scored almost 87%.\n",
        " \n",
        "We also extract probabilities for every class, as you can see above. The variable y_pred is, as the name suggests, what our algorithm predicted and y_prob is the probability of our model predict zeros (left numbers) and ones (right numbers)"
      ]
    },
    {
      "cell_type": "markdown",
      "metadata": {
        "id": "ig-Yd1DDDIEM",
        "colab_type": "text"
      },
      "source": [
        "## Confusion Martrix\n",
        "\n",
        "A great way to verify our algorithm accuracy is using the Confusion Matrix.\n",
        "\n",
        "For each class it informes the actual values and the predicted values from our model.\n",
        "\n",
        "\n",
        "<p align=center><img src=\"http://sigmoidal.ai/wp-content/uploads/2019/10/6a010534b1db25970b01bb08c97955970d.png\" width=\"200px\"></p>\n",
        "\n",
        "This way is possible to quick identify:\n",
        "\n",
        "* **True Positive — TP:** For example, when a patient has heart disease and our model classifies it as having vascular disease.\n",
        "\n",
        "* **False Positive — FP:** For example, when a patient has heart disease and our model classifies as not having vascular disease.\n",
        "\n",
        "* **True Negative — TN:** For example, when a patient does not have heart disease and our model classifies it as not having vascular disease\n",
        "\n",
        "* **False Negative — FN:** For example, when the patient does not have cardiovascular disease and the model classifies it as having vascular disease"
      ]
    },
    {
      "cell_type": "code",
      "metadata": {
        "id": "x8oRIdYe-Viu",
        "colab_type": "code",
        "outputId": "51496e99-0550-47ea-c623-d8f820927bc0",
        "colab": {
          "base_uri": "https://localhost:8080/",
          "height": 297
        }
      },
      "source": [
        "# importing the librarie for confusion matriz\n",
        "# importar bibliotecas para a matriz da confusao\n",
        "from sklearn.metrics import confusion_matrix\n",
        "fig, ax = plt.subplots()\n",
        "sns.heatmap(confusion_matrix(y_test, y_pred), annot=True, ax=ax, cmap='Blues')\n",
        "\n",
        "ax.set_title(\"Confusion Matriz\")\n",
        "ax.set_ylabel(\"True label\")\n",
        "ax.set_xlabel(\"Predicted Label\")\n",
        "\n",
        "plt.tight_layout()"
      ],
      "execution_count": 45,
      "outputs": [
        {
          "output_type": "display_data",
          "data": {
            "image/png": "[encoded data removed]",
            "text/plain": [
              "<Figure size 432x288 with 2 Axes>"
            ]
          },
          "metadata": {
            "tags": []
          }
        }
      ]
    },
    {
      "cell_type": "markdown",
      "metadata": {
        "id": "B_fZzdmZQERi",
        "colab_type": "text"
      },
      "source": [
        "\n",
        "We can also print a classification report as you can see below.\n",
        "\n",
        "\n"
      ]
    },
    {
      "cell_type": "code",
      "metadata": {
        "id": "q5OM_ABGCqsO",
        "colab_type": "code",
        "outputId": "e54aa8f0-3f58-4340-fe1a-a1e45ddee64b",
        "colab": {
          "base_uri": "https://localhost:8080/",
          "height": 181
        }
      },
      "source": [
        "# CLassification report\n",
        "# Relatorio de classificacao \n",
        "from sklearn.metrics import classification_report\n",
        "print(classification_report(y_test, y_pred))"
      ],
      "execution_count": 46,
      "outputs": [
        {
          "output_type": "stream",
          "text": [
            "              precision    recall  f1-score   support\n",
            "\n",
            "           0       0.82      0.97      0.89        33\n",
            "           1       0.95      0.75      0.84        28\n",
            "\n",
            "    accuracy                           0.87        61\n",
            "   macro avg       0.89      0.86      0.86        61\n",
            "weighted avg       0.88      0.87      0.87        61\n",
            "\n"
          ],
          "name": "stdout"
        }
      ]
    },
    {
      "cell_type": "markdown",
      "metadata": {
        "id": "e7GEml8ePutJ",
        "colab_type": "text"
      },
      "source": [
        "\n",
        "*   **Precision:** Accuracy of positive predictions.\n",
        "*   **Recall:** Fraction of positives that were correctly identified.\n",
        "\n",
        "*  **F1- score:** Is a weighted harmonic mean of precision and recall such that the best score is 1.0 and the worst is 0.0\n",
        "\n",
        "\n",
        "\n",
        "\n",
        "\n",
        "\n",
        "\n",
        "\n"
      ]
    },
    {
      "cell_type": "markdown",
      "metadata": {
        "id": "zMQ_UPy7DdfK",
        "colab_type": "text"
      },
      "source": [
        "# Conclusion\n",
        "\n",
        "This is one way of doing a Machine Learning model, we can improve the accuracy of our model in many ways such as get more data, feature selection, evaluate metrics and the list goes on.\n",
        "\n",
        "Hope you have enjoy it!"
      ]
    }
  ]
}